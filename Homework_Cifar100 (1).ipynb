{
  "cells": [
    {
      "cell_type": "markdown",
      "metadata": {
        "id": "YKcu5pJ0cwHg"
      },
      "source": [
        "# Homework 1: How much data do you need? Using CIFAR-100\n",
        "Advanced AI Methods \\\\\n",
        "Dr. Kerby"
      ]
    },
    {
      "cell_type": "markdown",
      "metadata": {
        "id": "gple3Yuxem1H"
      },
      "source": [
        "## Question 1: Create a CNN to classify CIFAR-100\n",
        "Use the [CIFAR-100](https://www.tensorflow.org/datasets/catalog/cifar100) dataset. This [link](https://www.cs.toronto.edu/~kriz/cifar.html) also has some useful information.\n",
        "\n",
        "You can utilize `keras.datasets.cifar100.load_data()` to import the dataset as `numpy ndarrays` or `tfds.load('cifar100')` to import the dataset as `tf.data.Dataset`.\n",
        "\n",
        "You must utilize transfer learning. You are welcome to choose any of the expert CNN models available in [Keras Applications](https://keras.io/api/applications/). I think EfficientNetV2 is probably the best, but it would be fun to see if the results hold for other expert CNNs, so feel free to try a different one and we'll compare.\n",
        "\n",
        "Your image classifier should output both labels (the coarse and fine labels). First create a classifier for all 100 classes and utilizing all available training data (500 images per class). Report your accuracy for both training and testing, for both the coarse and fine labels. This accuracy will serve as a baseline accuracy for later on. Plot several misclassified images. Plot a confusion matrix for the coarse labels."
      ]
    },
    {
      "cell_type": "code",
      "execution_count": null,
      "metadata": {
        "id": "fRnkLqYRInRf",
        "colab": {
          "base_uri": "https://localhost:8080/"
        },
        "outputId": "9ae39fc2-5942-4fe7-b8c6-ed433001a5a5"
      },
      "outputs": [
        {
          "output_type": "stream",
          "name": "stdout",
          "text": [
            "Downloading data from https://www.cs.toronto.edu/~kriz/cifar-100-python.tar.gz\n",
            "169009152/169001437 [==============================] - 11s 0us/step\n",
            "169017344/169001437 [==============================] - 11s 0us/step\n"
          ]
        }
      ],
      "source": [
        "import numpy as np\n",
        "import pandas as pd\n",
        "import matplotlib.pyplot as plt\n",
        "import tensorflow as tf\n",
        "from tensorflow import keras\n",
        "import itertools\n",
        "import tensorflow_datasets as tfds\n",
        "from sklearn.datasets import make_multilabel_classification\n",
        "\n",
        "from sklearn.model_selection import train_test_split\n",
        "cifar100 = keras.datasets.cifar100\n",
        "np.random.seed(42)\n",
        "tf.random.set_seed(42)\n",
        "\n",
        "(X_train, y_train), (X_test, y_test) = cifar100.load_data(label_mode = 'fine')\n",
        "X_train_tr, X_train_v, y_train_tr, y_train_v= train_test_split(X_train, y_train, test_size=0.10)\n",
        "(X_train_c, y_train_c), (X_test_c, y_test_c) = cifar100.load_data(label_mode = 'coarse')\n",
        "X_train_tr_c, X_train_v_c, y_train_tr_c, y_train_v_c= train_test_split(X_train_c, y_train_c, test_size=0.10)"
      ]
    },
    {
      "cell_type": "code",
      "execution_count": null,
      "metadata": {
        "colab": {
          "base_uri": "https://localhost:8080/"
        },
        "id": "1rvSpG8il_XO",
        "outputId": "bef666d0-a53f-40d6-d1b0-f240be2347bb"
      },
      "outputs": [
        {
          "output_type": "execute_result",
          "data": {
            "text/plain": [
              "(45000, 32, 32, 3)"
            ]
          },
          "metadata": {},
          "execution_count": 3
        }
      ],
      "source": [
        "X_train_tr.shape"
      ]
    },
    {
      "cell_type": "code",
      "execution_count": null,
      "metadata": {
        "id": "CDmszS19G_kd"
      },
      "outputs": [],
      "source": [
        "ds_train = tf.data.Dataset.from_tensor_slices( (X_train_tr, y_train_tr) )\n",
        "ds_valid = tf.data.Dataset.from_tensor_slices((X_train_v, y_train_v))\n",
        "ds_test = tf.data.Dataset.from_tensor_slices((X_test, y_test))\n",
        "\n",
        "ds_train_c = tf.data.Dataset.from_tensor_slices( (X_train_tr_c, y_train_tr_c) )\n",
        "ds_valid_c = tf.data.Dataset.from_tensor_slices((X_train_v_c, y_train_v_c))\n",
        "ds_test_c = tf.data.Dataset.from_tensor_slices((X_test_c, y_test_c))"
      ]
    },
    {
      "cell_type": "code",
      "execution_count": null,
      "metadata": {
        "colab": {
          "base_uri": "https://localhost:8080/",
          "height": 883
        },
        "id": "5MzKMQMt-DDx",
        "outputId": "61c3058b-b859-4768-e2b1-617829a737e3"
      },
      "outputs": [
        {
          "output_type": "stream",
          "name": "stdout",
          "text": [
            "<TensorSliceDataset element_spec=(TensorSpec(shape=(32, 32, 3), dtype=tf.uint8, name=None), TensorSpec(shape=(1,), dtype=tf.int64, name=None))>\n"
          ]
        },
        {
          "output_type": "display_data",
          "data": {
            "text/plain": [
              "<Figure size 432x288 with 1 Axes>"
            ],
            "image/png": "[encoded data removed]"
          },
          "metadata": {
            "needs_background": "light"
          }
        },
        {
          "output_type": "stream",
          "name": "stdout",
          "text": [
            "<TensorSliceDataset element_spec=(TensorSpec(shape=(32, 32, 3), dtype=tf.uint8, name=None), TensorSpec(shape=(1,), dtype=tf.int64, name=None))>\n"
          ]
        },
        {
          "output_type": "display_data",
          "data": {
            "text/plain": [
              "<Figure size 432x288 with 1 Axes>"
            ],
            "image/png": "[encoded data removed]"
          },
          "metadata": {
            "needs_background": "light"
          }
        },
        {
          "output_type": "stream",
          "name": "stdout",
          "text": [
            "<TensorSliceDataset element_spec=(TensorSpec(shape=(32, 32, 3), dtype=tf.uint8, name=None), TensorSpec(shape=(1,), dtype=tf.int64, name=None))>\n"
          ]
        },
        {
          "output_type": "display_data",
          "data": {
            "text/plain": [
              "<Figure size 432x288 with 1 Axes>"
            ],
            "image/png": "[encoded data removed]"
          },
          "metadata": {
            "needs_background": "light"
          }
        }
      ],
      "source": [
        "import matplotlib.pyplot as plt\n",
        "for element in ds_train.take(3):\n",
        "  image, label = element[0], element[1] \n",
        "  image.shape\n",
        "#  type(image.numpy()[:,:,0])\n",
        "#  type(image)\n",
        "  plt.imshow(image.numpy()[:,:,0])\n",
        "  type(image.numpy())\n",
        "  type(label)\n",
        "  print(ds_train)\n",
        "  #coarse_id_fine_id[id] = fine_labels_ids\n",
        "  plt.title(\"Class\" + \" \" +str(label.numpy()))\n",
        "  plt.show()"
      ]
    },
    {
      "cell_type": "code",
      "execution_count": null,
      "metadata": {
        "colab": {
          "base_uri": "https://localhost:8080/",
          "height": 883
        },
        "id": "AGcLSTJy-WVa",
        "outputId": "802d014d-9200-4d13-fafb-7379fc187ba7"
      },
      "outputs": [
        {
          "output_type": "stream",
          "name": "stdout",
          "text": [
            "<TensorSliceDataset element_spec=(TensorSpec(shape=(32, 32, 3), dtype=tf.uint8, name=None), TensorSpec(shape=(1,), dtype=tf.int64, name=None))>\n"
          ]
        },
        {
          "output_type": "display_data",
          "data": {
            "text/plain": [
              "<Figure size 432x288 with 1 Axes>"
            ],
            "image/png": "[encoded data removed]"
          },
          "metadata": {
            "needs_background": "light"
          }
        },
        {
          "output_type": "stream",
          "name": "stdout",
          "text": [
            "<TensorSliceDataset element_spec=(TensorSpec(shape=(32, 32, 3), dtype=tf.uint8, name=None), TensorSpec(shape=(1,), dtype=tf.int64, name=None))>\n"
          ]
        },
        {
          "output_type": "display_data",
          "data": {
            "text/plain": [
              "<Figure size 432x288 with 1 Axes>"
            ],
            "image/png": "[encoded data removed]"
          },
          "metadata": {
            "needs_background": "light"
          }
        },
        {
          "output_type": "stream",
          "name": "stdout",
          "text": [
            "<TensorSliceDataset element_spec=(TensorSpec(shape=(32, 32, 3), dtype=tf.uint8, name=None), TensorSpec(shape=(1,), dtype=tf.int64, name=None))>\n"
          ]
        },
        {
          "output_type": "display_data",
          "data": {
            "text/plain": [
              "<Figure size 432x288 with 1 Axes>"
            ],
            "image/png": "[encoded data removed]"
          },
          "metadata": {
            "needs_background": "light"
          }
        }
      ],
      "source": [
        "import matplotlib.pyplot as plt\n",
        "for element in ds_train_c.take(3):\n",
        "  image, label = element[0], element[1] # now its coarse\n",
        "  image.shape\n",
        "#  type(image.numpy()[:,:,0])\n",
        "#  type(image)\n",
        "  plt.imshow(image.numpy()[:,:,0])\n",
        "  type(image.numpy())\n",
        "  type(label)\n",
        "  print(ds_train)\n",
        "  #coarse_id_fine_id[id] = fine_labels_ids\n",
        "  plt.title(\"Class\" + \" \" +str(label.numpy()))\n",
        "  plt.show()"
      ]
    },
    {
      "cell_type": "code",
      "execution_count": null,
      "metadata": {
        "id": "qpRI3hzo2CbJ"
      },
      "outputs": [],
      "source": [
        "# Build pipeline\n",
        "batch = 32\n",
        "\n",
        "def preprocess(image, label):\n",
        "  image = tf.image.resize(image,[224,224])\n",
        "  #label = tf.label_mode(int(\"coarse\"))\n",
        "  return (image, label)\n",
        "\n",
        "\n",
        "def data_aug(image, label):\n",
        "  image = tf.image.random_flip_left_right(image)\n",
        "  image = tf.image.random_brightness(image, max_delta=63)\n",
        "  image = tf.image.random_contrast(image, lower=0.2, upper=1.8)\n",
        "  return (image, label)\n",
        "#image.shape \n",
        "\n",
        "ds_train=ds_train.map(preprocess).map(data_aug).batch(32).prefetch(1)\n",
        "ds_valid=ds_valid.map(preprocess).batch(32).prefetch(1)\n",
        "ds_test=ds_test.map(preprocess).batch(32).prefetch(1)\n",
        "\n",
        "ds_train_c=ds_train_c.map(preprocess).map(data_aug).batch(32).prefetch(1)\n",
        "ds_valid_c=ds_valid_c.map(preprocess).batch(32).prefetch(1)\n",
        "ds_test_c=ds_test_c.map(preprocess).batch(32).prefetch(1)"
      ]
    },
    {
      "cell_type": "code",
      "execution_count": null,
      "metadata": {
        "id": "DSTduoAe2Gz_",
        "colab": {
          "base_uri": "https://localhost:8080/"
        },
        "outputId": "7553e412-0e06-4835-a070-300fc89b388c"
      },
      "outputs": [
        {
          "output_type": "stream",
          "name": "stdout",
          "text": [
            "Downloading data from https://storage.googleapis.com/tensorflow/keras-applications/efficientnet_v2/efficientnetv2-b0_notop.h5\n",
            "24281088/24274472 [==============================] - 0s 0us/step\n",
            "24289280/24274472 [==============================] - 0s 0us/step\n"
          ]
        }
      ],
      "source": [
        "# Use EfficientNet V2\n",
        "base_model = keras.applications.EfficientNetV2B0(weights=\"imagenet\", \n",
        "                                              include_top=False,\n",
        "                                             input_shape=(224,224,3))\n",
        "global_avg = keras.layers.GlobalAveragePooling2D()(base_model.output)\n",
        "dropout = keras.layers.Dropout(0.005)(global_avg) \n",
        "output = keras.layers.Dense(100, activation=\"softmax\")(dropout)\n",
        "model = keras.models.Model(inputs=base_model.input, outputs=output)"
      ]
    },
    {
      "cell_type": "code",
      "execution_count": null,
      "metadata": {
        "colab": {
          "base_uri": "https://localhost:8080/"
        },
        "id": "4ERKXGjR6Ir0",
        "outputId": "962159cd-bab6-4f21-9e1a-7c3739cee759"
      },
      "outputs": [
        {
          "output_type": "stream",
          "name": "stdout",
          "text": [
            "Epoch 1/50\n",
            "1407/1407 - 67s - loss: 1.8280 - accuracy: 0.5415 - val_loss: 1.0427 - val_accuracy: 0.7028 - 67s/epoch - 47ms/step\n",
            "Epoch 2/50\n",
            "1407/1407 - 58s - loss: 1.2385 - accuracy: 0.6625 - val_loss: 0.9499 - val_accuracy: 0.7256 - 58s/epoch - 41ms/step\n",
            "Epoch 3/50\n",
            "1407/1407 - 68s - loss: 1.0810 - accuracy: 0.7039 - val_loss: 0.9158 - val_accuracy: 0.7362 - 68s/epoch - 48ms/step\n",
            "Epoch 4/50\n",
            "1407/1407 - 68s - loss: 0.9766 - accuracy: 0.7315 - val_loss: 0.9005 - val_accuracy: 0.7392 - 68s/epoch - 48ms/step\n",
            "Epoch 5/50\n",
            "1407/1407 - 65s - loss: 0.8967 - accuracy: 0.7538 - val_loss: 0.8947 - val_accuracy: 0.7396 - 65s/epoch - 46ms/step\n",
            "Epoch 6/50\n",
            "1407/1407 - 67s - loss: 0.8315 - accuracy: 0.7718 - val_loss: 0.8943 - val_accuracy: 0.7406 - 67s/epoch - 48ms/step\n",
            "Epoch 7/50\n",
            "1407/1407 - 66s - loss: 0.7771 - accuracy: 0.7893 - val_loss: 0.8968 - val_accuracy: 0.7404 - 66s/epoch - 47ms/step\n",
            "Epoch 8/50\n",
            "1407/1407 - 65s - loss: 0.7310 - accuracy: 0.8033 - val_loss: 0.9010 - val_accuracy: 0.7428 - 65s/epoch - 46ms/step\n",
            "Epoch 9/50\n",
            "1407/1407 - 64s - loss: 0.6892 - accuracy: 0.8153 - val_loss: 0.9084 - val_accuracy: 0.7410 - 64s/epoch - 46ms/step\n",
            "Epoch 10/50\n",
            "1407/1407 - 66s - loss: 0.6527 - accuracy: 0.8254 - val_loss: 0.9152 - val_accuracy: 0.7416 - 66s/epoch - 47ms/step\n",
            "Epoch 11/50\n",
            "1407/1407 - 67s - loss: 0.6198 - accuracy: 0.8374 - val_loss: 0.9237 - val_accuracy: 0.7398 - 67s/epoch - 47ms/step\n",
            "CPU times: user 23min 28s, sys: 5min 37s, total: 29min 5s\n",
            "Wall time: 13min 53s\n"
          ]
        }
      ],
      "source": [
        "# Freeze transferred layers and train\n",
        "%%time\n",
        "for layer in base_model.layers:\n",
        "    layer.trainable = False\n",
        "\n",
        "model.compile(loss=\"sparse_categorical_crossentropy\",\n",
        "                optimizer=keras.optimizers.Nadam(1e-3),\n",
        "                metrics=[\"accuracy\"])\n",
        "\n",
        "history = model.fit(ds_train, \n",
        "                    epochs=50, validation_data=ds_valid, verbose = 2,\n",
        "                    callbacks=[keras.callbacks.EarlyStopping(patience=5)])"
      ]
    },
    {
      "cell_type": "code",
      "execution_count": null,
      "metadata": {
        "id": "nCRh_YDG6U9c",
        "colab": {
          "base_uri": "https://localhost:8080/"
        },
        "outputId": "e2bc7ed9-7ca2-4697-bfe1-7cb66c39e054"
      },
      "outputs": [
        {
          "output_type": "stream",
          "name": "stdout",
          "text": [
            "Epoch 1/50\n",
            "1407/1407 - 209s - loss: 0.9661 - accuracy: 0.7261 - val_loss: 0.7032 - val_accuracy: 0.7926 - 209s/epoch - 149ms/step\n",
            "Epoch 2/50\n",
            "1407/1407 - 182s - loss: 0.2743 - accuracy: 0.9225 - val_loss: 0.7019 - val_accuracy: 0.8072 - 182s/epoch - 129ms/step\n",
            "Epoch 3/50\n",
            "1407/1407 - 181s - loss: 0.0660 - accuracy: 0.9886 - val_loss: 0.7361 - val_accuracy: 0.8060 - 181s/epoch - 129ms/step\n",
            "Epoch 4/50\n",
            "1407/1407 - 181s - loss: 0.0153 - accuracy: 0.9993 - val_loss: 0.7774 - val_accuracy: 0.8134 - 181s/epoch - 129ms/step\n",
            "Epoch 5/50\n",
            "1407/1407 - 181s - loss: 0.0224 - accuracy: 0.9948 - val_loss: 0.9188 - val_accuracy: 0.7910 - 181s/epoch - 128ms/step\n",
            "Epoch 6/50\n",
            "1407/1407 - 181s - loss: 0.0571 - accuracy: 0.9853 - val_loss: 0.8002 - val_accuracy: 0.8126 - 181s/epoch - 129ms/step\n",
            "Epoch 7/50\n",
            "1407/1407 - 181s - loss: 0.0124 - accuracy: 0.9984 - val_loss: 0.8111 - val_accuracy: 0.8234 - 181s/epoch - 129ms/step\n",
            "CPU times: user 33min 20s, sys: 3min 19s, total: 36min 39s\n",
            "Wall time: 22min 57s\n"
          ]
        }
      ],
      "source": [
        "# Unfreeze layers and train\n",
        "%%time\n",
        "for layer in base_model.layers:\n",
        "    layer.trainable = True\n",
        "\n",
        "model.compile(loss=\"sparse_categorical_crossentropy\",\n",
        "                optimizer=keras.optimizers.Nadam(1e-4), # need smaller lr\n",
        "                metrics=[\"accuracy\"])\n",
        "\n",
        "history = model.fit(ds_train,\n",
        "                    epochs=50,\n",
        "                    validation_data=ds_valid, verbose = 2,\n",
        "                    callbacks=[keras.callbacks.EarlyStopping(patience=5)])"
      ]
    },
    {
      "cell_type": "code",
      "execution_count": null,
      "metadata": {
        "id": "YkY4EfrxQAId",
        "colab": {
          "base_uri": "https://localhost:8080/"
        },
        "outputId": "3cfa8a43-befb-4fb1-be48-addf42f3fb46"
      },
      "outputs": [
        {
          "output_type": "stream",
          "name": "stdout",
          "text": [
            "313/313 [==============================] - 10s 32ms/step - loss: 0.8446 - accuracy: 0.8144\n"
          ]
        }
      ],
      "source": [
        "history = model.evaluate(ds_test)"
      ]
    },
    {
      "cell_type": "code",
      "source": [
        "y_pred_fine = model.predict(ds_test)\n",
        "predicted_categories = tf.argmax(y_pred_fine, axis=1)\n",
        "true_categories = tf.concat([y for x, y in ds_test], axis=0)\n",
        "from sklearn import metrics\n",
        "\n",
        "from tensorflow.python.ops.numpy_ops import np_config\n",
        "\n",
        "from itertools import chain \n",
        "TT = list(chain(*true_categories.numpy())) \n",
        "\n",
        "np_config.enable_numpy_behavior()\n",
        "PT = predicted_categories.tolist()\n",
        "\n",
        "\n",
        "labels = TT\n",
        "guesses =PT\n",
        "\n",
        "# True values\n",
        "y_true = TT\n",
        "# Predicted values\n",
        "y_pred = PT\n",
        "\n",
        "# Print the confusion matrix\n",
        "print(metrics.confusion_matrix(y_true, y_pred))\n",
        "\n",
        "# Print the precision and recall, among other metrics\n",
        "print(metrics.classification_report(y_true, y_pred, digits=3))"
      ],
      "metadata": {
        "id": "FwFj_U8lTT9B",
        "colab": {
          "base_uri": "https://localhost:8080/"
        },
        "outputId": "61747f84-91d8-49f0-fcfd-8a2470c355f0"
      },
      "execution_count": null,
      "outputs": [
        {
          "output_type": "stream",
          "name": "stdout",
          "text": [
            "[[96  0  0 ...  0  0  0]\n",
            " [ 0 93  0 ...  0  0  0]\n",
            " [ 0  1 72 ...  0  1  0]\n",
            " ...\n",
            " [ 0  0  0 ... 80  0  0]\n",
            " [ 0  0  1 ...  0 64  0]\n",
            " [ 0  0  0 ...  0  0 86]]\n",
            "              precision    recall  f1-score   support\n",
            "\n",
            "           0      0.906     0.960     0.932       100\n",
            "           1      0.861     0.930     0.894       100\n",
            "           2      0.720     0.720     0.720       100\n",
            "           3      0.699     0.720     0.709       100\n",
            "           4      0.698     0.740     0.718       100\n",
            "           5      0.802     0.810     0.806       100\n",
            "           6      0.795     0.890     0.840       100\n",
            "           7      0.882     0.820     0.850       100\n",
            "           8      0.892     0.910     0.901       100\n",
            "           9      0.848     0.890     0.868       100\n",
            "          10      0.702     0.590     0.641       100\n",
            "          11      0.533     0.480     0.505       100\n",
            "          12      0.897     0.870     0.883       100\n",
            "          13      0.918     0.780     0.843       100\n",
            "          14      0.859     0.790     0.823       100\n",
            "          15      0.876     0.850     0.863       100\n",
            "          16      0.889     0.880     0.884       100\n",
            "          17      0.903     0.840     0.870       100\n",
            "          18      0.791     0.870     0.829       100\n",
            "          19      0.764     0.840     0.800       100\n",
            "          20      0.879     0.870     0.874       100\n",
            "          21      0.906     0.960     0.932       100\n",
            "          22      0.901     0.910     0.905       100\n",
            "          23      0.890     0.810     0.848       100\n",
            "          24      0.916     0.870     0.892       100\n",
            "          25      0.800     0.720     0.758       100\n",
            "          26      0.802     0.810     0.806       100\n",
            "          27      0.745     0.820     0.781       100\n",
            "          28      0.856     0.830     0.843       100\n",
            "          29      0.868     0.790     0.827       100\n",
            "          30      0.768     0.760     0.764       100\n",
            "          31      0.830     0.880     0.854       100\n",
            "          32      0.839     0.730     0.781       100\n",
            "          33      0.718     0.740     0.729       100\n",
            "          34      0.897     0.870     0.883       100\n",
            "          35      0.593     0.510     0.548       100\n",
            "          36      0.750     0.930     0.830       100\n",
            "          37      0.817     0.760     0.788       100\n",
            "          38      0.736     0.810     0.771       100\n",
            "          39      0.969     0.950     0.960       100\n",
            "          40      0.840     0.790     0.814       100\n",
            "          41      0.942     0.970     0.956       100\n",
            "          42      0.761     0.830     0.794       100\n",
            "          43      0.948     0.910     0.929       100\n",
            "          44      0.804     0.780     0.792       100\n",
            "          45      0.717     0.710     0.714       100\n",
            "          46      0.587     0.710     0.643       100\n",
            "          47      0.664     0.750     0.704       100\n",
            "          48      0.942     0.980     0.961       100\n",
            "          49      0.800     0.880     0.838       100\n",
            "          50      0.702     0.660     0.680       100\n",
            "          51      0.827     0.910     0.867       100\n",
            "          52      0.651     0.690     0.670       100\n",
            "          53      0.883     0.980     0.929       100\n",
            "          54      0.921     0.820     0.868       100\n",
            "          55      0.624     0.680     0.651       100\n",
            "          56      0.915     0.860     0.887       100\n",
            "          57      0.890     0.810     0.848       100\n",
            "          58      0.939     0.930     0.935       100\n",
            "          59      0.815     0.660     0.729       100\n",
            "          60      0.870     0.800     0.833       100\n",
            "          61      0.772     0.780     0.776       100\n",
            "          62      0.683     0.840     0.753       100\n",
            "          63      0.743     0.840     0.789       100\n",
            "          64      0.831     0.640     0.723       100\n",
            "          65      0.724     0.840     0.778       100\n",
            "          66      0.806     0.830     0.818       100\n",
            "          67      0.786     0.770     0.778       100\n",
            "          68      0.895     0.940     0.917       100\n",
            "          69      0.873     0.890     0.881       100\n",
            "          70      0.824     0.750     0.785       100\n",
            "          71      0.802     0.890     0.844       100\n",
            "          72      0.629     0.610     0.619       100\n",
            "          73      0.711     0.690     0.701       100\n",
            "          74      0.667     0.620     0.642       100\n",
            "          75      0.891     0.980     0.933       100\n",
            "          76      0.939     0.920     0.929       100\n",
            "          77      0.850     0.850     0.850       100\n",
            "          78      0.812     0.780     0.796       100\n",
            "          79      0.800     0.920     0.856       100\n",
            "          80      0.789     0.710     0.747       100\n",
            "          81      0.851     0.800     0.825       100\n",
            "          82      0.888     0.950     0.918       100\n",
            "          83      0.830     0.830     0.830       100\n",
            "          84      0.830     0.830     0.830       100\n",
            "          85      0.948     0.910     0.929       100\n",
            "          86      0.954     0.830     0.888       100\n",
            "          87      0.888     0.950     0.918       100\n",
            "          88      0.829     0.920     0.872       100\n",
            "          89      0.940     0.940     0.940       100\n",
            "          90      0.733     0.880     0.800       100\n",
            "          91      0.888     0.870     0.879       100\n",
            "          92      0.800     0.600     0.686       100\n",
            "          93      0.825     0.800     0.812       100\n",
            "          94      0.969     0.940     0.954       100\n",
            "          95      0.837     0.770     0.802       100\n",
            "          96      0.709     0.610     0.656       100\n",
            "          97      0.964     0.800     0.874       100\n",
            "          98      0.621     0.640     0.631       100\n",
            "          99      0.768     0.860     0.811       100\n",
            "\n",
            "    accuracy                          0.814     10000\n",
            "   macro avg      0.817     0.814     0.814     10000\n",
            "weighted avg      0.817     0.814     0.814     10000\n",
            "\n"
          ]
        }
      ]
    },
    {
      "cell_type": "code",
      "execution_count": null,
      "metadata": {
        "id": "ZR9r79DN_JF9",
        "colab": {
          "base_uri": "https://localhost:8080/"
        },
        "outputId": "4ae4fcaa-0a23-4ad3-b195-d1992c35f96a"
      },
      "outputs": [
        {
          "output_type": "stream",
          "name": "stdout",
          "text": [
            "Epoch 1/50\n",
            "1407/1407 - 64s - loss: 2.4889 - accuracy: 0.6404 - val_loss: 0.4366 - val_accuracy: 0.8822 - 64s/epoch - 46ms/step\n",
            "Epoch 2/50\n",
            "1407/1407 - 68s - loss: 0.4238 - accuracy: 0.8853 - val_loss: 0.3304 - val_accuracy: 0.9046 - 68s/epoch - 48ms/step\n",
            "Epoch 3/50\n",
            "1407/1407 - 67s - loss: 0.3200 - accuracy: 0.9086 - val_loss: 0.2911 - val_accuracy: 0.9126 - 67s/epoch - 47ms/step\n",
            "Epoch 4/50\n",
            "1407/1407 - 67s - loss: 0.2617 - accuracy: 0.9222 - val_loss: 0.2701 - val_accuracy: 0.9194 - 67s/epoch - 48ms/step\n",
            "Epoch 5/50\n",
            "1407/1407 - 65s - loss: 0.2222 - accuracy: 0.9327 - val_loss: 0.2579 - val_accuracy: 0.9220 - 65s/epoch - 46ms/step\n",
            "Epoch 6/50\n",
            "1407/1407 - 67s - loss: 0.1940 - accuracy: 0.9412 - val_loss: 0.2514 - val_accuracy: 0.9246 - 67s/epoch - 47ms/step\n",
            "Epoch 7/50\n",
            "1407/1407 - 65s - loss: 0.1719 - accuracy: 0.9488 - val_loss: 0.2468 - val_accuracy: 0.9260 - 65s/epoch - 46ms/step\n",
            "Epoch 8/50\n",
            "1407/1407 - 66s - loss: 0.1541 - accuracy: 0.9541 - val_loss: 0.2448 - val_accuracy: 0.9278 - 66s/epoch - 47ms/step\n",
            "Epoch 9/50\n",
            "1407/1407 - 66s - loss: 0.1404 - accuracy: 0.9592 - val_loss: 0.2441 - val_accuracy: 0.9300 - 66s/epoch - 47ms/step\n",
            "Epoch 10/50\n",
            "1407/1407 - 64s - loss: 0.1282 - accuracy: 0.9634 - val_loss: 0.2439 - val_accuracy: 0.9294 - 64s/epoch - 46ms/step\n",
            "Epoch 11/50\n",
            "1407/1407 - 66s - loss: 0.1173 - accuracy: 0.9678 - val_loss: 0.2456 - val_accuracy: 0.9282 - 66s/epoch - 47ms/step\n",
            "Epoch 12/50\n",
            "1407/1407 - 65s - loss: 0.1084 - accuracy: 0.9708 - val_loss: 0.2477 - val_accuracy: 0.9290 - 65s/epoch - 46ms/step\n",
            "Epoch 13/50\n",
            "1407/1407 - 67s - loss: 0.1009 - accuracy: 0.9728 - val_loss: 0.2500 - val_accuracy: 0.9290 - 67s/epoch - 48ms/step\n",
            "Epoch 14/50\n",
            "1407/1407 - 66s - loss: 0.0936 - accuracy: 0.9762 - val_loss: 0.2528 - val_accuracy: 0.9274 - 66s/epoch - 47ms/step\n",
            "Epoch 15/50\n",
            "1407/1407 - 65s - loss: 0.0873 - accuracy: 0.9777 - val_loss: 0.2562 - val_accuracy: 0.9272 - 65s/epoch - 46ms/step\n",
            "CPU times: user 31min 50s, sys: 7min 48s, total: 39min 39s\n",
            "Wall time: 19min 1s\n"
          ]
        }
      ],
      "source": [
        "# Freeze transferred layers and train for coarse label\n",
        "%%time\n",
        "for layer in base_model.layers:\n",
        "    layer.trainable = False\n",
        "\n",
        "model.compile(loss=\"sparse_categorical_crossentropy\",\n",
        "                optimizer=keras.optimizers.Nadam(1e-3),\n",
        "                metrics=[\"accuracy\"])\n",
        "\n",
        "history_2 = model.fit(ds_train_c, \n",
        "                    epochs=50, validation_data=ds_valid_c, verbose = 2,\n",
        "                    callbacks=[keras.callbacks.EarlyStopping(patience=5)])"
      ]
    },
    {
      "cell_type": "code",
      "execution_count": null,
      "metadata": {
        "id": "oX5wQ0yl_JWq",
        "colab": {
          "base_uri": "https://localhost:8080/",
          "height": 511
        },
        "outputId": "e1d8efee-1977-455d-edb7-c6998b9916a8"
      },
      "outputs": [
        {
          "output_type": "stream",
          "name": "stdout",
          "text": [
            "Epoch 1/50\n",
            "1407/1407 - 207s - loss: 0.3023 - accuracy: 0.9029 - val_loss: 0.2544 - val_accuracy: 0.9236 - 207s/epoch - 147ms/step\n",
            "Epoch 2/50\n",
            "1407/1407 - 181s - loss: 0.0365 - accuracy: 0.9899 - val_loss: 0.2476 - val_accuracy: 0.9304 - 181s/epoch - 129ms/step\n"
          ]
        },
        {
          "output_type": "error",
          "ename": "KeyboardInterrupt",
          "evalue": "ignored",
          "traceback": [
            "\u001b[0;31m---------------------------------------------------------------------------\u001b[0m",
            "\u001b[0;31mKeyboardInterrupt\u001b[0m                         Traceback (most recent call last)",
            "\u001b[0;32m<timed exec>\u001b[0m in \u001b[0;36m<module>\u001b[0;34m\u001b[0m\n",
            "\u001b[0;32m/usr/local/lib/python3.7/dist-packages/keras/utils/traceback_utils.py\u001b[0m in \u001b[0;36merror_handler\u001b[0;34m(*args, **kwargs)\u001b[0m\n\u001b[1;32m     62\u001b[0m     \u001b[0mfiltered_tb\u001b[0m \u001b[0;34m=\u001b[0m \u001b[0;32mNone\u001b[0m\u001b[0;34m\u001b[0m\u001b[0;34m\u001b[0m\u001b[0m\n\u001b[1;32m     63\u001b[0m     \u001b[0;32mtry\u001b[0m\u001b[0;34m:\u001b[0m\u001b[0;34m\u001b[0m\u001b[0;34m\u001b[0m\u001b[0m\n\u001b[0;32m---> 64\u001b[0;31m       \u001b[0;32mreturn\u001b[0m \u001b[0mfn\u001b[0m\u001b[0;34m(\u001b[0m\u001b[0;34m*\u001b[0m\u001b[0margs\u001b[0m\u001b[0;34m,\u001b[0m \u001b[0;34m**\u001b[0m\u001b[0mkwargs\u001b[0m\u001b[0;34m)\u001b[0m\u001b[0;34m\u001b[0m\u001b[0;34m\u001b[0m\u001b[0m\n\u001b[0m\u001b[1;32m     65\u001b[0m     \u001b[0;32mexcept\u001b[0m \u001b[0mException\u001b[0m \u001b[0;32mas\u001b[0m \u001b[0me\u001b[0m\u001b[0;34m:\u001b[0m  \u001b[0;31m# pylint: disable=broad-except\u001b[0m\u001b[0;34m\u001b[0m\u001b[0;34m\u001b[0m\u001b[0m\n\u001b[1;32m     66\u001b[0m       \u001b[0mfiltered_tb\u001b[0m \u001b[0;34m=\u001b[0m \u001b[0m_process_traceback_frames\u001b[0m\u001b[0;34m(\u001b[0m\u001b[0me\u001b[0m\u001b[0;34m.\u001b[0m\u001b[0m__traceback__\u001b[0m\u001b[0;34m)\u001b[0m\u001b[0;34m\u001b[0m\u001b[0;34m\u001b[0m\u001b[0m\n",
            "\u001b[0;32m/usr/local/lib/python3.7/dist-packages/keras/engine/training.py\u001b[0m in \u001b[0;36mfit\u001b[0;34m(self, x, y, batch_size, epochs, verbose, callbacks, validation_split, validation_data, shuffle, class_weight, sample_weight, initial_epoch, steps_per_epoch, validation_steps, validation_batch_size, validation_freq, max_queue_size, workers, use_multiprocessing)\u001b[0m\n\u001b[1;32m   1371\u001b[0m       \u001b[0mlogs\u001b[0m \u001b[0;34m=\u001b[0m \u001b[0;32mNone\u001b[0m\u001b[0;34m\u001b[0m\u001b[0;34m\u001b[0m\u001b[0m\n\u001b[1;32m   1372\u001b[0m       \u001b[0;32mfor\u001b[0m \u001b[0mepoch\u001b[0m\u001b[0;34m,\u001b[0m \u001b[0miterator\u001b[0m \u001b[0;32min\u001b[0m \u001b[0mdata_handler\u001b[0m\u001b[0;34m.\u001b[0m\u001b[0menumerate_epochs\u001b[0m\u001b[0;34m(\u001b[0m\u001b[0;34m)\u001b[0m\u001b[0;34m:\u001b[0m\u001b[0;34m\u001b[0m\u001b[0;34m\u001b[0m\u001b[0m\n\u001b[0;32m-> 1373\u001b[0;31m         \u001b[0mself\u001b[0m\u001b[0;34m.\u001b[0m\u001b[0mreset_metrics\u001b[0m\u001b[0;34m(\u001b[0m\u001b[0;34m)\u001b[0m\u001b[0;34m\u001b[0m\u001b[0;34m\u001b[0m\u001b[0m\n\u001b[0m\u001b[1;32m   1374\u001b[0m         \u001b[0mcallbacks\u001b[0m\u001b[0;34m.\u001b[0m\u001b[0mon_epoch_begin\u001b[0m\u001b[0;34m(\u001b[0m\u001b[0mepoch\u001b[0m\u001b[0;34m)\u001b[0m\u001b[0;34m\u001b[0m\u001b[0;34m\u001b[0m\u001b[0m\n\u001b[1;32m   1375\u001b[0m         \u001b[0;32mwith\u001b[0m \u001b[0mdata_handler\u001b[0m\u001b[0;34m.\u001b[0m\u001b[0mcatch_stop_iteration\u001b[0m\u001b[0;34m(\u001b[0m\u001b[0;34m)\u001b[0m\u001b[0;34m:\u001b[0m\u001b[0;34m\u001b[0m\u001b[0;34m\u001b[0m\u001b[0m\n",
            "\u001b[0;31mKeyboardInterrupt\u001b[0m: "
          ]
        }
      ],
      "source": [
        "# Unfreeze layers and train for coarse label\n",
        "%%time\n",
        "for layer in base_model.layers:\n",
        "    layer.trainable = True\n",
        "\n",
        "model.compile(loss=\"sparse_categorical_crossentropy\",\n",
        "                optimizer=keras.optimizers.Nadam(1e-4), # need smaller lr\n",
        "                metrics=[\"accuracy\"])\n",
        "\n",
        "#n_epochs = 1\n",
        "history_2 = model.fit(ds_train_c,\n",
        "                    epochs=50,\n",
        "                    validation_data=ds_valid_c, verbose = 2,\n",
        "                    callbacks=[keras.callbacks.EarlyStopping(patience=5)])"
      ]
    },
    {
      "cell_type": "code",
      "execution_count": null,
      "metadata": {
        "id": "i8IPqxDu6o15",
        "colab": {
          "base_uri": "https://localhost:8080/"
        },
        "outputId": "fcce30da-489d-47e5-cf0d-330a29ef0fb1"
      },
      "outputs": [
        {
          "output_type": "stream",
          "name": "stdout",
          "text": [
            "313/313 [==============================] - 10s 32ms/step - loss: 0.4549 - accuracy: 0.8960\n"
          ]
        }
      ],
      "source": [
        "history_2 = model.evaluate(ds_test_c)"
      ]
    },
    {
      "cell_type": "code",
      "execution_count": null,
      "metadata": {
        "id": "yf9nAHuW6xFh",
        "colab": {
          "base_uri": "https://localhost:8080/"
        },
        "outputId": "34093cd1-244e-4cfa-93f9-64fb53ebd117"
      },
      "outputs": [
        {
          "output_type": "stream",
          "name": "stdout",
          "text": [
            "tf.Tensor([ 9 11  0 ...  4  8  2], shape=(10000,), dtype=int64) tf.Tensor(\n",
            "[[10]\n",
            " [10]\n",
            " [ 0]\n",
            " ...\n",
            " [ 4]\n",
            " [ 8]\n",
            " [ 2]], shape=(10000, 1), dtype=int64)\n"
          ]
        }
      ],
      "source": [
        "y_pred_fine = model.predict(ds_test_c)\n",
        "predicted_categories = tf.argmax(y_pred_fine, axis=1)\n",
        "true_categories = tf.concat([y for x, y in ds_test_c], axis=0)\n",
        "print(predicted_categories, true_categories)"
      ]
    },
    {
      "cell_type": "code",
      "execution_count": null,
      "metadata": {
        "id": "W9dXvccu62dX",
        "colab": {
          "base_uri": "https://localhost:8080/",
          "height": 870
        },
        "outputId": "d3abc08d-628b-45a8-ab30-7a6da340492a"
      },
      "outputs": [
        {
          "output_type": "execute_result",
          "data": {
            "text/plain": [
              "Text(0.5, 1.0, 'Confusion Matrix on Coarse Label')"
            ]
          },
          "metadata": {},
          "execution_count": 17
        },
        {
          "output_type": "display_data",
          "data": {
            "text/plain": [
              "<Figure size 1080x1080 with 2 Axes>"
            ],
            "image/png": "[encoded data removed]"
          },
          "metadata": {
            "needs_background": "light"
          }
        }
      ],
      "source": [
        "# Confusion matrix\n",
        "\n",
        "from sklearn.metrics import confusion_matrix, ConfusionMatrixDisplay\n",
        "from unicodedata import normalize\n",
        "import itertools\n",
        "\n",
        "cm = confusion_matrix(predicted_categories, true_categories)\n",
        "disp = ConfusionMatrixDisplay(cm, display_labels=np.arange(25))\n",
        "fig, ax = plt.subplots(figsize=(15,15))\n",
        "disp.plot(ax=ax, cmap=plt.cm.Blues)\n",
        "disp.ax_.set_title(\"Confusion Matrix on Coarse Label\")"
      ]
    },
    {
      "cell_type": "code",
      "execution_count": null,
      "metadata": {
        "id": "PGpgTAquf0a0",
        "colab": {
          "base_uri": "https://localhost:8080/",
          "height": 453
        },
        "outputId": "dbb13703-6a8d-4fda-dc93-02665e167133"
      },
      "outputs": [
        {
          "output_type": "display_data",
          "data": {
            "text/plain": [
              "<Figure size 1080x3600 with 3 Axes>"
            ],
            "image/png": "[encoded data removed]"
          },
          "metadata": {
            "needs_background": "light"
          }
        }
      ],
      "source": [
        "fig, ax = plt.subplots(1, 1, figsize = (15,50))\n",
        "for i in range(6):\n",
        "  if predicted_categories[i] != true_categories[i]:\n",
        "    plt.subplot(12,5,i+1)\n",
        "    plt.imshow(X_test[i])\n",
        "    plt.title(f'predicted image: {predicted_categories[i]}' '\\n' f'Actual image: {true_categories[i]}')\n",
        "#fig.tight_layout()\n",
        "plt.show()"
      ]
    },
    {
      "cell_type": "code",
      "source": [
        "from sklearn import metrics\n",
        "\n",
        "from tensorflow.python.ops.numpy_ops import np_config\n",
        "\n",
        "from itertools import chain \n",
        "TT = list(chain(*true_categories.numpy())) \n",
        "\n",
        "np_config.enable_numpy_behavior()\n",
        "PT = predicted_categories.tolist()\n",
        "\n",
        "\n",
        "labels = TT\n",
        "guesses =PT\n",
        "\n",
        "# True values\n",
        "y_true = TT\n",
        "# Predicted values\n",
        "y_pred = PT\n",
        "\n",
        "# Print the confusion matrix\n",
        "print(metrics.confusion_matrix(y_true, y_pred))\n",
        "\n",
        "# Print the precision and recall, among other metrics\n",
        "print(metrics.classification_report(y_true, y_pred, digits=3))"
      ],
      "metadata": {
        "id": "K6oQrXtURzA9",
        "colab": {
          "base_uri": "https://localhost:8080/"
        },
        "outputId": "8b4bc08b-4514-4b4a-a9ad-67a864ccec5d"
      },
      "execution_count": null,
      "outputs": [
        {
          "output_type": "stream",
          "name": "stdout",
          "text": [
            "[[422  28   0   0   0   2   0   2   7   0   0   4   5   2   1  17   7   0\n",
            "    1   2]\n",
            " [ 20 435   4   1   4   0   0   1   0   0   3   0   4   4   3  11   5   1\n",
            "    0   4]\n",
            " [  0   3 464   0  14   0   0  10   0   1   2   0   0   0   0   1   0   3\n",
            "    1   1]\n",
            " [  2   4   2 449  12  15   2   1   0   1   0   0   3   0   1   1   2   0\n",
            "    0   5]\n",
            " [  2   0   4   1 478   1   0   2   2   0   0   0   0   6   0   1   2   1\n",
            "    0   0]\n",
            " [  2   1   2  12   1 460   9   0   0   2   3   0   0   0   2   2   0   0\n",
            "    2   2]\n",
            " [  1   1   0   6   1   7 468   0   0   5   0   1   0   1   1   2   0   1\n",
            "    4   1]\n",
            " [  2   3   6   0   6   1   1 437   4   1   1   0   4  16   1   6   5   2\n",
            "    1   3]\n",
            " [ 11   1   0   0   0   1   1   1 444   0   0  20  14   0   0   3   3   0\n",
            "    0   1]\n",
            " [  0   0   0   0   3   3   4   0   0 457  12   0   0   0   1   1   0   3\n",
            "    9   7]\n",
            " [  4   0   1   0   1   2   0   0   0  10 448   2   1   0   2   1   3  20\n",
            "    4   1]\n",
            " [  8   1   2   1   1   1   1   1  12   0   0 435  10   0   3   9  12   2\n",
            "    0   1]\n",
            " [ 11   4   0   1   2   0   0   1  14   1   1  10 422   3   1   2  25   1\n",
            "    0   1]\n",
            " [  3   7   2   1   7   2   2  12   2   0   3   1   1 431   1  15   5   2\n",
            "    1   2]\n",
            " [  1   3   1   0   3   2   3   0   1   1   0   5   0   0 476   1   1   0\n",
            "    1   1]\n",
            " [ 17   4   0   1   1   0   0   9   6   0   0   4   4  13   1 430   7   0\n",
            "    1   2]\n",
            " [ 19   2   1   2   1   1   2   6  14   0   1   6  26   1   2   9 405   2\n",
            "    0   0]\n",
            " [  0   0   1   0   2   0   1   0   1   2  11   0   2   1   0   0   0 474\n",
            "    1   4]\n",
            " [  0   1   0   1   1   2   0   0   0   2   2   0   0   0   0   1   0   0\n",
            "  470  20]\n",
            " [  0   0   1   0   1   5   3   0   0   7   0   2   0   3   1   2   0   0\n",
            "   20 455]]\n",
            "              precision    recall  f1-score   support\n",
            "\n",
            "           0      0.804     0.844     0.823       500\n",
            "           1      0.873     0.870     0.872       500\n",
            "           2      0.945     0.928     0.936       500\n",
            "           3      0.943     0.898     0.920       500\n",
            "           4      0.887     0.956     0.920       500\n",
            "           5      0.911     0.920     0.915       500\n",
            "           6      0.942     0.936     0.939       500\n",
            "           7      0.905     0.874     0.889       500\n",
            "           8      0.876     0.888     0.882       500\n",
            "           9      0.933     0.914     0.923       500\n",
            "          10      0.920     0.896     0.908       500\n",
            "          11      0.888     0.870     0.879       500\n",
            "          12      0.851     0.844     0.847       500\n",
            "          13      0.896     0.862     0.879       500\n",
            "          14      0.958     0.952     0.955       500\n",
            "          15      0.835     0.860     0.847       500\n",
            "          16      0.840     0.810     0.825       500\n",
            "          17      0.926     0.948     0.937       500\n",
            "          18      0.911     0.940     0.925       500\n",
            "          19      0.887     0.910     0.898       500\n",
            "\n",
            "    accuracy                          0.896     10000\n",
            "   macro avg      0.896     0.896     0.896     10000\n",
            "weighted avg      0.896     0.896     0.896     10000\n",
            "\n"
          ]
        }
      ]
    },
    {
      "cell_type": "markdown",
      "metadata": {
        "id": "i5mozeAM19eC"
      },
      "source": [
        "## Question 2: Performance on 20-class subset of CIFAR-100\n",
        "### Part 2A: Performance on \"different\" classes\n",
        "Choose the 20 class subset such that there is one class from each of the 20 superclasses. Re-train a transfer learning model, similar to what you did in Part 1. \n",
        "\n",
        "How much data do you need to achieve similar accuracy as you achieved in Part 1? (ie how many images from each class is needed?)\n",
        "\n",
        "What is your accuracy, for coarse and fine labels for both training and testing, if you utilize all available training data (ie 500 images per class)?\n",
        "\n",
        "Plot several misclassified images. Plot confusion matrices for both coarse and fine labels.\n"
      ]
    },
    {
      "cell_type": "code",
      "execution_count": null,
      "metadata": {
        "id": "jJ63cPzb3dba"
      },
      "outputs": [],
      "source": [
        "# Import modules\n",
        "\n",
        "import numpy as np\n",
        "import pandas as pd\n",
        "import matplotlib.pyplot as plt\n",
        "import tensorflow as tf\n",
        "from tensorflow import keras\n",
        "import itertools\n",
        "import tensorflow_datasets as tfds\n",
        "from sklearn.datasets import make_multilabel_classification\n",
        "\n",
        "from sklearn.model_selection import train_test_split\n",
        "cifar100 = keras.datasets.cifar100\n",
        "np.random.seed(42)\n",
        "tf.random.set_seed(42)\n"
      ]
    },
    {
      "cell_type": "code",
      "execution_count": null,
      "metadata": {
        "id": "u6GD79wzpert",
        "colab": {
          "base_uri": "https://localhost:8080/"
        },
        "outputId": "eba3b221-8e44-45db-a000-0ac95fd5b89f"
      },
      "outputs": [
        {
          "output_type": "stream",
          "name": "stdout",
          "text": [
            "Downloading data from https://www.cs.toronto.edu/~kriz/cifar-100-python.tar.gz\n",
            "169009152/169001437 [==============================] - 5s 0us/step\n",
            "169017344/169001437 [==============================] - 5s 0us/step\n"
          ]
        }
      ],
      "source": [
        "cifar100 = keras.datasets.cifar100\n",
        "(X_train_full, y_train_full), (X_test, y_test) = cifar100.load_data(label_mode='fine')\n",
        "(_, y_coarse_train), (_, y_coarse_test) =cifar100.load_data(label_mode='coarse')\n",
        "\n",
        "size = 100\n",
        "subclass_ID = 3 \n",
        "y_train_full_dup = y_train_full\n",
        "y_test_dup=y_test\n",
        "\n",
        "# Remove single-dimensional entries for labels\n",
        "y_train_full_sq = np.squeeze(y_train_full)\n",
        "y_test_sq = np.squeeze(y_test)\n",
        "y_coarse_train_sq = np.squeeze(y_coarse_train)\n",
        "y_coarse_test_sq = np.squeeze(y_coarse_test)\n",
        "\n",
        "# Define empty matrices \n",
        "X_train_new=np.empty((0,32,32,3))\n",
        "y_train_new=np.empty((0,1))\n",
        "X_test_new=np.empty((0,32,32,3))\n",
        "y_test_new=np.empty((0,1))\n",
        "cls_matrix=np.empty((0,5))\n",
        "\n",
        "# Preparing a class matrix which has all the superclass ordered\n",
        "for i in np.arange(0,20,1): \n",
        "  cls_matrix=np.vstack((cls_matrix,np.unique(y_train_full[y_coarse_train_sq==i])))\n",
        "\n",
        "# Sorting out data according to subclass for training, 500 per subclass\n",
        "for i in np.arange(0,20,1):\n",
        "  delta = np.squeeze(y_train_full==cls_matrix[i,subclass_ID],axis=1)\n",
        "  y_train_full[delta]=i # Super class\n",
        "  X_train_new=np.vstack((X_train_new, X_train_full[delta][0:size]))\n",
        "  y_train_new=np.vstack((y_train_new, y_train_full[delta][0:size]))\n",
        "\n",
        "\n",
        "# Sorting out data according to subclass for testing\n",
        "for i in np.arange(0,20,1):\n",
        "  delta = np.squeeze(y_test==cls_matrix[i,subclass_ID],axis=1)\n",
        "  y_test[delta]=i # Super class\n",
        "  X_test_new = np.vstack((X_test_new, X_test[delta]))\n",
        "  y_test_new = np.vstack((y_test_new, y_test[delta]))\n",
        "\n",
        "# Randomize data for training and testing\n",
        "data_points_tr = np.shape(X_train_new)[0]\n",
        "data_random_tr=np.random.permutation(data_points_tr)\n",
        "X_train_new=X_train_new[data_random_tr].astype(int)\n",
        "y_train_new=y_train_new[data_random_tr].astype(int)\n",
        "\n",
        "data_points_test = np.shape(X_test_new)[0]\n",
        "data_random_test=np.random.permutation(data_points_test)\n",
        "X_test_new=X_test_new[data_random_test].astype(int)\n",
        "y_test_new=y_test_new[data_random_test].astype(int)\n",
        "##################################################################\n",
        "\n",
        "test_size=np.floor(20*0.1*size).astype(int) # 10% validation size\n",
        "\n",
        "X_train_tr, X_train_v, y_train_tr, y_train_v = train_test_split(X_train_new,\n",
        "                                                                y_train_new,\n",
        "                                                                test_size=test_size)\n",
        "\n",
        "# Convert from numpy data to tf.data.Dataset\n",
        "ds_train = tf.data.Dataset.from_tensor_slices( (X_train_tr, y_train_tr) )\n",
        "ds_valid = tf.data.Dataset.from_tensor_slices((X_train_v, y_train_v))\n",
        "ds_test = tf.data.Dataset.from_tensor_slices((X_test_new, y_test_new))"
      ]
    },
    {
      "cell_type": "code",
      "execution_count": null,
      "metadata": {
        "colab": {
          "base_uri": "https://localhost:8080/",
          "height": 863
        },
        "id": "fSI6bKlWpmJ1",
        "outputId": "ff411807-af7c-4551-f43e-fc3b5adf320f"
      },
      "outputs": [
        {
          "output_type": "stream",
          "name": "stdout",
          "text": [
            "<TensorSliceDataset element_spec=(TensorSpec(shape=(32, 32, 3), dtype=tf.int64, name=None), TensorSpec(shape=(1,), dtype=tf.int64, name=None))>\n"
          ]
        },
        {
          "output_type": "display_data",
          "data": {
            "text/plain": [
              "<Figure size 432x288 with 1 Axes>"
            ],
            "image/png": "[encoded data removed]"
          },
          "metadata": {
            "needs_background": "light"
          }
        },
        {
          "output_type": "stream",
          "name": "stdout",
          "text": [
            "<TensorSliceDataset element_spec=(TensorSpec(shape=(32, 32, 3), dtype=tf.int64, name=None), TensorSpec(shape=(1,), dtype=tf.int64, name=None))>\n"
          ]
        },
        {
          "output_type": "display_data",
          "data": {
            "text/plain": [
              "<Figure size 432x288 with 1 Axes>"
            ],
            "image/png": "[encoded data removed]"
          },
          "metadata": {
            "needs_background": "light"
          }
        },
        {
          "output_type": "stream",
          "name": "stdout",
          "text": [
            "<TensorSliceDataset element_spec=(TensorSpec(shape=(32, 32, 3), dtype=tf.int64, name=None), TensorSpec(shape=(1,), dtype=tf.int64, name=None))>\n"
          ]
        },
        {
          "output_type": "display_data",
          "data": {
            "text/plain": [
              "<Figure size 432x288 with 1 Axes>"
            ],
            "image/png": "[encoded data removed]"
          },
          "metadata": {
            "needs_background": "light"
          }
        }
      ],
      "source": [
        "import matplotlib.pyplot as plt\n",
        "for element in ds_train.take(3):\n",
        "  image, label = element[0], element[1]\n",
        "  image.shape\n",
        "#  type(image.numpy()[:,:,0])\n",
        "#  type(image)\n",
        "  plt.imshow(image.numpy()[:,:,0])\n",
        "  type(image.numpy())\n",
        "  type(label)\n",
        "  print(ds_train)\n",
        "  #coarse_id_fine_id[id] = fine_labels_ids\n",
        "  plt.title(\"Class\" + \" \" +str(label.numpy()))\n",
        "  plt.show()"
      ]
    },
    {
      "cell_type": "code",
      "execution_count": null,
      "metadata": {
        "id": "ShON5VAUpxcG"
      },
      "outputs": [],
      "source": [
        "# Build pipeline\n",
        "batch = 32\n",
        "\n",
        "def preprocess(image, label):\n",
        "  image = tf.image.resize(image,[224,224])\n",
        "  #label = tf.label_mode(int(\"coarse\"))\n",
        "  return (image, label)\n",
        "\n",
        "\n",
        "def data_aug(image, label):\n",
        "  image = tf.image.random_flip_left_right(image)\n",
        "  image = tf.image.random_brightness(image, max_delta=63)\n",
        "  image = tf.image.random_contrast(image, lower=0.2, upper=1.8)\n",
        "  return (image, label)\n",
        "#image.shape \n",
        "\n",
        "ds_train=ds_train.map(preprocess).map(data_aug).batch(32).prefetch(1)\n",
        "ds_valid=ds_valid.map(preprocess).batch(32).prefetch(1)\n",
        "ds_test=ds_test.map(preprocess).batch(32).prefetch(1)"
      ]
    },
    {
      "cell_type": "code",
      "execution_count": null,
      "metadata": {
        "id": "qmTA9OhJp6iO",
        "colab": {
          "base_uri": "https://localhost:8080/"
        },
        "outputId": "bc98572d-7a0e-4d1d-c5b6-2685894ea0dc"
      },
      "outputs": [
        {
          "output_type": "stream",
          "name": "stdout",
          "text": [
            "Downloading data from https://storage.googleapis.com/tensorflow/keras-applications/efficientnet_v2/efficientnetv2-b0_notop.h5\n",
            "24281088/24274472 [==============================] - 0s 0us/step\n",
            "24289280/24274472 [==============================] - 0s 0us/step\n"
          ]
        }
      ],
      "source": [
        "# Use EfficientNet V2\n",
        "base_model = keras.applications.EfficientNetV2B0(weights=\"imagenet\", \n",
        "                                              include_top=False,\n",
        "                                             input_shape=(224,224,3))\n",
        "global_avg = keras.layers.GlobalAveragePooling2D()(base_model.output)\n",
        "dropout = keras.layers.Dropout(0.005)(global_avg) \n",
        "output = keras.layers.Dense(100, activation=\"softmax\")(dropout)\n",
        "model = keras.models.Model(inputs=base_model.input, outputs=output)"
      ]
    },
    {
      "cell_type": "code",
      "execution_count": null,
      "metadata": {
        "colab": {
          "base_uri": "https://localhost:8080/"
        },
        "id": "qxYH3S0SqDgL",
        "outputId": "63ee3afa-847d-4852-f8d9-edadc2da1231"
      },
      "outputs": [
        {
          "output_type": "stream",
          "name": "stdout",
          "text": [
            "Epoch 1/50\n",
            "57/57 - 19s - loss: 2.6032 - accuracy: 0.4411 - val_loss: 1.2392 - val_accuracy: 0.8100 - 19s/epoch - 330ms/step\n",
            "Epoch 2/50\n",
            "57/57 - 2s - loss: 1.1025 - accuracy: 0.7700 - val_loss: 0.7296 - val_accuracy: 0.8450 - 2s/epoch - 33ms/step\n",
            "Epoch 3/50\n",
            "57/57 - 2s - loss: 0.7881 - accuracy: 0.8167 - val_loss: 0.5934 - val_accuracy: 0.8600 - 2s/epoch - 33ms/step\n",
            "Epoch 4/50\n",
            "57/57 - 2s - loss: 0.6427 - accuracy: 0.8467 - val_loss: 0.5328 - val_accuracy: 0.8550 - 2s/epoch - 33ms/step\n",
            "Epoch 5/50\n",
            "57/57 - 2s - loss: 0.5507 - accuracy: 0.8700 - val_loss: 0.4994 - val_accuracy: 0.8550 - 2s/epoch - 34ms/step\n",
            "Epoch 6/50\n",
            "57/57 - 2s - loss: 0.4826 - accuracy: 0.8878 - val_loss: 0.4785 - val_accuracy: 0.8500 - 2s/epoch - 33ms/step\n",
            "Epoch 7/50\n",
            "57/57 - 2s - loss: 0.4291 - accuracy: 0.9017 - val_loss: 0.4645 - val_accuracy: 0.8550 - 2s/epoch - 33ms/step\n",
            "Epoch 8/50\n",
            "57/57 - 2s - loss: 0.3843 - accuracy: 0.9167 - val_loss: 0.4549 - val_accuracy: 0.8550 - 2s/epoch - 33ms/step\n",
            "Epoch 9/50\n",
            "57/57 - 2s - loss: 0.3483 - accuracy: 0.9283 - val_loss: 0.4483 - val_accuracy: 0.8550 - 2s/epoch - 33ms/step\n",
            "Epoch 10/50\n",
            "57/57 - 2s - loss: 0.3159 - accuracy: 0.9389 - val_loss: 0.4435 - val_accuracy: 0.8450 - 2s/epoch - 33ms/step\n",
            "Epoch 11/50\n",
            "57/57 - 2s - loss: 0.2887 - accuracy: 0.9472 - val_loss: 0.4398 - val_accuracy: 0.8450 - 2s/epoch - 33ms/step\n",
            "Epoch 12/50\n",
            "57/57 - 2s - loss: 0.2651 - accuracy: 0.9561 - val_loss: 0.4375 - val_accuracy: 0.8500 - 2s/epoch - 33ms/step\n",
            "Epoch 13/50\n",
            "57/57 - 2s - loss: 0.2438 - accuracy: 0.9600 - val_loss: 0.4354 - val_accuracy: 0.8500 - 2s/epoch - 33ms/step\n",
            "Epoch 14/50\n",
            "57/57 - 2s - loss: 0.2244 - accuracy: 0.9661 - val_loss: 0.4344 - val_accuracy: 0.8500 - 2s/epoch - 33ms/step\n",
            "Epoch 15/50\n",
            "57/57 - 2s - loss: 0.2071 - accuracy: 0.9700 - val_loss: 0.4342 - val_accuracy: 0.8500 - 2s/epoch - 33ms/step\n",
            "Epoch 16/50\n",
            "57/57 - 2s - loss: 0.1927 - accuracy: 0.9733 - val_loss: 0.4335 - val_accuracy: 0.8400 - 2s/epoch - 33ms/step\n",
            "Epoch 17/50\n",
            "57/57 - 2s - loss: 0.1794 - accuracy: 0.9772 - val_loss: 0.4337 - val_accuracy: 0.8400 - 2s/epoch - 33ms/step\n",
            "Epoch 18/50\n",
            "57/57 - 2s - loss: 0.1670 - accuracy: 0.9778 - val_loss: 0.4342 - val_accuracy: 0.8400 - 2s/epoch - 33ms/step\n",
            "Epoch 19/50\n",
            "57/57 - 2s - loss: 0.1554 - accuracy: 0.9806 - val_loss: 0.4348 - val_accuracy: 0.8450 - 2s/epoch - 33ms/step\n",
            "Epoch 20/50\n",
            "57/57 - 2s - loss: 0.1452 - accuracy: 0.9822 - val_loss: 0.4353 - val_accuracy: 0.8400 - 2s/epoch - 32ms/step\n",
            "Epoch 21/50\n",
            "57/57 - 2s - loss: 0.1363 - accuracy: 0.9856 - val_loss: 0.4363 - val_accuracy: 0.8400 - 2s/epoch - 33ms/step\n",
            "CPU times: user 1min 33s, sys: 11 s, total: 1min 44s\n",
            "Wall time: 1min 4s\n"
          ]
        }
      ],
      "source": [
        "# Freeze transferred layers and train\n",
        "%%time\n",
        "for layer in base_model.layers:\n",
        "    layer.trainable = False\n",
        "\n",
        "model.compile(loss=\"sparse_categorical_crossentropy\",\n",
        "                optimizer=keras.optimizers.Nadam(1e-3),\n",
        "                metrics=[\"accuracy\"])\n",
        "\n",
        "history = model.fit(ds_train, \n",
        "                    epochs=50, validation_data=ds_valid, verbose = 2,\n",
        "                    callbacks=[keras.callbacks.EarlyStopping(patience=5)])"
      ]
    },
    {
      "cell_type": "code",
      "execution_count": null,
      "metadata": {
        "colab": {
          "base_uri": "https://localhost:8080/"
        },
        "id": "Isnfuz7CqQHK",
        "outputId": "c7520f4d-af10-47ee-cd8c-6d2e5d975945"
      },
      "outputs": [
        {
          "output_type": "stream",
          "name": "stdout",
          "text": [
            "Epoch 1/50\n",
            "57/57 - 30s - loss: 1.7051 - accuracy: 0.7106 - val_loss: 0.5568 - val_accuracy: 0.8600 - 30s/epoch - 522ms/step\n",
            "Epoch 2/50\n",
            "57/57 - 7s - loss: 0.2899 - accuracy: 0.9394 - val_loss: 0.4893 - val_accuracy: 0.8500 - 7s/epoch - 123ms/step\n",
            "Epoch 3/50\n",
            "57/57 - 7s - loss: 0.0739 - accuracy: 0.9961 - val_loss: 0.4369 - val_accuracy: 0.8800 - 7s/epoch - 122ms/step\n",
            "Epoch 4/50\n",
            "57/57 - 7s - loss: 0.0305 - accuracy: 1.0000 - val_loss: 0.4080 - val_accuracy: 0.8900 - 7s/epoch - 122ms/step\n",
            "Epoch 5/50\n",
            "57/57 - 7s - loss: 0.0169 - accuracy: 1.0000 - val_loss: 0.4003 - val_accuracy: 0.8950 - 7s/epoch - 122ms/step\n",
            "Epoch 6/50\n",
            "57/57 - 7s - loss: 0.0108 - accuracy: 1.0000 - val_loss: 0.3905 - val_accuracy: 0.8900 - 7s/epoch - 122ms/step\n",
            "Epoch 7/50\n",
            "57/57 - 7s - loss: 0.0077 - accuracy: 1.0000 - val_loss: 0.3885 - val_accuracy: 0.9000 - 7s/epoch - 122ms/step\n",
            "Epoch 8/50\n",
            "57/57 - 7s - loss: 0.0058 - accuracy: 1.0000 - val_loss: 0.3848 - val_accuracy: 0.9000 - 7s/epoch - 123ms/step\n",
            "Epoch 9/50\n",
            "57/57 - 7s - loss: 0.0046 - accuracy: 1.0000 - val_loss: 0.3817 - val_accuracy: 0.9000 - 7s/epoch - 122ms/step\n",
            "Epoch 10/50\n",
            "57/57 - 7s - loss: 0.0038 - accuracy: 1.0000 - val_loss: 0.3785 - val_accuracy: 0.9000 - 7s/epoch - 122ms/step\n",
            "Epoch 11/50\n",
            "57/57 - 7s - loss: 0.0032 - accuracy: 1.0000 - val_loss: 0.3764 - val_accuracy: 0.9000 - 7s/epoch - 122ms/step\n",
            "Epoch 12/50\n",
            "57/57 - 7s - loss: 0.0027 - accuracy: 1.0000 - val_loss: 0.3754 - val_accuracy: 0.9050 - 7s/epoch - 122ms/step\n",
            "Epoch 13/50\n",
            "57/57 - 7s - loss: 0.0023 - accuracy: 1.0000 - val_loss: 0.3743 - val_accuracy: 0.9100 - 7s/epoch - 122ms/step\n",
            "Epoch 14/50\n",
            "57/57 - 7s - loss: 0.0020 - accuracy: 1.0000 - val_loss: 0.3730 - val_accuracy: 0.9100 - 7s/epoch - 122ms/step\n",
            "Epoch 15/50\n",
            "57/57 - 7s - loss: 0.0018 - accuracy: 1.0000 - val_loss: 0.3723 - val_accuracy: 0.9100 - 7s/epoch - 122ms/step\n",
            "Epoch 16/50\n",
            "57/57 - 7s - loss: 0.0016 - accuracy: 1.0000 - val_loss: 0.3718 - val_accuracy: 0.9100 - 7s/epoch - 122ms/step\n",
            "Epoch 17/50\n",
            "57/57 - 7s - loss: 0.0014 - accuracy: 1.0000 - val_loss: 0.3715 - val_accuracy: 0.9100 - 7s/epoch - 124ms/step\n",
            "Epoch 18/50\n",
            "57/57 - 7s - loss: 0.0013 - accuracy: 1.0000 - val_loss: 0.3711 - val_accuracy: 0.9100 - 7s/epoch - 122ms/step\n",
            "Epoch 19/50\n",
            "57/57 - 7s - loss: 0.0011 - accuracy: 1.0000 - val_loss: 0.3708 - val_accuracy: 0.9100 - 7s/epoch - 122ms/step\n",
            "Epoch 20/50\n",
            "57/57 - 7s - loss: 0.0010 - accuracy: 1.0000 - val_loss: 0.3706 - val_accuracy: 0.9100 - 7s/epoch - 122ms/step\n",
            "Epoch 21/50\n",
            "57/57 - 7s - loss: 9.3448e-04 - accuracy: 1.0000 - val_loss: 0.3708 - val_accuracy: 0.9100 - 7s/epoch - 122ms/step\n",
            "Epoch 22/50\n",
            "57/57 - 7s - loss: 8.5788e-04 - accuracy: 1.0000 - val_loss: 0.3704 - val_accuracy: 0.9100 - 7s/epoch - 122ms/step\n",
            "Epoch 23/50\n",
            "57/57 - 7s - loss: 7.8196e-04 - accuracy: 1.0000 - val_loss: 0.3704 - val_accuracy: 0.9100 - 7s/epoch - 122ms/step\n",
            "Epoch 24/50\n",
            "57/57 - 7s - loss: 7.1694e-04 - accuracy: 1.0000 - val_loss: 0.3703 - val_accuracy: 0.9100 - 7s/epoch - 122ms/step\n",
            "Epoch 25/50\n",
            "57/57 - 7s - loss: 6.6829e-04 - accuracy: 1.0000 - val_loss: 0.3703 - val_accuracy: 0.9100 - 7s/epoch - 122ms/step\n",
            "Epoch 26/50\n",
            "57/57 - 7s - loss: 6.1591e-04 - accuracy: 1.0000 - val_loss: 0.3705 - val_accuracy: 0.9100 - 7s/epoch - 122ms/step\n",
            "Epoch 27/50\n",
            "57/57 - 7s - loss: 5.6775e-04 - accuracy: 1.0000 - val_loss: 0.3708 - val_accuracy: 0.9100 - 7s/epoch - 122ms/step\n",
            "Epoch 28/50\n",
            "57/57 - 7s - loss: 5.3129e-04 - accuracy: 1.0000 - val_loss: 0.3714 - val_accuracy: 0.9100 - 7s/epoch - 122ms/step\n",
            "Epoch 29/50\n",
            "57/57 - 7s - loss: 4.9328e-04 - accuracy: 1.0000 - val_loss: 0.3712 - val_accuracy: 0.9150 - 7s/epoch - 122ms/step\n",
            "CPU times: user 4min 55s, sys: 28.6 s, total: 5min 24s\n",
            "Wall time: 3min 46s\n"
          ]
        }
      ],
      "source": [
        "# Unfreeze layers and train\n",
        "%%time\n",
        "for layer in base_model.layers:\n",
        "    layer.trainable = True\n",
        "\n",
        "model.compile(loss=\"sparse_categorical_crossentropy\",\n",
        "                optimizer=keras.optimizers.Nadam(1e-4), # need smaller lr\n",
        "                metrics=[\"accuracy\"])\n",
        "\n",
        "#n_epochs = 1\n",
        "history = model.fit(ds_train,\n",
        "                    epochs=50,\n",
        "                    validation_data=ds_valid, verbose = 2,\n",
        "                    callbacks=[keras.callbacks.EarlyStopping(patience=5)])"
      ]
    },
    {
      "cell_type": "code",
      "execution_count": null,
      "metadata": {
        "colab": {
          "base_uri": "https://localhost:8080/"
        },
        "id": "lGnzJTDqqWBo",
        "outputId": "9fb584c6-b8c9-4fb7-9149-6831469acca4"
      },
      "outputs": [
        {
          "output_type": "stream",
          "name": "stdout",
          "text": [
            "63/63 [==============================] - 2s 32ms/step - loss: 0.3889 - accuracy: 0.8890\n"
          ]
        }
      ],
      "source": [
        "history = model.evaluate(ds_test)"
      ]
    },
    {
      "cell_type": "code",
      "execution_count": null,
      "metadata": {
        "colab": {
          "base_uri": "https://localhost:8080/"
        },
        "id": "tZiflwumqfux",
        "outputId": "daff6e40-1dce-404f-9d9a-d2a406228d8d"
      },
      "outputs": [
        {
          "output_type": "stream",
          "name": "stdout",
          "text": [
            "tf.Tensor([18  4 15 ... 14  2 12], shape=(2000,), dtype=int64) tf.Tensor(\n",
            "[[18]\n",
            " [ 4]\n",
            " [15]\n",
            " ...\n",
            " [14]\n",
            " [ 2]\n",
            " [12]], shape=(2000, 1), dtype=int64)\n"
          ]
        }
      ],
      "source": [
        "y_pred_fine = model.predict(ds_test)\n",
        "predicted_categories = tf.argmax(y_pred_fine, axis=1)\n",
        "true_categories = tf.concat([y for x, y in ds_test], axis=0)\n",
        "print(predicted_categories, true_categories)"
      ]
    },
    {
      "cell_type": "code",
      "execution_count": null,
      "metadata": {
        "colab": {
          "base_uri": "https://localhost:8080/",
          "height": 870
        },
        "id": "BwMXElDNqnRk",
        "outputId": "7d621ce7-475e-4e66-a796-ca5b8d39bb07"
      },
      "outputs": [
        {
          "output_type": "execute_result",
          "data": {
            "text/plain": [
              "Text(0.5, 1.0, 'Confusion Matrix on Coarse Label')"
            ]
          },
          "metadata": {},
          "execution_count": 10
        },
        {
          "output_type": "display_data",
          "data": {
            "text/plain": [
              "<Figure size 1080x1080 with 2 Axes>"
            ],
            "image/png": "[encoded data removed]"
          },
          "metadata": {
            "needs_background": "light"
          }
        }
      ],
      "source": [
        "# Confusion matrix\n",
        "\n",
        "from sklearn.metrics import confusion_matrix, ConfusionMatrixDisplay\n",
        "from unicodedata import normalize\n",
        "import itertools\n",
        "\n",
        "cm = confusion_matrix(predicted_categories, true_categories)\n",
        "disp = ConfusionMatrixDisplay(cm, display_labels=np.arange(25))\n",
        "fig, ax = plt.subplots(figsize=(15,15))\n",
        "disp.plot(ax=ax, cmap=plt.cm.Blues)\n",
        "disp.ax_.set_title(\"Confusion Matrix on Coarse Label\")"
      ]
    },
    {
      "cell_type": "code",
      "execution_count": null,
      "metadata": {
        "colab": {
          "base_uri": "https://localhost:8080/",
          "height": 586
        },
        "id": "6_wSYBATqt0K",
        "outputId": "53c7ee83-9e75-41cc-ae75-9c8cbd00da88"
      },
      "outputs": [
        {
          "output_type": "display_data",
          "data": {
            "text/plain": [
              "<Figure size 2880x3600 with 2 Axes>"
            ],
            "image/png": "[encoded data removed]"
          },
          "metadata": {
            "needs_background": "light"
          }
        }
      ],
      "source": [
        "fig, ax = plt.subplots(1, 1, figsize = (40,50))\n",
        "for i in np.arange(0,20,1):\n",
        "  if predicted_categories[i] != true_categories[i]:\n",
        "    plt.subplot(10,4,i+1)\n",
        "    plt.imshow(X_test[i])\n",
        "    plt.title(f'predicted image: {predicted_categories[i]}' '\\n' f'Actual image: {true_categories[i]}')\n",
        "#fig.tight_layout()\n",
        "plt.show()"
      ]
    },
    {
      "cell_type": "code",
      "source": [
        "from sklearn import metrics\n",
        "\n",
        "from tensorflow.python.ops.numpy_ops import np_config\n",
        "\n",
        "from itertools import chain \n",
        "TT = list(chain(*true_categories.numpy())) \n",
        "\n",
        "np_config.enable_numpy_behavior()\n",
        "PT = predicted_categories.tolist()\n",
        "\n",
        "\n",
        "labels = TT\n",
        "guesses =PT\n",
        "\n",
        "# True values\n",
        "y_true = TT\n",
        "# Predicted values\n",
        "y_pred = PT\n",
        "\n",
        "# Print the confusion matrix\n",
        "print(metrics.confusion_matrix(y_true, y_pred))\n",
        "\n",
        "# Print the precision and recall, among other metrics\n",
        "print(metrics.classification_report(y_true, y_pred, digits=3))"
      ],
      "metadata": {
        "colab": {
          "base_uri": "https://localhost:8080/"
        },
        "id": "1F2eS-itPIVl",
        "outputId": "b3c4c47e-e70e-4ffa-bbce-39e4c98d6463"
      },
      "execution_count": null,
      "outputs": [
        {
          "output_type": "stream",
          "name": "stdout",
          "text": [
            "[[71  3  1  0  3  0  0  2  1  1  0  3  2  1  2  0 10  0  0  0]\n",
            " [ 4 87  0  0  2  0  0  1  0  0  0  0  1  1  0  2  1  0  0  1]\n",
            " [ 0  0 95  0  1  0  0  2  0  0  0  0  0  0  0  2  0  0  0  0]\n",
            " [ 0  0  0 93  3  1  1  0  0  0  0  0  0  1  1  0  0  0  0  0]\n",
            " [ 2  0  2  2 91  1  0  1  0  0  0  0  0  0  0  1  0  0  0  0]\n",
            " [ 0  0  0  0  1 92  3  1  0  0  0  0  2  0  0  1  0  0  0  0]\n",
            " [ 0  0  1  2  0  2 91  2  1  0  0  0  1  0  0  0  0  0  0  0]\n",
            " [ 0  1  0  0  1  1  0 79  2  0  0  1  0  2  0  8  4  0  0  1]\n",
            " [ 0  0  0  0  0  0  1  2 96  0  0  0  0  0  1  0  0  0  0  0]\n",
            " [ 1  0  0  0  0  2  0  0  0 94  2  0  0  0  0  0  0  0  0  1]\n",
            " [ 0  0  0  0  0  0  0  1  0  2 96  0  1  0  0  0  0  0  0  0]\n",
            " [ 2  0  0  0  0  0  1  0  2  0  0 86  4  1  1  1  1  1  0  0]\n",
            " [ 3  0  0  0  0  0  4  0  6  0  0  2 72  1  0  2 10  0  0  0]\n",
            " [ 1  1  0  0  0  0  1  1  0  0  0  0  0 92  1  3  0  0  0  0]\n",
            " [ 2  0  0  0  0  0  3  0  1  0  0  1  0  0 91  2  0  0  0  0]\n",
            " [ 0  0  1  0  1  1  0  3  0  0  0  0  0  1  0 93  0  0  0  0]\n",
            " [ 6  1  0  0  0  0  0  0  2  0  0  0  5  1  0  2 83  0  0  0]\n",
            " [ 0  0  0  0  0  0  1  0  0  0  3  1  0  3  1  1  3 87  0  0]\n",
            " [ 0  0  0  0  0  0  0  0  0  0  1  0  0  0  0  0  0  0 98  1]\n",
            " [ 0  1  0  0  0  0  2  0  0  0  0  0  0  0  0  1  0  1  4 91]]\n",
            "              precision    recall  f1-score   support\n",
            "\n",
            "           0      0.772     0.710     0.740       100\n",
            "           1      0.926     0.870     0.897       100\n",
            "           2      0.950     0.950     0.950       100\n",
            "           3      0.959     0.930     0.944       100\n",
            "           4      0.883     0.910     0.897       100\n",
            "           5      0.920     0.920     0.920       100\n",
            "           6      0.843     0.910     0.875       100\n",
            "           7      0.832     0.790     0.810       100\n",
            "           8      0.865     0.960     0.910       100\n",
            "           9      0.969     0.940     0.954       100\n",
            "          10      0.941     0.960     0.950       100\n",
            "          11      0.915     0.860     0.887       100\n",
            "          12      0.818     0.720     0.766       100\n",
            "          13      0.885     0.920     0.902       100\n",
            "          14      0.929     0.910     0.919       100\n",
            "          15      0.782     0.930     0.849       100\n",
            "          16      0.741     0.830     0.783       100\n",
            "          17      0.978     0.870     0.921       100\n",
            "          18      0.961     0.980     0.970       100\n",
            "          19      0.958     0.910     0.933       100\n",
            "\n",
            "    accuracy                          0.889      2000\n",
            "   macro avg      0.891     0.889     0.889      2000\n",
            "weighted avg      0.891     0.889     0.889      2000\n",
            "\n"
          ]
        }
      ]
    },
    {
      "cell_type": "code",
      "source": [],
      "metadata": {
        "id": "ZiEViCIWdDY2"
      },
      "execution_count": null,
      "outputs": []
    },
    {
      "cell_type": "markdown",
      "metadata": {
        "id": "zdqS_UNE3hl6"
      },
      "source": [
        "### Part 2B: Performance on \"similar\" classes\n",
        "Choose your 20 classes such that they come from a minimum number of superclasses. Repeat your analysis from Part 2A:\n",
        "1. Re-train a transfer learning model\n",
        "2. Find how much data is needed to achieve similar accuracy as Part 1.\n",
        "3. Find the maximum accuracy, utilizing all available training data.\n",
        "\n",
        "Plot several misclassified images and confusion matrices.\n",
        "\n",
        "Are your results different than they were for Part 2A?"
      ]
    },
    {
      "cell_type": "code",
      "execution_count": null,
      "metadata": {
        "id": "A9Jq6VwS4D5z"
      },
      "outputs": [],
      "source": [
        "# Import modules\n",
        "\n",
        "import numpy as np\n",
        "import pandas as pd\n",
        "import matplotlib.pyplot as plt\n",
        "import tensorflow as tf\n",
        "from tensorflow import keras\n",
        "import itertools\n",
        "import tensorflow_datasets as tfds\n",
        "from sklearn.datasets import make_multilabel_classification\n",
        "\n",
        "from sklearn.model_selection import train_test_split\n",
        "cifar100 = keras.datasets.cifar100\n",
        "np.random.seed(42)\n",
        "tf.random.set_seed(42)"
      ]
    },
    {
      "cell_type": "code",
      "execution_count": null,
      "metadata": {
        "id": "8aHVcWE3CMCy"
      },
      "outputs": [],
      "source": [
        "cifar100 = keras.datasets.cifar100\n",
        "(X_train_full, y_train_full), (X_test, y_test) = cifar100.load_data(label_mode='fine')\n",
        "(_, y_coarse_train), (_, y_coarse_test) =cifar100.load_data(label_mode='coarse')\n",
        "\n",
        "size = 100\n",
        " \n",
        "y_train_full_dup = y_train_full\n",
        "y_test_dup=y_test\n",
        "\n",
        "# Remove single-dimensional entries for labels\n",
        "y_train_full_sq = np.squeeze(y_train_full)\n",
        "y_test_sq = np.squeeze(y_test)\n",
        "y_coarse_train_sq = np.squeeze(y_coarse_train)\n",
        "y_coarse_test_sq = np.squeeze(y_coarse_test)\n",
        "\n",
        "# Define empty matrices \n",
        "X_train_new=np.empty((0,32,32,3))\n",
        "y_train_new=np.empty((0,1))\n",
        "X_test_new=np.empty((0,32,32,3))\n",
        "y_test_new=np.empty((0,1))\n",
        "cls_matrix=np.empty((0,5))\n",
        "\n",
        "# Preparing a class matrix which has all the superclass ordered\n",
        "for i in np.arange(0,20,1): \n",
        "  cls_matrix=np.vstack((cls_matrix,np.unique(y_train_full[y_coarse_train_sq==i])))"
      ]
    },
    {
      "cell_type": "code",
      "execution_count": null,
      "metadata": {
        "colab": {
          "base_uri": "https://localhost:8080/"
        },
        "id": "0L0V9E2dJZ6B",
        "outputId": "83aeb4c8-a98f-49c8-dd63-5e45fbf26cd5"
      },
      "outputs": [
        {
          "output_type": "stream",
          "name": "stdout",
          "text": [
            "20 Classes are:\n",
            " [ 0.  4.  5. 20. 25. 30. 51. 53. 54. 55. 57. 62. 70. 72. 82. 83. 84. 92.\n",
            " 94. 95.]\n"
          ]
        }
      ],
      "source": [
        "class_20 = np.unique(cls_matrix[[0,2,4,6],:])\n",
        "print('20 Classes are:\\n',class_20)\n",
        "\n",
        "sum=0\n",
        "for i in class_20:\n",
        "  delta = np.squeeze(y_train_full==i,axis=1)\n",
        "  y_train_full[delta]=sum\n",
        "  X_train_new=np.vstack((X_train_new, X_train_full[delta][0:size]))\n",
        "  y_train_new=np.vstack((y_train_new, y_train_full[delta][0:size]))\n",
        "  sum=sum+1\n",
        "\n",
        "sum=0\n",
        "for i in class_20:\n",
        "  delta=np.squeeze(y_test==i,axis=1)\n",
        "  y_test[delta]=sum\n",
        "  X_test_new = np.vstack((X_test_new, X_test[delta]))\n",
        "  y_test_new = np.vstack((y_test_new, y_test[delta]))  \n",
        "  sum=sum+1\n",
        "\n",
        "\n",
        "# Randomize data for training and testing\n",
        "data_points_tr = np.shape(X_train_new)[0]\n",
        "data_random_tr=np.random.permutation(data_points_tr)\n",
        "X_train_new=X_train_new[data_random_tr].astype(int)\n",
        "y_train_new=y_train_new[data_random_tr].astype(int)\n",
        "\n",
        "data_points_test = np.shape(X_test_new)[0]\n",
        "data_random_test=np.random.permutation(data_points_test)\n",
        "X_test_new=X_test_new[data_random_test].astype(int)\n",
        "y_test_new=y_test_new[data_random_test].astype(int)\n",
        "\n",
        "\n",
        "test_size=np.floor(len(class_20)*0.1*size).astype(int) # 10% validation size\n",
        "\n",
        "X_train_tr, X_train_v, y_train_tr, y_train_v = train_test_split(X_train_new,\n",
        "                                                                y_train_new,\n",
        "                                                                test_size=test_size)\n",
        "\n",
        "# Convert from numpy data to tf.data.Dataset\n",
        "ds_train = tf.data.Dataset.from_tensor_slices( (X_train_tr, y_train_tr) )\n",
        "ds_valid = tf.data.Dataset.from_tensor_slices((X_train_v, y_train_v))\n",
        "ds_test = tf.data.Dataset.from_tensor_slices((X_test_new, y_test_new))"
      ]
    },
    {
      "cell_type": "code",
      "execution_count": null,
      "metadata": {
        "colab": {
          "base_uri": "https://localhost:8080/",
          "height": 863
        },
        "id": "yMNk_1mkCScI",
        "outputId": "4f58d301-27b1-499e-c838-5a006c243e62"
      },
      "outputs": [
        {
          "output_type": "stream",
          "name": "stdout",
          "text": [
            "<TensorSliceDataset element_spec=(TensorSpec(shape=(32, 32, 3), dtype=tf.int64, name=None), TensorSpec(shape=(1,), dtype=tf.int64, name=None))>\n"
          ]
        },
        {
          "output_type": "display_data",
          "data": {
            "text/plain": [
              "<Figure size 432x288 with 1 Axes>"
            ],
            "image/png": "[encoded data removed]"
          },
          "metadata": {
            "needs_background": "light"
          }
        },
        {
          "output_type": "stream",
          "name": "stdout",
          "text": [
            "<TensorSliceDataset element_spec=(TensorSpec(shape=(32, 32, 3), dtype=tf.int64, name=None), TensorSpec(shape=(1,), dtype=tf.int64, name=None))>\n"
          ]
        },
        {
          "output_type": "display_data",
          "data": {
            "text/plain": [
              "<Figure size 432x288 with 1 Axes>"
            ],
            "image/png": "[encoded data removed]"
          },
          "metadata": {
            "needs_background": "light"
          }
        },
        {
          "output_type": "stream",
          "name": "stdout",
          "text": [
            "<TensorSliceDataset element_spec=(TensorSpec(shape=(32, 32, 3), dtype=tf.int64, name=None), TensorSpec(shape=(1,), dtype=tf.int64, name=None))>\n"
          ]
        },
        {
          "output_type": "display_data",
          "data": {
            "text/plain": [
              "<Figure size 432x288 with 1 Axes>"
            ],
            "image/png": "[encoded data removed]"
          },
          "metadata": {
            "needs_background": "light"
          }
        }
      ],
      "source": [
        "for element in ds_train.take(3):\n",
        "  image, label = element[0], element[1] # now its coarse\n",
        "  image.shape\n",
        "#  type(image.numpy()[:,:,0])\n",
        "#  type(image)\n",
        "  plt.imshow(image.numpy()[:,:,0])\n",
        "  type(image.numpy())\n",
        "  type(label)\n",
        "  print(ds_train)\n",
        "  #coarse_id_fine_id[id] = fine_labels_ids\n",
        "  plt.title(\"Class\" + \" \" +str(label.numpy()))\n",
        "  plt.show()"
      ]
    },
    {
      "cell_type": "code",
      "execution_count": null,
      "metadata": {
        "id": "5pPq69i-Csqy"
      },
      "outputs": [],
      "source": [
        "# Build pipeline\n",
        "batch = 32\n",
        "\n",
        "def preprocess(image, label):\n",
        "  image = tf.image.resize(image,[224,224])\n",
        "  #label = tf.label_mode(int(\"coarse\"))\n",
        "  return (image, label)\n",
        "\n",
        "\n",
        "def data_aug(image, label):\n",
        "  image = tf.image.random_flip_left_right(image)\n",
        "  image = tf.image.random_brightness(image, max_delta=63)\n",
        "  image = tf.image.random_contrast(image, lower=0.2, upper=1.8)\n",
        "  return (image, label)\n",
        "#image.shape \n",
        "\n",
        "ds_train=ds_train.map(preprocess).map(data_aug).batch(32).prefetch(1)\n",
        "ds_valid=ds_valid.map(preprocess).batch(32).prefetch(1)\n",
        "ds_test=ds_test.map(preprocess).batch(32).prefetch(1)"
      ]
    },
    {
      "cell_type": "code",
      "execution_count": null,
      "metadata": {
        "id": "34tbt4cjCw7t"
      },
      "outputs": [],
      "source": [
        "# Use EfficientNet V2\n",
        "base_model = keras.applications.EfficientNetV2B0(weights=\"imagenet\", \n",
        "                                              include_top=False,\n",
        "                                             input_shape=(224,224,3))\n",
        "global_avg = keras.layers.GlobalAveragePooling2D()(base_model.output)\n",
        "dropout = keras.layers.Dropout(0.005)(global_avg) \n",
        "output = keras.layers.Dense(100, activation=\"softmax\")(dropout)\n",
        "model = keras.models.Model(inputs=base_model.input, outputs=output)"
      ]
    },
    {
      "cell_type": "code",
      "execution_count": null,
      "metadata": {
        "colab": {
          "base_uri": "https://localhost:8080/"
        },
        "id": "ZuDyVpTCCzgT",
        "outputId": "5311a3bf-278c-46c6-a493-0f5c59e967ee"
      },
      "outputs": [
        {
          "output_type": "stream",
          "name": "stdout",
          "text": [
            "Epoch 1/50\n",
            "57/57 - 9s - loss: 2.6462 - accuracy: 0.3456 - val_loss: 1.6090 - val_accuracy: 0.5200 - 9s/epoch - 151ms/step\n",
            "Epoch 2/50\n",
            "57/57 - 2s - loss: 1.3219 - accuracy: 0.6333 - val_loss: 1.2026 - val_accuracy: 0.5900 - 2s/epoch - 32ms/step\n",
            "Epoch 3/50\n",
            "57/57 - 2s - loss: 1.0107 - accuracy: 0.7161 - val_loss: 1.0619 - val_accuracy: 0.6300 - 2s/epoch - 32ms/step\n",
            "Epoch 4/50\n",
            "57/57 - 2s - loss: 0.8510 - accuracy: 0.7578 - val_loss: 0.9881 - val_accuracy: 0.6300 - 2s/epoch - 32ms/step\n",
            "Epoch 5/50\n",
            "57/57 - 2s - loss: 0.7421 - accuracy: 0.8006 - val_loss: 0.9409 - val_accuracy: 0.6500 - 2s/epoch - 32ms/step\n",
            "Epoch 6/50\n",
            "57/57 - 2s - loss: 0.6608 - accuracy: 0.8256 - val_loss: 0.9096 - val_accuracy: 0.6800 - 2s/epoch - 32ms/step\n",
            "Epoch 7/50\n",
            "57/57 - 2s - loss: 0.5957 - accuracy: 0.8478 - val_loss: 0.8858 - val_accuracy: 0.6700 - 2s/epoch - 32ms/step\n",
            "Epoch 8/50\n",
            "57/57 - 2s - loss: 0.5420 - accuracy: 0.8672 - val_loss: 0.8691 - val_accuracy: 0.6700 - 2s/epoch - 32ms/step\n",
            "Epoch 9/50\n",
            "57/57 - 2s - loss: 0.4947 - accuracy: 0.8889 - val_loss: 0.8556 - val_accuracy: 0.6750 - 2s/epoch - 32ms/step\n",
            "Epoch 10/50\n",
            "57/57 - 2s - loss: 0.4557 - accuracy: 0.9006 - val_loss: 0.8458 - val_accuracy: 0.6750 - 2s/epoch - 32ms/step\n",
            "Epoch 11/50\n",
            "57/57 - 2s - loss: 0.4214 - accuracy: 0.9144 - val_loss: 0.8389 - val_accuracy: 0.6900 - 2s/epoch - 32ms/step\n",
            "Epoch 12/50\n",
            "57/57 - 2s - loss: 0.3892 - accuracy: 0.9267 - val_loss: 0.8339 - val_accuracy: 0.6950 - 2s/epoch - 32ms/step\n",
            "Epoch 13/50\n",
            "57/57 - 2s - loss: 0.3613 - accuracy: 0.9389 - val_loss: 0.8287 - val_accuracy: 0.7000 - 2s/epoch - 32ms/step\n",
            "Epoch 14/50\n",
            "57/57 - 2s - loss: 0.3370 - accuracy: 0.9461 - val_loss: 0.8246 - val_accuracy: 0.7050 - 2s/epoch - 32ms/step\n",
            "Epoch 15/50\n",
            "57/57 - 2s - loss: 0.3140 - accuracy: 0.9517 - val_loss: 0.8237 - val_accuracy: 0.7050 - 2s/epoch - 33ms/step\n",
            "Epoch 16/50\n",
            "57/57 - 2s - loss: 0.2940 - accuracy: 0.9567 - val_loss: 0.8224 - val_accuracy: 0.7100 - 2s/epoch - 33ms/step\n",
            "Epoch 17/50\n",
            "57/57 - 2s - loss: 0.2748 - accuracy: 0.9644 - val_loss: 0.8214 - val_accuracy: 0.7000 - 2s/epoch - 32ms/step\n",
            "Epoch 18/50\n",
            "57/57 - 2s - loss: 0.2590 - accuracy: 0.9694 - val_loss: 0.8233 - val_accuracy: 0.7050 - 2s/epoch - 32ms/step\n",
            "Epoch 19/50\n",
            "57/57 - 2s - loss: 0.2422 - accuracy: 0.9733 - val_loss: 0.8241 - val_accuracy: 0.7100 - 2s/epoch - 32ms/step\n",
            "Epoch 20/50\n",
            "57/57 - 2s - loss: 0.2281 - accuracy: 0.9778 - val_loss: 0.8243 - val_accuracy: 0.7050 - 2s/epoch - 32ms/step\n",
            "Epoch 21/50\n",
            "57/57 - 2s - loss: 0.2153 - accuracy: 0.9811 - val_loss: 0.8274 - val_accuracy: 0.7150 - 2s/epoch - 32ms/step\n",
            "Epoch 22/50\n",
            "57/57 - 2s - loss: 0.2027 - accuracy: 0.9850 - val_loss: 0.8278 - val_accuracy: 0.7050 - 2s/epoch - 32ms/step\n",
            "CPU times: user 1min 35s, sys: 7.35 s, total: 1min 42s\n",
            "Wall time: 49.6 s\n"
          ]
        }
      ],
      "source": [
        "# Freeze transferred layers and train\n",
        "%%time\n",
        "for layer in base_model.layers:\n",
        "    layer.trainable = False\n",
        "\n",
        "model.compile(loss=\"sparse_categorical_crossentropy\",\n",
        "                optimizer=keras.optimizers.Nadam(1e-3),\n",
        "                metrics=[\"accuracy\"])\n",
        "\n",
        "history = model.fit(ds_train, \n",
        "                    epochs=50, validation_data=ds_valid, verbose = 2,\n",
        "                    callbacks=[keras.callbacks.EarlyStopping(patience=5)])"
      ]
    },
    {
      "cell_type": "code",
      "execution_count": null,
      "metadata": {
        "colab": {
          "base_uri": "https://localhost:8080/"
        },
        "id": "t6QzkM-oC3fA",
        "outputId": "47e0558e-67f4-4f69-a604-d83123e9969f"
      },
      "outputs": [
        {
          "output_type": "stream",
          "name": "stdout",
          "text": [
            "Epoch 1/50\n",
            "57/57 - 30s - loss: 1.8913 - accuracy: 0.6278 - val_loss: 0.9846 - val_accuracy: 0.6600 - 30s/epoch - 535ms/step\n",
            "Epoch 2/50\n",
            "57/57 - 7s - loss: 0.4528 - accuracy: 0.9022 - val_loss: 0.8782 - val_accuracy: 0.6800 - 7s/epoch - 123ms/step\n",
            "Epoch 3/50\n",
            "57/57 - 7s - loss: 0.1517 - accuracy: 0.9850 - val_loss: 0.8351 - val_accuracy: 0.6850 - 7s/epoch - 122ms/step\n",
            "Epoch 4/50\n",
            "57/57 - 7s - loss: 0.0627 - accuracy: 0.9989 - val_loss: 0.8214 - val_accuracy: 0.7050 - 7s/epoch - 123ms/step\n",
            "Epoch 5/50\n",
            "57/57 - 7s - loss: 0.0339 - accuracy: 0.9994 - val_loss: 0.8127 - val_accuracy: 0.7250 - 7s/epoch - 123ms/step\n",
            "Epoch 6/50\n",
            "57/57 - 7s - loss: 0.0223 - accuracy: 1.0000 - val_loss: 0.8127 - val_accuracy: 0.7200 - 7s/epoch - 126ms/step\n",
            "Epoch 7/50\n",
            "57/57 - 7s - loss: 0.0158 - accuracy: 1.0000 - val_loss: 0.8139 - val_accuracy: 0.7350 - 7s/epoch - 123ms/step\n",
            "Epoch 8/50\n",
            "57/57 - 7s - loss: 0.0118 - accuracy: 1.0000 - val_loss: 0.8166 - val_accuracy: 0.7250 - 7s/epoch - 122ms/step\n",
            "Epoch 9/50\n",
            "57/57 - 7s - loss: 0.0093 - accuracy: 1.0000 - val_loss: 0.8206 - val_accuracy: 0.7250 - 7s/epoch - 123ms/step\n",
            "Epoch 10/50\n",
            "57/57 - 7s - loss: 0.0075 - accuracy: 1.0000 - val_loss: 0.8244 - val_accuracy: 0.7300 - 7s/epoch - 122ms/step\n",
            "CPU times: user 1min 58s, sys: 7.6 s, total: 2min 5s\n",
            "Wall time: 1min 40s\n"
          ]
        }
      ],
      "source": [
        "# Unfreeze layers and train\n",
        "%%time\n",
        "for layer in base_model.layers:\n",
        "    layer.trainable = True\n",
        "\n",
        "model.compile(loss=\"sparse_categorical_crossentropy\",\n",
        "                optimizer=keras.optimizers.Nadam(1e-4), # need smaller lr\n",
        "                metrics=[\"accuracy\"])\n",
        "\n",
        "#n_epochs = 1\n",
        "history = model.fit(ds_train,\n",
        "                    epochs=50,\n",
        "                    validation_data=ds_valid, verbose = 2,\n",
        "                    callbacks=[keras.callbacks.EarlyStopping(patience=5)])"
      ]
    },
    {
      "cell_type": "code",
      "execution_count": null,
      "metadata": {
        "colab": {
          "base_uri": "https://localhost:8080/"
        },
        "id": "8j7fJswmC6Zy",
        "outputId": "cde32392-f0af-4c42-b262-73ffb6e637e4"
      },
      "outputs": [
        {
          "output_type": "stream",
          "name": "stdout",
          "text": [
            "63/63 [==============================] - 2s 31ms/step - loss: 0.7698 - accuracy: 0.7670\n"
          ]
        }
      ],
      "source": [
        "history = model.evaluate(ds_test)"
      ]
    },
    {
      "cell_type": "code",
      "execution_count": null,
      "metadata": {
        "colab": {
          "base_uri": "https://localhost:8080/"
        },
        "id": "3_epxSypC7Tm",
        "outputId": "ec960ff1-1383-46a3-aa2b-f108237c1282"
      },
      "outputs": [
        {
          "output_type": "stream",
          "name": "stdout",
          "text": [
            "tf.Tensor([18  4 15 ... 14  2 12], shape=(2000,), dtype=int64) tf.Tensor(\n",
            "[[18]\n",
            " [ 4]\n",
            " [15]\n",
            " ...\n",
            " [14]\n",
            " [ 2]\n",
            " [12]], shape=(2000, 1), dtype=int64)\n"
          ]
        }
      ],
      "source": [
        "y_pred_fine = model.predict(ds_test)\n",
        "predicted_categories = tf.argmax(y_pred_fine, axis=1)\n",
        "true_categories = tf.concat([y for x, y in ds_test], axis=0)\n",
        "print(predicted_categories, true_categories)"
      ]
    },
    {
      "cell_type": "code",
      "execution_count": null,
      "metadata": {
        "colab": {
          "base_uri": "https://localhost:8080/",
          "height": 870
        },
        "id": "iehxo5x-C9g1",
        "outputId": "f9f8b218-430d-44f3-e1bb-097dcdb6f7b2"
      },
      "outputs": [
        {
          "output_type": "execute_result",
          "data": {
            "text/plain": [
              "Text(0.5, 1.0, 'Confusion Matrix on Coarse Label')"
            ]
          },
          "metadata": {},
          "execution_count": 23
        },
        {
          "output_type": "display_data",
          "data": {
            "text/plain": [
              "<Figure size 1080x1080 with 2 Axes>"
            ],
            "image/png": "[encoded data removed]"
          },
          "metadata": {
            "needs_background": "light"
          }
        }
      ],
      "source": [
        "# Confusion matrix\n",
        "\n",
        "from sklearn.metrics import confusion_matrix, ConfusionMatrixDisplay\n",
        "from unicodedata import normalize\n",
        "import itertools\n",
        "\n",
        "cm = confusion_matrix(predicted_categories, true_categories)\n",
        "disp = ConfusionMatrixDisplay(cm, display_labels=np.arange(25))\n",
        "fig, ax = plt.subplots(figsize=(15,15))\n",
        "disp.plot(ax=ax, cmap=plt.cm.Blues)\n",
        "disp.ax_.set_title(\"Confusion Matrix on Coarse Label\")"
      ]
    },
    {
      "cell_type": "code",
      "execution_count": null,
      "metadata": {
        "colab": {
          "base_uri": "https://localhost:8080/",
          "height": 491
        },
        "id": "md6NaHjzDAC2",
        "outputId": "f7f6e3f6-de9c-449e-f46c-8ba026c6dd3f"
      },
      "outputs": [
        {
          "output_type": "display_data",
          "data": {
            "text/plain": [
              "<Figure size 1080x3600 with 2 Axes>"
            ],
            "image/png": "[encoded data removed]"
          },
          "metadata": {
            "needs_background": "light"
          }
        }
      ],
      "source": [
        "fig, ax = plt.subplots(1, 1, figsize = (15,50))\n",
        "for i in range(15):\n",
        "  if predicted_categories[i] != true_categories[i]:\n",
        "    plt.subplot(12,4,i+1)\n",
        "    plt.imshow(X_test[i])\n",
        "    plt.title(f'predicted image: {predicted_categories[i]}' '\\n' f'Actual image: {true_categories[i]}')\n",
        "#fig.tight_layout()\n",
        "plt.show()"
      ]
    },
    {
      "cell_type": "code",
      "source": [
        "from sklearn import metrics\n",
        "\n",
        "from tensorflow.python.ops.numpy_ops import np_config\n",
        "\n",
        "from itertools import chain \n",
        "TT = list(chain(*true_categories.numpy())) \n",
        "\n",
        "np_config.enable_numpy_behavior()\n",
        "PT = predicted_categories.tolist()\n",
        "\n",
        "\n",
        "labels = TT\n",
        "guesses =PT\n",
        "\n",
        "# True values\n",
        "y_true = TT\n",
        "# Predicted values\n",
        "y_pred = PT\n",
        "\n",
        "# Print the confusion matrix\n",
        "print(metrics.confusion_matrix(y_true, y_pred))\n",
        "\n",
        "# Print the precision and recall, among other metrics\n",
        "print(metrics.classification_report(y_true, y_pred, digits=3))"
      ],
      "metadata": {
        "colab": {
          "base_uri": "https://localhost:8080/"
        },
        "id": "XxZzE2RTNSjJ",
        "outputId": "6ab9b72f-31f1-43fa-f874-21c6ea1ae76a"
      },
      "execution_count": null,
      "outputs": [
        {
          "output_type": "stream",
          "name": "stdout",
          "text": [
            "[[87  0  0  0  0  0  0  2  0  0  3  0  2  0  0  6  0  0  0  0]\n",
            " [ 0 66  0  0  1  0  6  0  0 20  0  0  0  3  1  0  2  0  1  0]\n",
            " [ 0  0 80  4  6  0  0  0  0  1  0  0  0  0  0  0  6  0  3  0]\n",
            " [ 0  0  5 89  4  0  0  0  0  0  0  0  0  1  0  1  0  0  0  0]\n",
            " [ 0  0 15  7 66  0  1  0  1  0  0  0  0  1  0  0  4  1  4  0]\n",
            " [ 0  1  0  0  1 69  1  0  1  6  0  0  0  3  0  0  0  0  0 18]\n",
            " [ 0  1  1  0  1  0 86  0  0  1  0  0  0  1  0  0  3  6  0  0]\n",
            " [ 0  0  0  0  0  0  0 94  0  0  2  1  0  0  0  2  0  1  0  0]\n",
            " [ 0  0  0  0  0  0  0  0 80  0  0  1  6  0  2  0  1 10  0  0]\n",
            " [ 0 10  0  1  1  6  3  0  0 63  0  0  0 15  0  0  0  0  0  1]\n",
            " [ 3  0  0  0  0  0  1  5  0  1 74  1  0  5  0  4  1  5  0  0]\n",
            " [ 0  0  0  0  0  0  1  0  2  0  1 72  7  1  8  3  0  5  0  0]\n",
            " [ 0  0  0  0  0  0  1  0  5  0  0  5 75  0  1  1  0 11  0  1]\n",
            " [ 0 17  1  0  0  5  1  0  0 25  0  0  0 44  1  0  0  0  0  6]\n",
            " [ 0  1  0  0  0  0  1  0  0  0  0  4  0  0 93  1  0  0  0  0]\n",
            " [ 1  0  0  0  0  0  0  6  1  0  8  3  1  0  0 75  0  5  0  0]\n",
            " [ 0  1  2  3  3  0  0  0  0  1  0  0  0  0  0  1 86  1  2  0]\n",
            " [ 0  0  0  0  0  0  1  0  8  0  0 15 13  0  2  4  1 56  0  0]\n",
            " [ 0  0  1  0  0  0  0  0  0  0  0  0  0  0  0  0  1  0 98  0]\n",
            " [ 0  2  1  0  0 12  0  0  0  0  0  0  0  4  0  0  0  0  0 81]]\n",
            "              precision    recall  f1-score   support\n",
            "\n",
            "           0      0.956     0.870     0.911       100\n",
            "           1      0.667     0.660     0.663       100\n",
            "           2      0.755     0.800     0.777       100\n",
            "           3      0.856     0.890     0.873       100\n",
            "           4      0.795     0.660     0.721       100\n",
            "           5      0.750     0.690     0.719       100\n",
            "           6      0.835     0.860     0.847       100\n",
            "           7      0.879     0.940     0.908       100\n",
            "           8      0.816     0.800     0.808       100\n",
            "           9      0.534     0.630     0.578       100\n",
            "          10      0.841     0.740     0.787       100\n",
            "          11      0.706     0.720     0.713       100\n",
            "          12      0.721     0.750     0.735       100\n",
            "          13      0.564     0.440     0.494       100\n",
            "          14      0.861     0.930     0.894       100\n",
            "          15      0.765     0.750     0.758       100\n",
            "          16      0.819     0.860     0.839       100\n",
            "          17      0.554     0.560     0.557       100\n",
            "          18      0.907     0.980     0.942       100\n",
            "          19      0.757     0.810     0.783       100\n",
            "\n",
            "    accuracy                          0.767      2000\n",
            "   macro avg      0.767     0.767     0.765      2000\n",
            "weighted avg      0.767     0.767     0.765      2000\n",
            "\n"
          ]
        }
      ]
    },
    {
      "cell_type": "code",
      "source": [],
      "metadata": {
        "id": "TdvvY6IoQSP-"
      },
      "execution_count": null,
      "outputs": []
    },
    {
      "cell_type": "markdown",
      "metadata": {
        "id": "Udb1gqCp4EcJ"
      },
      "source": [
        "## Question 3: Performance on 5-class subset of CIFAR-100\n",
        "### Part 3A: Performance on \"different\" classes\n",
        "Repeat your analysis from Part 2A, but for 5 classes chosen from 5 different superclasses.\n",
        "\n",
        "Are your results different from Part 2A?"
      ]
    },
    {
      "cell_type": "code",
      "execution_count": null,
      "metadata": {
        "id": "IvR91OyC4dN7"
      },
      "outputs": [],
      "source": [
        "# Import modules\n",
        "\n",
        "import numpy as np\n",
        "import pandas as pd\n",
        "import matplotlib.pyplot as plt\n",
        "import tensorflow as tf\n",
        "from tensorflow import keras\n",
        "import itertools\n",
        "import tensorflow_datasets as tfds\n",
        "from sklearn.datasets import make_multilabel_classification\n",
        "\n",
        "from sklearn.model_selection import train_test_split\n",
        "cifar100 = keras.datasets.cifar100\n",
        "np.random.seed(42)\n",
        "tf.random.set_seed(42)"
      ]
    },
    {
      "cell_type": "code",
      "execution_count": null,
      "metadata": {
        "id": "fkTfMCB0DxCa"
      },
      "outputs": [],
      "source": [
        "cifar100 = keras.datasets.cifar100\n",
        "(X_train_full, y_train_full), (X_test, y_test) = cifar100.load_data(label_mode='fine')\n",
        "(_, y_coarse_train), (_, y_coarse_test) =cifar100.load_data(label_mode='coarse')\n",
        "\n",
        "size = 100\n",
        " \n",
        "y_train_full_dup = y_train_full\n",
        "y_test_dup=y_test\n",
        "\n",
        "# Remove single-dimensional entries for labels\n",
        "y_train_full_sq = np.squeeze(y_train_full)\n",
        "y_test_sq = np.squeeze(y_test)\n",
        "y_coarse_train_sq = np.squeeze(y_coarse_train)\n",
        "y_coarse_test_sq = np.squeeze(y_coarse_test)\n",
        "\n",
        "# Define empty matrices \n",
        "X_train_new=np.empty((0,32,32,3))\n",
        "y_train_new=np.empty((0,1))\n",
        "X_test_new=np.empty((0,32,32,3))\n",
        "y_test_new=np.empty((0,1))\n",
        "cls_matrix=np.empty((0,5))\n",
        "\n",
        "# Preparing a class matrix which has all the superclass ordered\n",
        "for i in np.arange(0,20,1): \n",
        "  cls_matrix=np.vstack((cls_matrix,np.unique(y_train_full[y_coarse_train_sq==i])))"
      ]
    },
    {
      "cell_type": "code",
      "execution_count": null,
      "metadata": {
        "colab": {
          "base_uri": "https://localhost:8080/"
        },
        "id": "cKHfDwLXJ5BR",
        "outputId": "26854502-0a15-4b12-88dd-3b858caa144b"
      },
      "outputs": [
        {
          "output_type": "stream",
          "name": "stdout",
          "text": [
            "Five Classes are:\n",
            " [14. 25. 40. 55. 70.]\n"
          ]
        }
      ],
      "source": [
        "five_class =  np.unique(cls_matrix[[0,2,5,6,7],2])\n",
        "print('Five Classes are:\\n',five_class)\n",
        "\n",
        "sum=0\n",
        "for i in five_class:\n",
        "  delta = np.squeeze(y_train_full==i,axis=1)\n",
        "  y_train_full[delta]=sum\n",
        "  X_train_new=np.vstack((X_train_new, X_train_full[delta][0:size]))\n",
        "  y_train_new=np.vstack((y_train_new, y_train_full[delta][0:size]))\n",
        "  sum=sum+1\n",
        "\n",
        "sum=0\n",
        "for i in five_class:\n",
        "  delta=np.squeeze(y_test==i,axis=1)\n",
        "  y_test[delta]=sum\n",
        "  X_test_new = np.vstack((X_test_new, X_test[delta]))\n",
        "  y_test_new = np.vstack((y_test_new, y_test[delta]))  \n",
        "  sum=sum+1\n",
        "\n",
        "\n",
        "# Randomize data for training and testing\n",
        "data_points_tr = np.shape(X_train_new)[0]\n",
        "data_random_tr=np.random.permutation(data_points_tr)\n",
        "X_train_new=X_train_new[data_random_tr].astype(int)\n",
        "y_train_new=y_train_new[data_random_tr].astype(int)\n",
        "\n",
        "data_points_test = np.shape(X_test_new)[0]\n",
        "data_random_test=np.random.permutation(data_points_test)\n",
        "X_test_new=X_test_new[data_random_test].astype(int)\n",
        "y_test_new=y_test_new[data_random_test].astype(int)\n",
        "\n",
        "\n",
        "test_size=np.floor(len(five_class)*0.1*size).astype(int) # 10% validation size\n",
        "\n",
        "X_train_tr, X_train_v, y_train_tr, y_train_v = train_test_split(X_train_new,\n",
        "                                                                y_train_new,\n",
        "                                                                test_size=test_size)\n",
        "\n",
        "# Convert from numpy data to tf.data.Dataset\n",
        "ds_train = tf.data.Dataset.from_tensor_slices( (X_train_tr, y_train_tr) )\n",
        "ds_valid = tf.data.Dataset.from_tensor_slices((X_train_v, y_train_v))\n",
        "ds_test = tf.data.Dataset.from_tensor_slices((X_test_new, y_test_new))"
      ]
    },
    {
      "cell_type": "code",
      "execution_count": null,
      "metadata": {
        "colab": {
          "base_uri": "https://localhost:8080/",
          "height": 863
        },
        "id": "hMil75cbD5dG",
        "outputId": "f8541148-37bf-49a5-e945-b0c93d739c24"
      },
      "outputs": [
        {
          "output_type": "stream",
          "name": "stdout",
          "text": [
            "<TensorSliceDataset element_spec=(TensorSpec(shape=(32, 32, 3), dtype=tf.int64, name=None), TensorSpec(shape=(1,), dtype=tf.int64, name=None))>\n"
          ]
        },
        {
          "output_type": "display_data",
          "data": {
            "text/plain": [
              "<Figure size 432x288 with 1 Axes>"
            ],
            "image/png": "[encoded data removed]"
          },
          "metadata": {
            "needs_background": "light"
          }
        },
        {
          "output_type": "stream",
          "name": "stdout",
          "text": [
            "<TensorSliceDataset element_spec=(TensorSpec(shape=(32, 32, 3), dtype=tf.int64, name=None), TensorSpec(shape=(1,), dtype=tf.int64, name=None))>\n"
          ]
        },
        {
          "output_type": "display_data",
          "data": {
            "text/plain": [
              "<Figure size 432x288 with 1 Axes>"
            ],
            "image/png": "[encoded data removed]"
          },
          "metadata": {
            "needs_background": "light"
          }
        },
        {
          "output_type": "stream",
          "name": "stdout",
          "text": [
            "<TensorSliceDataset element_spec=(TensorSpec(shape=(32, 32, 3), dtype=tf.int64, name=None), TensorSpec(shape=(1,), dtype=tf.int64, name=None))>\n"
          ]
        },
        {
          "output_type": "display_data",
          "data": {
            "text/plain": [
              "<Figure size 432x288 with 1 Axes>"
            ],
            "image/png": "[encoded data removed]"
          },
          "metadata": {
            "needs_background": "light"
          }
        }
      ],
      "source": [
        "import matplotlib.pyplot as plt\n",
        "for element in ds_train.take(3):\n",
        "  image, label = element[0], element[1] # now its coarse\n",
        "  image.shape\n",
        "#  type(image.numpy()[:,:,0])\n",
        "#  type(image)\n",
        "  plt.imshow(image.numpy()[:,:,0])\n",
        "  type(image.numpy())\n",
        "  type(label)\n",
        "  print(ds_train)\n",
        "  #coarse_id_fine_id[id] = fine_labels_ids\n",
        "  plt.title(\"Class\" + \" \" +str(label.numpy()))\n",
        "  plt.show()"
      ]
    },
    {
      "cell_type": "code",
      "execution_count": null,
      "metadata": {
        "id": "yk8cDsnQD-L6"
      },
      "outputs": [],
      "source": [
        "# Build pipeline\n",
        "batch = 32\n",
        "\n",
        "def preprocess(image, label):\n",
        "  image = tf.image.resize(image,[224,224])\n",
        "  #label = tf.label_mode(int(\"coarse\"))\n",
        "  return (image, label)\n",
        "\n",
        "\n",
        "def data_aug(image, label):\n",
        "  image = tf.image.random_flip_left_right(image)\n",
        "  image = tf.image.random_brightness(image, max_delta=63)\n",
        "  image = tf.image.random_contrast(image, lower=0.2, upper=1.8)\n",
        "  return (image, label)\n",
        "#image.shape \n",
        "\n",
        "ds_train=ds_train.map(preprocess).map(data_aug).batch(32).prefetch(1)\n",
        "ds_valid=ds_valid.map(preprocess).batch(32).prefetch(1)\n",
        "ds_test=ds_test.map(preprocess).batch(32).prefetch(1)"
      ]
    },
    {
      "cell_type": "code",
      "execution_count": null,
      "metadata": {
        "id": "STQvxXaPEAIN"
      },
      "outputs": [],
      "source": [
        "# Use EfficientNet V2\n",
        "base_model = keras.applications.EfficientNetV2B0(weights=\"imagenet\", \n",
        "                                              include_top=False,\n",
        "                                             input_shape=(224,224,3))\n",
        "global_avg = keras.layers.GlobalAveragePooling2D()(base_model.output)\n",
        "dropout = keras.layers.Dropout(0.005)(global_avg) \n",
        "output = keras.layers.Dense(100, activation=\"softmax\")(dropout)\n",
        "model = keras.models.Model(inputs=base_model.input, outputs=output)"
      ]
    },
    {
      "cell_type": "code",
      "execution_count": null,
      "metadata": {
        "colab": {
          "base_uri": "https://localhost:8080/"
        },
        "id": "4ERHB64AEC8a",
        "outputId": "f7c0b38b-f17b-4bb0-9773-3972dfc7138c"
      },
      "outputs": [
        {
          "output_type": "stream",
          "name": "stdout",
          "text": [
            "Epoch 1/50\n",
            "15/15 - 9s - loss: 3.6184 - accuracy: 0.2333 - val_loss: 2.1375 - val_accuracy: 0.5400 - 9s/epoch - 582ms/step\n",
            "Epoch 2/50\n",
            "15/15 - 1s - loss: 1.6870 - accuracy: 0.6244 - val_loss: 1.0265 - val_accuracy: 0.7600 - 509ms/epoch - 34ms/step\n",
            "Epoch 3/50\n",
            "15/15 - 1s - loss: 0.9306 - accuracy: 0.8200 - val_loss: 0.6627 - val_accuracy: 0.8400 - 509ms/epoch - 34ms/step\n",
            "Epoch 4/50\n",
            "15/15 - 1s - loss: 0.6445 - accuracy: 0.8689 - val_loss: 0.5138 - val_accuracy: 0.8400 - 507ms/epoch - 34ms/step\n",
            "Epoch 5/50\n",
            "15/15 - 1s - loss: 0.5106 - accuracy: 0.8956 - val_loss: 0.4373 - val_accuracy: 0.8400 - 505ms/epoch - 34ms/step\n",
            "Epoch 6/50\n",
            "15/15 - 1s - loss: 0.4302 - accuracy: 0.9089 - val_loss: 0.3917 - val_accuracy: 0.8600 - 509ms/epoch - 34ms/step\n",
            "Epoch 7/50\n",
            "15/15 - 1s - loss: 0.3759 - accuracy: 0.9244 - val_loss: 0.3613 - val_accuracy: 0.8600 - 509ms/epoch - 34ms/step\n",
            "Epoch 8/50\n",
            "15/15 - 1s - loss: 0.3325 - accuracy: 0.9356 - val_loss: 0.3393 - val_accuracy: 0.8600 - 505ms/epoch - 34ms/step\n",
            "Epoch 9/50\n",
            "15/15 - 1s - loss: 0.2999 - accuracy: 0.9422 - val_loss: 0.3225 - val_accuracy: 0.8600 - 514ms/epoch - 34ms/step\n",
            "Epoch 10/50\n",
            "15/15 - 1s - loss: 0.2728 - accuracy: 0.9444 - val_loss: 0.3102 - val_accuracy: 0.8600 - 509ms/epoch - 34ms/step\n",
            "Epoch 11/50\n",
            "15/15 - 1s - loss: 0.2505 - accuracy: 0.9511 - val_loss: 0.3004 - val_accuracy: 0.8600 - 507ms/epoch - 34ms/step\n",
            "Epoch 12/50\n",
            "15/15 - 1s - loss: 0.2324 - accuracy: 0.9622 - val_loss: 0.2926 - val_accuracy: 0.8800 - 505ms/epoch - 34ms/step\n",
            "Epoch 13/50\n",
            "15/15 - 1s - loss: 0.2153 - accuracy: 0.9644 - val_loss: 0.2858 - val_accuracy: 0.8800 - 518ms/epoch - 35ms/step\n",
            "Epoch 14/50\n",
            "15/15 - 1s - loss: 0.2001 - accuracy: 0.9689 - val_loss: 0.2806 - val_accuracy: 0.8800 - 514ms/epoch - 34ms/step\n",
            "Epoch 15/50\n",
            "15/15 - 1s - loss: 0.1869 - accuracy: 0.9711 - val_loss: 0.2753 - val_accuracy: 0.9000 - 507ms/epoch - 34ms/step\n",
            "Epoch 16/50\n",
            "15/15 - 1s - loss: 0.1758 - accuracy: 0.9756 - val_loss: 0.2716 - val_accuracy: 0.9200 - 504ms/epoch - 34ms/step\n",
            "Epoch 17/50\n",
            "15/15 - 1s - loss: 0.1650 - accuracy: 0.9800 - val_loss: 0.2688 - val_accuracy: 0.9200 - 507ms/epoch - 34ms/step\n",
            "Epoch 18/50\n",
            "15/15 - 1s - loss: 0.1555 - accuracy: 0.9822 - val_loss: 0.2663 - val_accuracy: 0.9200 - 515ms/epoch - 34ms/step\n",
            "Epoch 19/50\n",
            "15/15 - 1s - loss: 0.1464 - accuracy: 0.9822 - val_loss: 0.2638 - val_accuracy: 0.9200 - 505ms/epoch - 34ms/step\n",
            "Epoch 20/50\n",
            "15/15 - 1s - loss: 0.1382 - accuracy: 0.9822 - val_loss: 0.2618 - val_accuracy: 0.9200 - 511ms/epoch - 34ms/step\n",
            "Epoch 21/50\n",
            "15/15 - 1s - loss: 0.1307 - accuracy: 0.9844 - val_loss: 0.2602 - val_accuracy: 0.9200 - 509ms/epoch - 34ms/step\n",
            "Epoch 22/50\n",
            "15/15 - 1s - loss: 0.1241 - accuracy: 0.9844 - val_loss: 0.2586 - val_accuracy: 0.9200 - 508ms/epoch - 34ms/step\n",
            "Epoch 23/50\n",
            "15/15 - 1s - loss: 0.1183 - accuracy: 0.9867 - val_loss: 0.2569 - val_accuracy: 0.9200 - 508ms/epoch - 34ms/step\n",
            "Epoch 24/50\n",
            "15/15 - 1s - loss: 0.1130 - accuracy: 0.9867 - val_loss: 0.2553 - val_accuracy: 0.9200 - 507ms/epoch - 34ms/step\n",
            "Epoch 25/50\n",
            "15/15 - 1s - loss: 0.1086 - accuracy: 0.9867 - val_loss: 0.2542 - val_accuracy: 0.9200 - 507ms/epoch - 34ms/step\n",
            "Epoch 26/50\n",
            "15/15 - 1s - loss: 0.1034 - accuracy: 0.9867 - val_loss: 0.2530 - val_accuracy: 0.9200 - 506ms/epoch - 34ms/step\n",
            "Epoch 27/50\n",
            "15/15 - 1s - loss: 0.0985 - accuracy: 0.9867 - val_loss: 0.2519 - val_accuracy: 0.9200 - 512ms/epoch - 34ms/step\n",
            "Epoch 28/50\n",
            "15/15 - 1s - loss: 0.0936 - accuracy: 0.9911 - val_loss: 0.2508 - val_accuracy: 0.9200 - 512ms/epoch - 34ms/step\n",
            "Epoch 29/50\n",
            "15/15 - 1s - loss: 0.0898 - accuracy: 0.9911 - val_loss: 0.2500 - val_accuracy: 0.9200 - 509ms/epoch - 34ms/step\n",
            "Epoch 30/50\n",
            "15/15 - 1s - loss: 0.0862 - accuracy: 0.9911 - val_loss: 0.2491 - val_accuracy: 0.9200 - 508ms/epoch - 34ms/step\n",
            "Epoch 31/50\n",
            "15/15 - 1s - loss: 0.0823 - accuracy: 0.9911 - val_loss: 0.2489 - val_accuracy: 0.9200 - 512ms/epoch - 34ms/step\n",
            "Epoch 32/50\n",
            "15/15 - 1s - loss: 0.0792 - accuracy: 0.9911 - val_loss: 0.2482 - val_accuracy: 0.9000 - 507ms/epoch - 34ms/step\n",
            "Epoch 33/50\n",
            "15/15 - 1s - loss: 0.0768 - accuracy: 0.9911 - val_loss: 0.2475 - val_accuracy: 0.9000 - 513ms/epoch - 34ms/step\n",
            "Epoch 34/50\n",
            "15/15 - 1s - loss: 0.0734 - accuracy: 0.9911 - val_loss: 0.2467 - val_accuracy: 0.9000 - 506ms/epoch - 34ms/step\n",
            "Epoch 35/50\n",
            "15/15 - 1s - loss: 0.0708 - accuracy: 0.9933 - val_loss: 0.2460 - val_accuracy: 0.9000 - 507ms/epoch - 34ms/step\n",
            "Epoch 36/50\n",
            "15/15 - 1s - loss: 0.0681 - accuracy: 0.9956 - val_loss: 0.2454 - val_accuracy: 0.9000 - 504ms/epoch - 34ms/step\n",
            "Epoch 37/50\n",
            "15/15 - 1s - loss: 0.0656 - accuracy: 0.9956 - val_loss: 0.2455 - val_accuracy: 0.9000 - 505ms/epoch - 34ms/step\n",
            "Epoch 38/50\n",
            "15/15 - 1s - loss: 0.0641 - accuracy: 0.9956 - val_loss: 0.2455 - val_accuracy: 0.9000 - 508ms/epoch - 34ms/step\n",
            "Epoch 39/50\n",
            "15/15 - 1s - loss: 0.0616 - accuracy: 0.9956 - val_loss: 0.2448 - val_accuracy: 0.9000 - 512ms/epoch - 34ms/step\n",
            "Epoch 40/50\n",
            "15/15 - 1s - loss: 0.0587 - accuracy: 0.9956 - val_loss: 0.2444 - val_accuracy: 0.9000 - 509ms/epoch - 34ms/step\n",
            "Epoch 41/50\n",
            "15/15 - 1s - loss: 0.0567 - accuracy: 0.9978 - val_loss: 0.2439 - val_accuracy: 0.9000 - 510ms/epoch - 34ms/step\n",
            "Epoch 42/50\n",
            "15/15 - 1s - loss: 0.0550 - accuracy: 0.9978 - val_loss: 0.2430 - val_accuracy: 0.9000 - 507ms/epoch - 34ms/step\n",
            "Epoch 43/50\n",
            "15/15 - 1s - loss: 0.0530 - accuracy: 0.9978 - val_loss: 0.2422 - val_accuracy: 0.9000 - 514ms/epoch - 34ms/step\n",
            "Epoch 44/50\n",
            "15/15 - 1s - loss: 0.0514 - accuracy: 0.9978 - val_loss: 0.2418 - val_accuracy: 0.9000 - 505ms/epoch - 34ms/step\n",
            "Epoch 45/50\n",
            "15/15 - 1s - loss: 0.0500 - accuracy: 0.9978 - val_loss: 0.2416 - val_accuracy: 0.9000 - 505ms/epoch - 34ms/step\n",
            "Epoch 46/50\n",
            "15/15 - 1s - loss: 0.0479 - accuracy: 0.9978 - val_loss: 0.2416 - val_accuracy: 0.9000 - 504ms/epoch - 34ms/step\n",
            "Epoch 47/50\n",
            "15/15 - 1s - loss: 0.0465 - accuracy: 0.9978 - val_loss: 0.2415 - val_accuracy: 0.9000 - 506ms/epoch - 34ms/step\n",
            "Epoch 48/50\n",
            "15/15 - 1s - loss: 0.0456 - accuracy: 1.0000 - val_loss: 0.2410 - val_accuracy: 0.9000 - 508ms/epoch - 34ms/step\n",
            "Epoch 49/50\n",
            "15/15 - 1s - loss: 0.0436 - accuracy: 1.0000 - val_loss: 0.2401 - val_accuracy: 0.9000 - 505ms/epoch - 34ms/step\n",
            "Epoch 50/50\n",
            "15/15 - 1s - loss: 0.0423 - accuracy: 1.0000 - val_loss: 0.2401 - val_accuracy: 0.9000 - 509ms/epoch - 34ms/step\n",
            "CPU times: user 59.9 s, sys: 3.57 s, total: 1min 3s\n",
            "Wall time: 36.4 s\n"
          ]
        }
      ],
      "source": [
        "# Freeze transferred layers and train\n",
        "%%time\n",
        "for layer in base_model.layers:\n",
        "    layer.trainable = False\n",
        "\n",
        "model.compile(loss=\"sparse_categorical_crossentropy\",\n",
        "                optimizer=keras.optimizers.Nadam(1e-3),\n",
        "                metrics=[\"accuracy\"])\n",
        "\n",
        "history = model.fit(ds_train, \n",
        "                    epochs=50, validation_data=ds_valid, verbose = 2,\n",
        "                    callbacks=[keras.callbacks.EarlyStopping(patience=5)])"
      ]
    },
    {
      "cell_type": "code",
      "execution_count": null,
      "metadata": {
        "colab": {
          "base_uri": "https://localhost:8080/"
        },
        "id": "ZFjQT_VxEGg9",
        "outputId": "a8e6cf1f-c740-4a37-c5f7-69213e1fab71"
      },
      "outputs": [
        {
          "output_type": "stream",
          "name": "stdout",
          "text": [
            "Epoch 1/50\n",
            "15/15 - 23s - loss: 3.1789 - accuracy: 0.6044 - val_loss: 0.5134 - val_accuracy: 0.9000 - 23s/epoch - 2s/step\n",
            "Epoch 2/50\n",
            "15/15 - 2s - loss: 0.9794 - accuracy: 0.9489 - val_loss: 0.8132 - val_accuracy: 0.9000 - 2s/epoch - 121ms/step\n",
            "Epoch 3/50\n",
            "15/15 - 2s - loss: 0.2755 - accuracy: 0.9889 - val_loss: 0.5996 - val_accuracy: 0.9000 - 2s/epoch - 121ms/step\n",
            "Epoch 4/50\n",
            "15/15 - 2s - loss: 0.1011 - accuracy: 0.9956 - val_loss: 0.5377 - val_accuracy: 0.8800 - 2s/epoch - 121ms/step\n",
            "Epoch 5/50\n",
            "15/15 - 2s - loss: 0.0480 - accuracy: 1.0000 - val_loss: 0.5463 - val_accuracy: 0.9200 - 2s/epoch - 121ms/step\n",
            "Epoch 6/50\n",
            "15/15 - 2s - loss: 0.0297 - accuracy: 1.0000 - val_loss: 0.5516 - val_accuracy: 0.9200 - 2s/epoch - 121ms/step\n",
            "CPU times: user 35.8 s, sys: 1.39 s, total: 37.2 s\n",
            "Wall time: 32.3 s\n"
          ]
        }
      ],
      "source": [
        "# Unfreeze layers and train\n",
        "%%time\n",
        "for layer in base_model.layers:\n",
        "    layer.trainable = True\n",
        "\n",
        "model.compile(loss=\"sparse_categorical_crossentropy\",\n",
        "                optimizer=keras.optimizers.Nadam(1e-4), # need smaller lr\n",
        "                metrics=[\"accuracy\"])\n",
        "\n",
        "#n_epochs = 1\n",
        "history = model.fit(ds_train,\n",
        "                    epochs=50,\n",
        "                    validation_data=ds_valid, verbose = 2,\n",
        "                    callbacks=[keras.callbacks.EarlyStopping(patience=5)])"
      ]
    },
    {
      "cell_type": "code",
      "execution_count": null,
      "metadata": {
        "colab": {
          "base_uri": "https://localhost:8080/"
        },
        "id": "HyuDDkggEJD9",
        "outputId": "5323ac04-64cb-47d0-8018-8fe23ec36bbe"
      },
      "outputs": [
        {
          "output_type": "stream",
          "name": "stdout",
          "text": [
            "16/16 [==============================] - 1s 39ms/step - loss: 0.4323 - accuracy: 0.9060\n"
          ]
        }
      ],
      "source": [
        "history = model.evaluate(ds_test)"
      ]
    },
    {
      "cell_type": "code",
      "execution_count": null,
      "metadata": {
        "id": "sFoReLzLEPX2"
      },
      "outputs": [],
      "source": [
        "y_pred_fine = model.predict(ds_test)\n",
        "predicted_categories = tf.argmax(y_pred_fine, axis=1)\n",
        "true_categories = tf.concat([y for x, y in ds_test], axis=0)\n",
        "#print(predicted_categories, true_categories)"
      ]
    },
    {
      "cell_type": "code",
      "execution_count": null,
      "metadata": {
        "colab": {
          "base_uri": "https://localhost:8080/",
          "height": 598
        },
        "id": "1LZQZ7v-EQeX",
        "outputId": "ee27e170-824d-44cd-d4bd-b6574917ae06"
      },
      "outputs": [
        {
          "output_type": "execute_result",
          "data": {
            "text/plain": [
              "Text(0.5, 1.0, 'Confusion Matrix on Coarse Label')"
            ]
          },
          "metadata": {},
          "execution_count": 28
        },
        {
          "output_type": "display_data",
          "data": {
            "text/plain": [
              "<Figure size 720x720 with 2 Axes>"
            ],
            "image/png": "[encoded data removed]"
          },
          "metadata": {
            "needs_background": "light"
          }
        }
      ],
      "source": [
        "# Confusion matrix\n",
        "\n",
        "from sklearn.metrics import confusion_matrix, ConfusionMatrixDisplay\n",
        "from unicodedata import normalize\n",
        "import itertools\n",
        "\n",
        "cm = confusion_matrix(predicted_categories, true_categories)\n",
        "disp = ConfusionMatrixDisplay(cm, display_labels=np.arange(25))\n",
        "fig, ax = plt.subplots(figsize=(10,10))\n",
        "disp.plot(ax=ax, cmap=plt.cm.Blues)\n",
        "disp.ax_.set_title(\"Confusion Matrix on Coarse Label\")"
      ]
    },
    {
      "cell_type": "code",
      "execution_count": null,
      "metadata": {
        "colab": {
          "base_uri": "https://localhost:8080/",
          "height": 491
        },
        "id": "mynNxpBmESbn",
        "outputId": "085efc2e-15c8-4cb0-c0a0-059b223f7331"
      },
      "outputs": [
        {
          "output_type": "display_data",
          "data": {
            "text/plain": [
              "<Figure size 1080x3600 with 2 Axes>"
            ],
            "image/png": "[encoded data removed]"
          },
          "metadata": {
            "needs_background": "light"
          }
        }
      ],
      "source": [
        "fig, ax = plt.subplots(1, 1, figsize = (15,50))\n",
        "for i in range(30):\n",
        "  if predicted_categories[i] != true_categories[i]:\n",
        "    plt.subplot(12,4,i+1)\n",
        "    plt.imshow(X_test[i])\n",
        "    plt.title(f'predicted image: {predicted_categories[i]}' '\\n' f'Actual image: {true_categories[i]}')\n",
        "#fig.tight_layout()\n",
        "plt.show()"
      ]
    },
    {
      "cell_type": "code",
      "source": [
        "from sklearn import metrics\n",
        "\n",
        "from tensorflow.python.ops.numpy_ops import np_config\n",
        "\n",
        "from itertools import chain \n",
        "TT = list(chain(*true_categories.numpy())) \n",
        "\n",
        "np_config.enable_numpy_behavior()\n",
        "PT = predicted_categories.tolist()\n",
        "\n",
        "\n",
        "labels = TT\n",
        "guesses =PT\n",
        "\n",
        "# True values\n",
        "y_true = TT\n",
        "# Predicted values\n",
        "y_pred = PT\n",
        "\n",
        "# Print the confusion matrix\n",
        "print(metrics.confusion_matrix(y_true, y_pred))\n",
        "\n",
        "# Print the precision and recall, among other metrics\n",
        "print(metrics.classification_report(y_true, y_pred, digits=3))"
      ],
      "metadata": {
        "colab": {
          "base_uri": "https://localhost:8080/"
        },
        "outputId": "a7dd4d17-601b-4119-9284-cdf856c1813f",
        "id": "x7bhgZd-Md1r"
      },
      "execution_count": null,
      "outputs": [
        {
          "output_type": "stream",
          "name": "stdout",
          "text": [
            "[[88  1  1  3  7]\n",
            " [ 3 88  5  4  0]\n",
            " [ 2  5 84  7  2]\n",
            " [ 1  1  1 97  0]\n",
            " [ 1  0  3  0 96]]\n",
            "              precision    recall  f1-score   support\n",
            "\n",
            "           0      0.926     0.880     0.903       100\n",
            "           1      0.926     0.880     0.903       100\n",
            "           2      0.894     0.840     0.866       100\n",
            "           3      0.874     0.970     0.919       100\n",
            "           4      0.914     0.960     0.937       100\n",
            "\n",
            "    accuracy                          0.906       500\n",
            "   macro avg      0.907     0.906     0.905       500\n",
            "weighted avg      0.907     0.906     0.905       500\n",
            "\n"
          ]
        }
      ]
    },
    {
      "cell_type": "markdown",
      "metadata": {
        "id": "OeKhsxW94dwJ"
      },
      "source": [
        "### Part 3B: Performance on \"similar\" classes\n",
        "Repeat your analysis from Part 3A, but for 5 classes chosen from the SAME superclass.\n",
        "\n",
        "Are your results different from 3A and from 2B?"
      ]
    },
    {
      "cell_type": "code",
      "execution_count": null,
      "metadata": {
        "id": "HfQkF9Ql4o1Z"
      },
      "outputs": [],
      "source": [
        "import numpy as np\n",
        "import pandas as pd\n",
        "import matplotlib.pyplot as plt\n",
        "import tensorflow as tf\n",
        "from tensorflow import keras\n",
        "import itertools\n",
        "import tensorflow_datasets as tfds\n",
        "from sklearn.datasets import make_multilabel_classification\n",
        "\n",
        "from sklearn.model_selection import train_test_split\n",
        "cifar100 = keras.datasets.cifar100\n",
        "np.random.seed(42)\n",
        "tf.random.set_seed(42)"
      ]
    },
    {
      "cell_type": "code",
      "execution_count": null,
      "metadata": {
        "id": "Av_ZLTt4KMQ5"
      },
      "outputs": [],
      "source": [
        "cifar100 = keras.datasets.cifar100\n",
        "(X_train_full, y_train_full), (X_test, y_test) = cifar100.load_data(label_mode='fine')\n",
        "(_, y_coarse_train), (_, y_coarse_test) =cifar100.load_data(label_mode='coarse')\n",
        "\n",
        "size = 100\n",
        " \n",
        "y_train_full_dup = y_train_full\n",
        "y_test_dup=y_test\n",
        "\n",
        "# Remove single-dimensional entries for labels\n",
        "y_train_full_sq = np.squeeze(y_train_full)\n",
        "y_test_sq = np.squeeze(y_test)\n",
        "y_coarse_train_sq = np.squeeze(y_coarse_train)\n",
        "y_coarse_test_sq = np.squeeze(y_coarse_test)\n",
        "\n",
        "# Define empty matrices \n",
        "X_train_new=np.empty((0,32,32,3))\n",
        "y_train_new=np.empty((0,1))\n",
        "X_test_new=np.empty((0,32,32,3))\n",
        "y_test_new=np.empty((0,1))\n",
        "cls_matrix=np.empty((0,5))\n",
        "\n",
        "# Preparing a class matrix which has all the superclass ordered\n",
        "for i in np.arange(0,20,1): \n",
        "  cls_matrix=np.vstack((cls_matrix,np.unique(y_train_full[y_coarse_train_sq==i])))"
      ]
    },
    {
      "cell_type": "code",
      "execution_count": null,
      "metadata": {
        "colab": {
          "base_uri": "https://localhost:8080/"
        },
        "id": "TZAIaxqmKRKA",
        "outputId": "42d7bc71-0c57-400c-ae12-0ee5bcd3c1b5"
      },
      "outputs": [
        {
          "output_type": "stream",
          "name": "stdout",
          "text": [
            "Five Classes are:\n",
            " [34. 63. 64. 66. 75.]\n"
          ]
        }
      ],
      "source": [
        "five_class_same = np.unique(cls_matrix[12,:])\n",
        "print('Five Classes are:\\n',five_class_same)\n",
        "\n",
        "\n",
        "sum=0\n",
        "for i in five_class_same:\n",
        "  delta = np.squeeze(y_train_full==i,axis=1)\n",
        "  y_train_full[delta]=sum\n",
        "  X_train_new=np.vstack((X_train_new, X_train_full[delta][0:size]))\n",
        "  y_train_new=np.vstack((y_train_new, y_train_full[delta][0:size]))\n",
        "  sum=sum+1\n",
        "\n",
        "sum=0\n",
        "for i in five_class_same:\n",
        "  delta=np.squeeze(y_test==i,axis=1)\n",
        "  y_test[delta]=sum\n",
        "  X_test_new = np.vstack((X_test_new, X_test[delta]))\n",
        "  y_test_new = np.vstack((y_test_new, y_test[delta]))  \n",
        "  sum=sum+1\n",
        "\n",
        "\n",
        "# Randomize data for training and testing\n",
        "data_points_tr = np.shape(X_train_new)[0]\n",
        "data_random_tr=np.random.permutation(data_points_tr)\n",
        "X_train_new=X_train_new[data_random_tr].astype(int)\n",
        "y_train_new=y_train_new[data_random_tr].astype(int)\n",
        "\n",
        "data_points_test = np.shape(X_test_new)[0]\n",
        "data_random_test=np.random.permutation(data_points_test)\n",
        "X_test_new=X_test_new[data_random_test].astype(int)\n",
        "y_test_new=y_test_new[data_random_test].astype(int)\n",
        "\n",
        "\n",
        "test_size=np.floor(len(five_class_same)*0.1*size).astype(int) # 10% validation size\n",
        "\n",
        "X_train_tr, X_train_v, y_train_tr, y_train_v = train_test_split(X_train_new,\n",
        "                                                                y_train_new,\n",
        "                                                                test_size=test_size)\n",
        "\n",
        "# Convert from numpy data to tf.data.Dataset\n",
        "ds_train = tf.data.Dataset.from_tensor_slices( (X_train_tr, y_train_tr) )\n",
        "ds_valid = tf.data.Dataset.from_tensor_slices((X_train_v, y_train_v))\n",
        "ds_test = tf.data.Dataset.from_tensor_slices((X_test_new, y_test_new))"
      ]
    },
    {
      "cell_type": "code",
      "execution_count": null,
      "metadata": {
        "colab": {
          "base_uri": "https://localhost:8080/",
          "height": 863
        },
        "id": "u81W87qmKYsg",
        "outputId": "6d07fe5a-9838-4bce-eadf-ba2a461cb14b"
      },
      "outputs": [
        {
          "output_type": "stream",
          "name": "stdout",
          "text": [
            "<TensorSliceDataset element_spec=(TensorSpec(shape=(32, 32, 3), dtype=tf.int64, name=None), TensorSpec(shape=(1,), dtype=tf.int64, name=None))>\n"
          ]
        },
        {
          "output_type": "display_data",
          "data": {
            "text/plain": [
              "<Figure size 432x288 with 1 Axes>"
            ],
            "image/png": "[encoded data removed]"
          },
          "metadata": {
            "needs_background": "light"
          }
        },
        {
          "output_type": "stream",
          "name": "stdout",
          "text": [
            "<TensorSliceDataset element_spec=(TensorSpec(shape=(32, 32, 3), dtype=tf.int64, name=None), TensorSpec(shape=(1,), dtype=tf.int64, name=None))>\n"
          ]
        },
        {
          "output_type": "display_data",
          "data": {
            "text/plain": [
              "<Figure size 432x288 with 1 Axes>"
            ],
            "image/png": "[encoded data removed]"
          },
          "metadata": {
            "needs_background": "light"
          }
        },
        {
          "output_type": "stream",
          "name": "stdout",
          "text": [
            "<TensorSliceDataset element_spec=(TensorSpec(shape=(32, 32, 3), dtype=tf.int64, name=None), TensorSpec(shape=(1,), dtype=tf.int64, name=None))>\n"
          ]
        },
        {
          "output_type": "display_data",
          "data": {
            "text/plain": [
              "<Figure size 432x288 with 1 Axes>"
            ],
            "image/png": "[encoded data removed]"
          },
          "metadata": {
            "needs_background": "light"
          }
        }
      ],
      "source": [
        "import matplotlib.pyplot as plt\n",
        "for element in ds_train.take(3):\n",
        "  image, label = element[0], element[1] # now its coarse\n",
        "  image.shape\n",
        "#  type(image.numpy()[:,:,0])\n",
        "#  type(image)\n",
        "  plt.imshow(image.numpy()[:,:,0])\n",
        "  type(image.numpy())\n",
        "  type(label)\n",
        "  print(ds_train)\n",
        "  #coarse_id_fine_id[id] = fine_labels_ids\n",
        "  plt.title(\"Class\" + \" \" +str(label.numpy()))\n",
        "  plt.show()"
      ]
    },
    {
      "cell_type": "code",
      "execution_count": null,
      "metadata": {
        "id": "HFiLvrEwKm3h"
      },
      "outputs": [],
      "source": [
        "# Build pipeline\n",
        "batch = 32\n",
        "\n",
        "def preprocess(image, label):\n",
        "  image = tf.image.resize(image,[224,224])\n",
        "  #label = tf.label_mode(int(\"coarse\"))\n",
        "  return (image, label)\n",
        "\n",
        "\n",
        "def data_aug(image, label):\n",
        "  image = tf.image.random_flip_left_right(image)\n",
        "  image = tf.image.random_brightness(image, max_delta=63)\n",
        "  image = tf.image.random_contrast(image, lower=0.2, upper=1.8)\n",
        "  return (image, label)\n",
        "#image.shape \n",
        "\n",
        "ds_train=ds_train.map(preprocess).map(data_aug).batch(32).prefetch(1)\n",
        "ds_valid=ds_valid.map(preprocess).batch(32).prefetch(1)\n",
        "ds_test=ds_test.map(preprocess).batch(32).prefetch(1)"
      ]
    },
    {
      "cell_type": "code",
      "execution_count": null,
      "metadata": {
        "id": "_qmSV3NLKr8o"
      },
      "outputs": [],
      "source": [
        "base_model = keras.applications.EfficientNetV2B0(weights=\"imagenet\", \n",
        "                                              include_top=False,\n",
        "                                             input_shape=(224,224,3))\n",
        "global_avg = keras.layers.GlobalAveragePooling2D()(base_model.output)\n",
        "dropout = keras.layers.Dropout(0.005)(global_avg) \n",
        "output = keras.layers.Dense(100, activation=\"softmax\")(dropout)\n",
        "model = keras.models.Model(inputs=base_model.input, outputs=output)"
      ]
    },
    {
      "cell_type": "code",
      "execution_count": null,
      "metadata": {
        "colab": {
          "base_uri": "https://localhost:8080/"
        },
        "id": "sef3i7XSKyTN",
        "outputId": "9d393760-18c2-40f4-d448-532622a2b0d7"
      },
      "outputs": [
        {
          "output_type": "stream",
          "name": "stdout",
          "text": [
            "Epoch 1/50\n",
            "15/15 - 7s - loss: 3.5173 - accuracy: 0.2289 - val_loss: 2.2793 - val_accuracy: 0.4600 - 7s/epoch - 463ms/step\n",
            "Epoch 2/50\n",
            "15/15 - 1s - loss: 1.7027 - accuracy: 0.5178 - val_loss: 1.2834 - val_accuracy: 0.6600 - 507ms/epoch - 34ms/step\n",
            "Epoch 3/50\n",
            "15/15 - 1s - loss: 1.1154 - accuracy: 0.7156 - val_loss: 0.9317 - val_accuracy: 0.7800 - 508ms/epoch - 34ms/step\n",
            "Epoch 4/50\n",
            "15/15 - 1s - loss: 0.8833 - accuracy: 0.7733 - val_loss: 0.7701 - val_accuracy: 0.7800 - 503ms/epoch - 34ms/step\n",
            "Epoch 5/50\n",
            "15/15 - 1s - loss: 0.7626 - accuracy: 0.7867 - val_loss: 0.6783 - val_accuracy: 0.8200 - 514ms/epoch - 34ms/step\n",
            "Epoch 6/50\n",
            "15/15 - 1s - loss: 0.6830 - accuracy: 0.8111 - val_loss: 0.6195 - val_accuracy: 0.8400 - 515ms/epoch - 34ms/step\n",
            "Epoch 7/50\n",
            "15/15 - 1s - loss: 0.6228 - accuracy: 0.8311 - val_loss: 0.5791 - val_accuracy: 0.8400 - 512ms/epoch - 34ms/step\n",
            "Epoch 8/50\n",
            "15/15 - 1s - loss: 0.5762 - accuracy: 0.8400 - val_loss: 0.5493 - val_accuracy: 0.8400 - 508ms/epoch - 34ms/step\n",
            "Epoch 9/50\n",
            "15/15 - 1s - loss: 0.5338 - accuracy: 0.8556 - val_loss: 0.5270 - val_accuracy: 0.8200 - 506ms/epoch - 34ms/step\n",
            "Epoch 10/50\n",
            "15/15 - 1s - loss: 0.4990 - accuracy: 0.8711 - val_loss: 0.5093 - val_accuracy: 0.8400 - 512ms/epoch - 34ms/step\n",
            "Epoch 11/50\n",
            "15/15 - 1s - loss: 0.4707 - accuracy: 0.8800 - val_loss: 0.4956 - val_accuracy: 0.8400 - 507ms/epoch - 34ms/step\n",
            "Epoch 12/50\n",
            "15/15 - 1s - loss: 0.4429 - accuracy: 0.8867 - val_loss: 0.4841 - val_accuracy: 0.8400 - 507ms/epoch - 34ms/step\n",
            "Epoch 13/50\n",
            "15/15 - 1s - loss: 0.4173 - accuracy: 0.8978 - val_loss: 0.4752 - val_accuracy: 0.8400 - 507ms/epoch - 34ms/step\n",
            "Epoch 14/50\n",
            "15/15 - 1s - loss: 0.3959 - accuracy: 0.9044 - val_loss: 0.4677 - val_accuracy: 0.8400 - 505ms/epoch - 34ms/step\n",
            "Epoch 15/50\n",
            "15/15 - 1s - loss: 0.3779 - accuracy: 0.9044 - val_loss: 0.4614 - val_accuracy: 0.8400 - 507ms/epoch - 34ms/step\n",
            "Epoch 16/50\n",
            "15/15 - 1s - loss: 0.3608 - accuracy: 0.9178 - val_loss: 0.4568 - val_accuracy: 0.8400 - 507ms/epoch - 34ms/step\n",
            "Epoch 17/50\n",
            "15/15 - 1s - loss: 0.3410 - accuracy: 0.9267 - val_loss: 0.4521 - val_accuracy: 0.8400 - 503ms/epoch - 34ms/step\n",
            "Epoch 18/50\n",
            "15/15 - 1s - loss: 0.3281 - accuracy: 0.9333 - val_loss: 0.4480 - val_accuracy: 0.8400 - 508ms/epoch - 34ms/step\n",
            "Epoch 19/50\n",
            "15/15 - 1s - loss: 0.3122 - accuracy: 0.9400 - val_loss: 0.4455 - val_accuracy: 0.8600 - 509ms/epoch - 34ms/step\n",
            "Epoch 20/50\n",
            "15/15 - 1s - loss: 0.2991 - accuracy: 0.9422 - val_loss: 0.4431 - val_accuracy: 0.8600 - 507ms/epoch - 34ms/step\n",
            "Epoch 21/50\n",
            "15/15 - 1s - loss: 0.2846 - accuracy: 0.9444 - val_loss: 0.4407 - val_accuracy: 0.8600 - 509ms/epoch - 34ms/step\n",
            "Epoch 22/50\n",
            "15/15 - 1s - loss: 0.2737 - accuracy: 0.9467 - val_loss: 0.4391 - val_accuracy: 0.8600 - 508ms/epoch - 34ms/step\n",
            "Epoch 23/50\n",
            "15/15 - 1s - loss: 0.2611 - accuracy: 0.9489 - val_loss: 0.4384 - val_accuracy: 0.8400 - 507ms/epoch - 34ms/step\n",
            "Epoch 24/50\n",
            "15/15 - 1s - loss: 0.2524 - accuracy: 0.9578 - val_loss: 0.4378 - val_accuracy: 0.8400 - 511ms/epoch - 34ms/step\n",
            "Epoch 25/50\n",
            "15/15 - 1s - loss: 0.2425 - accuracy: 0.9578 - val_loss: 0.4369 - val_accuracy: 0.8400 - 509ms/epoch - 34ms/step\n",
            "Epoch 26/50\n",
            "15/15 - 1s - loss: 0.2325 - accuracy: 0.9578 - val_loss: 0.4364 - val_accuracy: 0.8400 - 511ms/epoch - 34ms/step\n",
            "Epoch 27/50\n",
            "15/15 - 1s - loss: 0.2253 - accuracy: 0.9711 - val_loss: 0.4356 - val_accuracy: 0.8400 - 506ms/epoch - 34ms/step\n",
            "Epoch 28/50\n",
            "15/15 - 1s - loss: 0.2153 - accuracy: 0.9733 - val_loss: 0.4353 - val_accuracy: 0.8400 - 507ms/epoch - 34ms/step\n",
            "Epoch 29/50\n",
            "15/15 - 1s - loss: 0.2063 - accuracy: 0.9733 - val_loss: 0.4352 - val_accuracy: 0.8400 - 511ms/epoch - 34ms/step\n",
            "Epoch 30/50\n",
            "15/15 - 1s - loss: 0.2010 - accuracy: 0.9733 - val_loss: 0.4352 - val_accuracy: 0.8400 - 505ms/epoch - 34ms/step\n",
            "Epoch 31/50\n",
            "15/15 - 1s - loss: 0.1929 - accuracy: 0.9778 - val_loss: 0.4359 - val_accuracy: 0.8400 - 509ms/epoch - 34ms/step\n",
            "Epoch 32/50\n",
            "15/15 - 1s - loss: 0.1864 - accuracy: 0.9778 - val_loss: 0.4359 - val_accuracy: 0.8400 - 514ms/epoch - 34ms/step\n",
            "Epoch 33/50\n",
            "15/15 - 1s - loss: 0.1795 - accuracy: 0.9822 - val_loss: 0.4369 - val_accuracy: 0.8400 - 510ms/epoch - 34ms/step\n",
            "Epoch 34/50\n",
            "15/15 - 1s - loss: 0.1733 - accuracy: 0.9822 - val_loss: 0.4373 - val_accuracy: 0.8400 - 511ms/epoch - 34ms/step\n",
            "Epoch 35/50\n",
            "15/15 - 1s - loss: 0.1672 - accuracy: 0.9844 - val_loss: 0.4380 - val_accuracy: 0.8400 - 504ms/epoch - 34ms/step\n",
            "CPU times: user 42.9 s, sys: 2.58 s, total: 45.5 s\n",
            "Wall time: 26 s\n"
          ]
        }
      ],
      "source": [
        "# Freeze transferred layers and train\n",
        "%%time\n",
        "for layer in base_model.layers:\n",
        "    layer.trainable = False\n",
        "\n",
        "model.compile(loss=\"sparse_categorical_crossentropy\",\n",
        "                optimizer=keras.optimizers.Nadam(1e-3),\n",
        "                metrics=[\"accuracy\"])\n",
        "\n",
        "history = model.fit(ds_train, \n",
        "                    epochs=50, validation_data=ds_valid, verbose = 2,\n",
        "                    callbacks=[keras.callbacks.EarlyStopping(patience=5)])"
      ]
    },
    {
      "cell_type": "code",
      "execution_count": null,
      "metadata": {
        "colab": {
          "base_uri": "https://localhost:8080/"
        },
        "id": "kshFNcPDK3Wt",
        "outputId": "d3c9bf1d-6699-44a6-dc58-a1b287230c43"
      },
      "outputs": [
        {
          "output_type": "stream",
          "name": "stdout",
          "text": [
            "Epoch 1/50\n",
            "15/15 - 24s - loss: 3.4186 - accuracy: 0.4889 - val_loss: 0.8459 - val_accuracy: 0.8200 - 24s/epoch - 2s/step\n",
            "Epoch 2/50\n",
            "15/15 - 2s - loss: 1.2769 - accuracy: 0.8844 - val_loss: 1.1032 - val_accuracy: 0.8000 - 2s/epoch - 121ms/step\n",
            "Epoch 3/50\n",
            "15/15 - 2s - loss: 0.4109 - accuracy: 0.9733 - val_loss: 0.9299 - val_accuracy: 0.8200 - 2s/epoch - 120ms/step\n",
            "Epoch 4/50\n",
            "15/15 - 2s - loss: 0.1329 - accuracy: 1.0000 - val_loss: 0.8731 - val_accuracy: 0.8000 - 2s/epoch - 120ms/step\n",
            "Epoch 5/50\n",
            "15/15 - 2s - loss: 0.0593 - accuracy: 1.0000 - val_loss: 0.7731 - val_accuracy: 0.8200 - 2s/epoch - 120ms/step\n",
            "Epoch 6/50\n",
            "15/15 - 2s - loss: 0.0334 - accuracy: 1.0000 - val_loss: 0.7400 - val_accuracy: 0.8200 - 2s/epoch - 121ms/step\n",
            "Epoch 7/50\n",
            "15/15 - 2s - loss: 0.0231 - accuracy: 1.0000 - val_loss: 0.7268 - val_accuracy: 0.8400 - 2s/epoch - 121ms/step\n",
            "Epoch 8/50\n",
            "15/15 - 2s - loss: 0.0175 - accuracy: 1.0000 - val_loss: 0.7154 - val_accuracy: 0.8400 - 2s/epoch - 121ms/step\n",
            "Epoch 9/50\n",
            "15/15 - 2s - loss: 0.0137 - accuracy: 1.0000 - val_loss: 0.7055 - val_accuracy: 0.8400 - 2s/epoch - 121ms/step\n",
            "Epoch 10/50\n",
            "15/15 - 2s - loss: 0.0113 - accuracy: 1.0000 - val_loss: 0.6971 - val_accuracy: 0.8400 - 2s/epoch - 120ms/step\n",
            "Epoch 11/50\n",
            "15/15 - 2s - loss: 0.0095 - accuracy: 1.0000 - val_loss: 0.6894 - val_accuracy: 0.8400 - 2s/epoch - 121ms/step\n",
            "Epoch 12/50\n",
            "15/15 - 2s - loss: 0.0082 - accuracy: 1.0000 - val_loss: 0.6827 - val_accuracy: 0.8400 - 2s/epoch - 133ms/step\n",
            "Epoch 13/50\n",
            "15/15 - 2s - loss: 0.0071 - accuracy: 1.0000 - val_loss: 0.6768 - val_accuracy: 0.8400 - 2s/epoch - 142ms/step\n",
            "Epoch 14/50\n",
            "15/15 - 2s - loss: 0.0062 - accuracy: 1.0000 - val_loss: 0.6712 - val_accuracy: 0.8400 - 2s/epoch - 129ms/step\n",
            "Epoch 15/50\n",
            "15/15 - 2s - loss: 0.0055 - accuracy: 1.0000 - val_loss: 0.6662 - val_accuracy: 0.8400 - 2s/epoch - 121ms/step\n",
            "Epoch 16/50\n",
            "15/15 - 2s - loss: 0.0049 - accuracy: 1.0000 - val_loss: 0.6607 - val_accuracy: 0.8200 - 2s/epoch - 121ms/step\n",
            "Epoch 17/50\n",
            "15/15 - 2s - loss: 0.0044 - accuracy: 1.0000 - val_loss: 0.6548 - val_accuracy: 0.8200 - 2s/epoch - 121ms/step\n",
            "Epoch 18/50\n",
            "15/15 - 2s - loss: 0.0039 - accuracy: 1.0000 - val_loss: 0.6472 - val_accuracy: 0.8000 - 2s/epoch - 121ms/step\n",
            "Epoch 19/50\n",
            "15/15 - 2s - loss: 0.0035 - accuracy: 1.0000 - val_loss: 0.6364 - val_accuracy: 0.8200 - 2s/epoch - 121ms/step\n",
            "Epoch 20/50\n",
            "15/15 - 2s - loss: 0.0031 - accuracy: 1.0000 - val_loss: 0.6268 - val_accuracy: 0.8200 - 2s/epoch - 121ms/step\n",
            "Epoch 21/50\n",
            "15/15 - 2s - loss: 0.0028 - accuracy: 1.0000 - val_loss: 0.6208 - val_accuracy: 0.8200 - 2s/epoch - 121ms/step\n",
            "Epoch 22/50\n",
            "15/15 - 2s - loss: 0.0026 - accuracy: 1.0000 - val_loss: 0.6165 - val_accuracy: 0.8400 - 2s/epoch - 121ms/step\n",
            "Epoch 23/50\n",
            "15/15 - 2s - loss: 0.0023 - accuracy: 1.0000 - val_loss: 0.6089 - val_accuracy: 0.8200 - 2s/epoch - 121ms/step\n",
            "Epoch 24/50\n",
            "15/15 - 2s - loss: 0.0021 - accuracy: 1.0000 - val_loss: 0.6096 - val_accuracy: 0.8400 - 2s/epoch - 121ms/step\n",
            "Epoch 25/50\n",
            "15/15 - 2s - loss: 0.0020 - accuracy: 1.0000 - val_loss: 0.6095 - val_accuracy: 0.8400 - 2s/epoch - 121ms/step\n",
            "Epoch 26/50\n",
            "15/15 - 2s - loss: 0.0018 - accuracy: 1.0000 - val_loss: 0.6096 - val_accuracy: 0.8200 - 2s/epoch - 121ms/step\n",
            "Epoch 27/50\n",
            "15/15 - 2s - loss: 0.0017 - accuracy: 1.0000 - val_loss: 0.6107 - val_accuracy: 0.8400 - 2s/epoch - 122ms/step\n",
            "Epoch 28/50\n",
            "15/15 - 2s - loss: 0.0016 - accuracy: 1.0000 - val_loss: 0.6071 - val_accuracy: 0.8400 - 2s/epoch - 121ms/step\n",
            "Epoch 29/50\n",
            "15/15 - 2s - loss: 0.0015 - accuracy: 1.0000 - val_loss: 0.6075 - val_accuracy: 0.8400 - 2s/epoch - 121ms/step\n",
            "Epoch 30/50\n",
            "15/15 - 2s - loss: 0.0014 - accuracy: 1.0000 - val_loss: 0.6063 - val_accuracy: 0.8400 - 2s/epoch - 121ms/step\n",
            "Epoch 31/50\n",
            "15/15 - 2s - loss: 0.0013 - accuracy: 1.0000 - val_loss: 0.6062 - val_accuracy: 0.8200 - 2s/epoch - 121ms/step\n",
            "Epoch 32/50\n",
            "15/15 - 2s - loss: 0.0012 - accuracy: 1.0000 - val_loss: 0.6040 - val_accuracy: 0.8200 - 2s/epoch - 121ms/step\n",
            "Epoch 33/50\n",
            "15/15 - 2s - loss: 0.0012 - accuracy: 1.0000 - val_loss: 0.6019 - val_accuracy: 0.8200 - 2s/epoch - 121ms/step\n",
            "Epoch 34/50\n",
            "15/15 - 2s - loss: 0.0011 - accuracy: 1.0000 - val_loss: 0.6012 - val_accuracy: 0.8200 - 2s/epoch - 121ms/step\n",
            "Epoch 35/50\n",
            "15/15 - 2s - loss: 0.0011 - accuracy: 1.0000 - val_loss: 0.5965 - val_accuracy: 0.8200 - 2s/epoch - 120ms/step\n",
            "Epoch 36/50\n",
            "15/15 - 2s - loss: 0.0010 - accuracy: 1.0000 - val_loss: 0.5949 - val_accuracy: 0.8200 - 2s/epoch - 120ms/step\n",
            "Epoch 37/50\n",
            "15/15 - 2s - loss: 9.6033e-04 - accuracy: 1.0000 - val_loss: 0.5926 - val_accuracy: 0.8200 - 2s/epoch - 121ms/step\n",
            "Epoch 38/50\n",
            "15/15 - 2s - loss: 9.1890e-04 - accuracy: 1.0000 - val_loss: 0.5940 - val_accuracy: 0.8200 - 2s/epoch - 123ms/step\n",
            "Epoch 39/50\n",
            "15/15 - 2s - loss: 8.6319e-04 - accuracy: 1.0000 - val_loss: 0.5965 - val_accuracy: 0.8200 - 2s/epoch - 127ms/step\n",
            "Epoch 40/50\n",
            "15/15 - 2s - loss: 8.4078e-04 - accuracy: 1.0000 - val_loss: 0.5955 - val_accuracy: 0.8200 - 2s/epoch - 121ms/step\n",
            "Epoch 41/50\n",
            "15/15 - 2s - loss: 7.9784e-04 - accuracy: 1.0000 - val_loss: 0.5956 - val_accuracy: 0.8200 - 2s/epoch - 122ms/step\n",
            "Epoch 42/50\n",
            "15/15 - 2s - loss: 7.5865e-04 - accuracy: 1.0000 - val_loss: 0.5946 - val_accuracy: 0.8200 - 2s/epoch - 121ms/step\n",
            "CPU times: user 2min 5s, sys: 7.96 s, total: 2min 13s\n",
            "Wall time: 1min 44s\n"
          ]
        }
      ],
      "source": [
        "# Unfreeze layers and train\n",
        "%%time\n",
        "for layer in base_model.layers:\n",
        "    layer.trainable = True\n",
        "\n",
        "model.compile(loss=\"sparse_categorical_crossentropy\",\n",
        "                optimizer=keras.optimizers.Nadam(1e-4), # need smaller lr\n",
        "                metrics=[\"accuracy\"])\n",
        "\n",
        "#n_epochs = 1\n",
        "history = model.fit(ds_train,\n",
        "                    epochs=50,\n",
        "                    validation_data=ds_valid, verbose = 2,\n",
        "                    callbacks=[keras.callbacks.EarlyStopping(patience=5)])"
      ]
    },
    {
      "cell_type": "code",
      "execution_count": null,
      "metadata": {
        "colab": {
          "base_uri": "https://localhost:8080/"
        },
        "id": "uRzTyKevK8JO",
        "outputId": "480f1619-ff95-42b9-877b-c1e9b8cfd568"
      },
      "outputs": [
        {
          "output_type": "stream",
          "name": "stdout",
          "text": [
            "16/16 [==============================] - 1s 30ms/step - loss: 0.6485 - accuracy: 0.8380\n"
          ]
        }
      ],
      "source": [
        "history = model.evaluate(ds_test)"
      ]
    },
    {
      "cell_type": "code",
      "execution_count": null,
      "metadata": {
        "id": "J3C2gy2vLAdG"
      },
      "outputs": [],
      "source": [
        "y_pred_fine = model.predict(ds_test)\n",
        "predicted_categories = tf.argmax(y_pred_fine, axis=1)\n",
        "true_categories = tf.concat([y for x, y in ds_test], axis=0)\n",
        "#print(predicted_categories, true_categories)"
      ]
    },
    {
      "cell_type": "code",
      "execution_count": null,
      "metadata": {
        "colab": {
          "base_uri": "https://localhost:8080/",
          "height": 598
        },
        "id": "vlRsFOX6LFh-",
        "outputId": "d350ed55-f378-4136-eeca-dd0d8125af93"
      },
      "outputs": [
        {
          "output_type": "execute_result",
          "data": {
            "text/plain": [
              "Text(0.5, 1.0, 'Confusion Matrix on Coarse Label')"
            ]
          },
          "metadata": {},
          "execution_count": 41
        },
        {
          "output_type": "display_data",
          "data": {
            "text/plain": [
              "<Figure size 720x720 with 2 Axes>"
            ],
            "image/png": "[encoded data removed]"
          },
          "metadata": {
            "needs_background": "light"
          }
        }
      ],
      "source": [
        "# Confusion matrix\n",
        "\n",
        "from sklearn.metrics import confusion_matrix, ConfusionMatrixDisplay\n",
        "from unicodedata import normalize\n",
        "import itertools\n",
        "\n",
        "cm = confusion_matrix(predicted_categories, true_categories)\n",
        "disp = ConfusionMatrixDisplay(cm, display_labels=np.arange(25))\n",
        "fig, ax = plt.subplots(figsize=(10,10))\n",
        "disp.plot(ax=ax, cmap=plt.cm.Blues)\n",
        "disp.ax_.set_title(\"Confusion Matrix on Coarse Label\")"
      ]
    },
    {
      "cell_type": "code",
      "execution_count": null,
      "metadata": {
        "colab": {
          "base_uri": "https://localhost:8080/",
          "height": 278
        },
        "id": "oiBh3XBDLKen",
        "outputId": "cf60a423-298c-4ab1-e963-51253ab97b8c"
      },
      "outputs": [
        {
          "output_type": "display_data",
          "data": {
            "text/plain": [
              "<Figure size 720x2160 with 1 Axes>"
            ],
            "image/png": "[encoded data removed]"
          },
          "metadata": {
            "needs_background": "light"
          }
        }
      ],
      "source": [
        "fig, ax = plt.subplots(1, 1, figsize = (10,30))\n",
        "for i in range(14):\n",
        "  if predicted_categories[i] != true_categories[i]:\n",
        "    plt.subplot(7,2,i+1)\n",
        "    plt.imshow(X_test[i])\n",
        "    plt.title(f'predicted image: {predicted_categories[i]}' '\\n' f'Actual image: {true_categories[i]}')\n",
        "#fig.tight_layout()\n",
        "plt.show()"
      ]
    },
    {
      "cell_type": "code",
      "source": [
        "from sklearn import metrics\n",
        "\n",
        "from tensorflow.python.ops.numpy_ops import np_config\n",
        "\n",
        "from itertools import chain \n",
        "TT = list(chain(*true_categories.numpy())) \n",
        "\n",
        "np_config.enable_numpy_behavior()\n",
        "PT = predicted_categories.tolist()\n",
        "\n",
        "\n",
        "labels = TT\n",
        "guesses =PT\n",
        "\n",
        "# True values\n",
        "y_true = TT\n",
        "# Predicted values\n",
        "y_pred = PT\n",
        "\n",
        "# Print the confusion matrix\n",
        "print(metrics.confusion_matrix(y_true, y_pred))\n",
        "\n",
        "# Print the precision and recall, among other metrics\n",
        "print(metrics.classification_report(y_true, y_pred, digits=3))"
      ],
      "metadata": {
        "colab": {
          "base_uri": "https://localhost:8080/"
        },
        "id": "rbdLeSnMBBkN",
        "outputId": "a84491b2-5202-4656-84ca-c80d368dd9c9"
      },
      "execution_count": null,
      "outputs": [
        {
          "output_type": "stream",
          "name": "stdout",
          "text": [
            "[[89  0  5  5  1]\n",
            " [ 1 83  2 10  4]\n",
            " [ 5 13 64 14  4]\n",
            " [ 3  4  2 86  5]\n",
            " [ 0  1  0  2 97]]\n",
            "              precision    recall  f1-score   support\n",
            "\n",
            "           0      0.908     0.890     0.899       100\n",
            "           1      0.822     0.830     0.826       100\n",
            "           2      0.877     0.640     0.740       100\n",
            "           3      0.735     0.860     0.793       100\n",
            "           4      0.874     0.970     0.919       100\n",
            "\n",
            "    accuracy                          0.838       500\n",
            "   macro avg      0.843     0.838     0.835       500\n",
            "weighted avg      0.843     0.838     0.835       500\n",
            "\n"
          ]
        }
      ]
    },
    {
      "cell_type": "markdown",
      "metadata": {
        "id": "ijnm9QDt4n3B"
      },
      "source": [
        "## Question 4: Performance on 2-class subset of CIFAR-100\n",
        "### Part 4A: Performance on \"different\" classes\n",
        "Create a binary classifier, choosing two classes from different superclasses.\n",
        "Repeat analysis from Part 3A.\n",
        "\n",
        "Are your results different than previous Parts?"
      ]
    },
    {
      "cell_type": "code",
      "execution_count": null,
      "metadata": {
        "id": "e-Oz-6SE4--S"
      },
      "outputs": [],
      "source": [
        "import numpy as np\n",
        "import pandas as pd\n",
        "import matplotlib.pyplot as plt\n",
        "import tensorflow as tf\n",
        "from tensorflow import keras\n",
        "import itertools\n",
        "import tensorflow_datasets as tfds\n",
        "from sklearn.datasets import make_multilabel_classification\n",
        "\n",
        "from sklearn.model_selection import train_test_split\n",
        "cifar100 = keras.datasets.cifar100\n",
        "np.random.seed(42)\n",
        "tf.random.set_seed(42)"
      ]
    },
    {
      "cell_type": "code",
      "execution_count": null,
      "metadata": {
        "id": "HrzeF_N2h0Y5"
      },
      "outputs": [],
      "source": [
        "cifar100 = keras.datasets.cifar100\n",
        "(X_train_full, y_train_full), (X_test, y_test) = cifar100.load_data(label_mode='fine')\n",
        "(_, y_coarse_train), (_, y_coarse_test) =cifar100.load_data(label_mode='coarse')\n",
        "\n",
        "size = 100\n",
        " \n",
        "y_train_full_dup = y_train_full\n",
        "y_test_dup=y_test\n",
        "\n",
        "# Remove single-dimensional entries for labels\n",
        "y_train_full_sq = np.squeeze(y_train_full)\n",
        "y_test_sq = np.squeeze(y_test)\n",
        "y_coarse_train_sq = np.squeeze(y_coarse_train)\n",
        "y_coarse_test_sq = np.squeeze(y_coarse_test)\n",
        "\n",
        "# Define empty matrices \n",
        "X_train_new=np.empty((0,32,32,3))\n",
        "y_train_new=np.empty((0,1))\n",
        "X_test_new=np.empty((0,32,32,3))\n",
        "y_test_new=np.empty((0,1))\n",
        "cls_matrix=np.empty((0,5))\n",
        "\n",
        "# Preparing a class matrix which has all the superclass ordered\n",
        "for i in np.arange(0,20,1): \n",
        "  cls_matrix=np.vstack((cls_matrix,np.unique(y_train_full[y_coarse_train_sq==i])))"
      ]
    },
    {
      "cell_type": "code",
      "execution_count": null,
      "metadata": {
        "colab": {
          "base_uri": "https://localhost:8080/"
        },
        "id": "rqnzz16Yh73J",
        "outputId": "624f3f44-10dc-4d8d-c750-73cc03f2deb5"
      },
      "outputs": [
        {
          "output_type": "stream",
          "name": "stdout",
          "text": [
            "Two Classes are:\n",
            " [66. 78.]\n"
          ]
        }
      ],
      "source": [
        "two_class = np.unique(cls_matrix[[12,15],3])\n",
        "print('Two Classes are:\\n',two_class)\n",
        "\n",
        "\n",
        "sum=0\n",
        "for i in two_class:\n",
        "  delta = np.squeeze(y_train_full==i,axis=1)\n",
        "  y_train_full[delta]=sum\n",
        "  X_train_new=np.vstack((X_train_new, X_train_full[delta][0:size]))\n",
        "  y_train_new=np.vstack((y_train_new, y_train_full[delta][0:size]))\n",
        "  sum=sum+1\n",
        "\n",
        "sum=0\n",
        "for i in two_class:\n",
        "  delta=np.squeeze(y_test==i,axis=1)\n",
        "  y_test[delta]=sum\n",
        "  X_test_new = np.vstack((X_test_new, X_test[delta]))\n",
        "  y_test_new = np.vstack((y_test_new, y_test[delta]))  \n",
        "  sum=sum+1\n",
        "\n",
        "\n",
        "# Randomize data for training and testing\n",
        "data_points_tr = np.shape(X_train_new)[0]\n",
        "data_random_tr=np.random.permutation(data_points_tr)\n",
        "X_train_new=X_train_new[data_random_tr].astype(int)\n",
        "y_train_new=y_train_new[data_random_tr].astype(int)\n",
        "\n",
        "data_points_test = np.shape(X_test_new)[0]\n",
        "data_random_test=np.random.permutation(data_points_test)\n",
        "X_test_new=X_test_new[data_random_test].astype(int)\n",
        "y_test_new=y_test_new[data_random_test].astype(int)\n",
        "\n",
        "\n",
        "test_size=np.floor(len(two_class)*0.1*size).astype(int) # 10% validation size\n",
        "\n",
        "X_train_tr, X_train_v, y_train_tr, y_train_v = train_test_split(X_train_new,\n",
        "                                                                y_train_new,\n",
        "                                                                test_size=test_size)\n",
        "\n",
        "# Convert from numpy data to tf.data.Dataset\n",
        "ds_train = tf.data.Dataset.from_tensor_slices( (X_train_tr, y_train_tr) )\n",
        "ds_valid = tf.data.Dataset.from_tensor_slices((X_train_v, y_train_v))\n",
        "ds_test = tf.data.Dataset.from_tensor_slices((X_test_new, y_test_new))"
      ]
    },
    {
      "cell_type": "code",
      "execution_count": null,
      "metadata": {
        "colab": {
          "base_uri": "https://localhost:8080/",
          "height": 863
        },
        "id": "wChPDtgpiQyN",
        "outputId": "67100888-58b5-4a96-c12f-0604fea917d6"
      },
      "outputs": [
        {
          "output_type": "stream",
          "name": "stdout",
          "text": [
            "<TensorSliceDataset element_spec=(TensorSpec(shape=(32, 32, 3), dtype=tf.int64, name=None), TensorSpec(shape=(1,), dtype=tf.int64, name=None))>\n"
          ]
        },
        {
          "output_type": "display_data",
          "data": {
            "text/plain": [
              "<Figure size 432x288 with 1 Axes>"
            ],
            "image/png": "[encoded data removed]"
          },
          "metadata": {
            "needs_background": "light"
          }
        },
        {
          "output_type": "stream",
          "name": "stdout",
          "text": [
            "<TensorSliceDataset element_spec=(TensorSpec(shape=(32, 32, 3), dtype=tf.int64, name=None), TensorSpec(shape=(1,), dtype=tf.int64, name=None))>\n"
          ]
        },
        {
          "output_type": "display_data",
          "data": {
            "text/plain": [
              "<Figure size 432x288 with 1 Axes>"
            ],
            "image/png": "[encoded data removed]"
          },
          "metadata": {
            "needs_background": "light"
          }
        },
        {
          "output_type": "stream",
          "name": "stdout",
          "text": [
            "<TensorSliceDataset element_spec=(TensorSpec(shape=(32, 32, 3), dtype=tf.int64, name=None), TensorSpec(shape=(1,), dtype=tf.int64, name=None))>\n"
          ]
        },
        {
          "output_type": "display_data",
          "data": {
            "text/plain": [
              "<Figure size 432x288 with 1 Axes>"
            ],
            "image/png": "[encoded data removed]"
          },
          "metadata": {
            "needs_background": "light"
          }
        }
      ],
      "source": [
        "import matplotlib.pyplot as plt\n",
        "for element in ds_train.take(3):\n",
        "  image, label = element[0], element[1]\n",
        "  image.shape\n",
        "#  type(image.numpy()[:,:,0])\n",
        "#  type(image)\n",
        "  plt.imshow(image.numpy()[:,:,0])\n",
        "  type(image.numpy())\n",
        "  type(label)\n",
        "  print(ds_train)\n",
        "  #coarse_id_fine_id[id] = fine_labels_ids\n",
        "  plt.title(\"Class\" + \" \" +str(label.numpy()))\n",
        "  plt.show()"
      ]
    },
    {
      "cell_type": "code",
      "execution_count": null,
      "metadata": {
        "id": "cg1dCj5SiaN-"
      },
      "outputs": [],
      "source": [
        "# Build pipeline\n",
        "batch = 32\n",
        "\n",
        "def preprocess(image, label):\n",
        "  image = tf.image.resize(image,[224,224])\n",
        "  #label = tf.label_mode(int(\"coarse\"))\n",
        "  return (image, label)\n",
        "\n",
        "\n",
        "def data_aug(image, label):\n",
        "  image = tf.image.random_flip_left_right(image)\n",
        "  image = tf.image.random_brightness(image, max_delta=63)\n",
        "  image = tf.image.random_contrast(image, lower=0.2, upper=1.8)\n",
        "  return (image, label)\n",
        "#image.shape \n",
        "\n",
        "ds_train=ds_train.map(preprocess).map(data_aug).batch(32).prefetch(1)\n",
        "ds_valid=ds_valid.map(preprocess).batch(32).prefetch(1)\n",
        "ds_test=ds_test.map(preprocess).batch(32).prefetch(1)"
      ]
    },
    {
      "cell_type": "code",
      "execution_count": null,
      "metadata": {
        "id": "ZUC4S69gidFJ"
      },
      "outputs": [],
      "source": [
        "# Use EfficientNet V2\n",
        "base_model = keras.applications.EfficientNetV2B0(weights=\"imagenet\", \n",
        "                                              include_top=False,\n",
        "                                             input_shape=(224,224,3))\n",
        "global_avg = keras.layers.GlobalAveragePooling2D()(base_model.output)\n",
        "dropout = keras.layers.Dropout(0.005)(global_avg) \n",
        "output = keras.layers.Dense(100, activation=\"softmax\")(dropout)\n",
        "model = keras.models.Model(inputs=base_model.input, outputs=output)"
      ]
    },
    {
      "cell_type": "code",
      "execution_count": null,
      "metadata": {
        "colab": {
          "base_uri": "https://localhost:8080/"
        },
        "id": "Zz_auhHUihH8",
        "outputId": "138b5880-583b-41ea-9ade-c7997673beac"
      },
      "outputs": [
        {
          "output_type": "stream",
          "name": "stdout",
          "text": [
            "Epoch 1/50\n",
            "6/6 - 8s - loss: 4.1521 - accuracy: 0.2222 - val_loss: 3.5043 - val_accuracy: 0.3500 - 8s/epoch - 1s/step\n",
            "Epoch 2/50\n",
            "6/6 - 0s - loss: 2.8198 - accuracy: 0.5000 - val_loss: 2.2699 - val_accuracy: 0.4000 - 246ms/epoch - 41ms/step\n",
            "Epoch 3/50\n",
            "6/6 - 0s - loss: 1.7010 - accuracy: 0.6389 - val_loss: 1.3693 - val_accuracy: 0.6000 - 249ms/epoch - 41ms/step\n",
            "Epoch 4/50\n",
            "6/6 - 0s - loss: 0.9940 - accuracy: 0.8000 - val_loss: 0.8497 - val_accuracy: 0.8000 - 249ms/epoch - 42ms/step\n",
            "Epoch 5/50\n",
            "6/6 - 0s - loss: 0.6220 - accuracy: 0.9167 - val_loss: 0.5816 - val_accuracy: 0.9000 - 241ms/epoch - 40ms/step\n",
            "Epoch 6/50\n",
            "6/6 - 0s - loss: 0.4366 - accuracy: 0.9333 - val_loss: 0.4417 - val_accuracy: 0.9500 - 244ms/epoch - 41ms/step\n",
            "Epoch 7/50\n",
            "6/6 - 0s - loss: 0.3391 - accuracy: 0.9556 - val_loss: 0.3629 - val_accuracy: 0.9500 - 248ms/epoch - 41ms/step\n",
            "Epoch 8/50\n",
            "6/6 - 0s - loss: 0.2798 - accuracy: 0.9500 - val_loss: 0.3148 - val_accuracy: 0.9500 - 242ms/epoch - 40ms/step\n",
            "Epoch 9/50\n",
            "6/6 - 0s - loss: 0.2406 - accuracy: 0.9556 - val_loss: 0.2830 - val_accuracy: 0.9500 - 243ms/epoch - 40ms/step\n",
            "Epoch 10/50\n",
            "6/6 - 0s - loss: 0.2118 - accuracy: 0.9667 - val_loss: 0.2605 - val_accuracy: 0.9500 - 244ms/epoch - 41ms/step\n",
            "Epoch 11/50\n",
            "6/6 - 0s - loss: 0.1916 - accuracy: 0.9611 - val_loss: 0.2439 - val_accuracy: 0.9500 - 252ms/epoch - 42ms/step\n",
            "Epoch 12/50\n",
            "6/6 - 0s - loss: 0.1761 - accuracy: 0.9778 - val_loss: 0.2309 - val_accuracy: 0.9500 - 245ms/epoch - 41ms/step\n",
            "Epoch 13/50\n",
            "6/6 - 0s - loss: 0.1598 - accuracy: 0.9778 - val_loss: 0.2204 - val_accuracy: 0.9500 - 244ms/epoch - 41ms/step\n",
            "Epoch 14/50\n",
            "6/6 - 0s - loss: 0.1492 - accuracy: 0.9778 - val_loss: 0.2118 - val_accuracy: 0.9500 - 248ms/epoch - 41ms/step\n",
            "Epoch 15/50\n",
            "6/6 - 0s - loss: 0.1388 - accuracy: 0.9833 - val_loss: 0.2048 - val_accuracy: 0.9500 - 246ms/epoch - 41ms/step\n",
            "Epoch 16/50\n",
            "6/6 - 0s - loss: 0.1314 - accuracy: 0.9778 - val_loss: 0.1988 - val_accuracy: 0.9500 - 241ms/epoch - 40ms/step\n",
            "Epoch 17/50\n",
            "6/6 - 0s - loss: 0.1219 - accuracy: 0.9833 - val_loss: 0.1935 - val_accuracy: 0.9500 - 246ms/epoch - 41ms/step\n",
            "Epoch 18/50\n",
            "6/6 - 0s - loss: 0.1145 - accuracy: 0.9833 - val_loss: 0.1889 - val_accuracy: 0.9500 - 243ms/epoch - 41ms/step\n",
            "Epoch 19/50\n",
            "6/6 - 0s - loss: 0.1081 - accuracy: 0.9889 - val_loss: 0.1852 - val_accuracy: 0.9500 - 245ms/epoch - 41ms/step\n",
            "Epoch 20/50\n",
            "6/6 - 0s - loss: 0.1018 - accuracy: 0.9889 - val_loss: 0.1822 - val_accuracy: 0.9500 - 248ms/epoch - 41ms/step\n",
            "Epoch 21/50\n",
            "6/6 - 0s - loss: 0.0970 - accuracy: 0.9889 - val_loss: 0.1795 - val_accuracy: 0.9500 - 243ms/epoch - 41ms/step\n",
            "Epoch 22/50\n",
            "6/6 - 0s - loss: 0.0917 - accuracy: 0.9889 - val_loss: 0.1772 - val_accuracy: 0.9500 - 242ms/epoch - 40ms/step\n",
            "Epoch 23/50\n",
            "6/6 - 0s - loss: 0.0884 - accuracy: 0.9889 - val_loss: 0.1749 - val_accuracy: 0.9500 - 245ms/epoch - 41ms/step\n",
            "Epoch 24/50\n",
            "6/6 - 0s - loss: 0.0834 - accuracy: 0.9944 - val_loss: 0.1732 - val_accuracy: 0.9500 - 245ms/epoch - 41ms/step\n",
            "Epoch 25/50\n",
            "6/6 - 0s - loss: 0.0794 - accuracy: 0.9944 - val_loss: 0.1716 - val_accuracy: 0.9500 - 242ms/epoch - 40ms/step\n",
            "Epoch 26/50\n",
            "6/6 - 0s - loss: 0.0754 - accuracy: 0.9944 - val_loss: 0.1705 - val_accuracy: 0.9500 - 241ms/epoch - 40ms/step\n",
            "Epoch 27/50\n",
            "6/6 - 0s - loss: 0.0724 - accuracy: 0.9944 - val_loss: 0.1696 - val_accuracy: 0.9500 - 247ms/epoch - 41ms/step\n",
            "Epoch 28/50\n",
            "6/6 - 0s - loss: 0.0703 - accuracy: 0.9944 - val_loss: 0.1688 - val_accuracy: 0.9500 - 242ms/epoch - 40ms/step\n",
            "Epoch 29/50\n",
            "6/6 - 0s - loss: 0.0672 - accuracy: 0.9944 - val_loss: 0.1681 - val_accuracy: 0.9500 - 245ms/epoch - 41ms/step\n",
            "Epoch 30/50\n",
            "6/6 - 0s - loss: 0.0645 - accuracy: 0.9944 - val_loss: 0.1675 - val_accuracy: 0.9500 - 242ms/epoch - 40ms/step\n",
            "Epoch 31/50\n",
            "6/6 - 0s - loss: 0.0609 - accuracy: 0.9944 - val_loss: 0.1672 - val_accuracy: 0.9500 - 243ms/epoch - 40ms/step\n",
            "Epoch 32/50\n",
            "6/6 - 0s - loss: 0.0591 - accuracy: 0.9944 - val_loss: 0.1669 - val_accuracy: 0.9500 - 242ms/epoch - 40ms/step\n",
            "Epoch 33/50\n",
            "6/6 - 0s - loss: 0.0563 - accuracy: 0.9944 - val_loss: 0.1665 - val_accuracy: 0.9000 - 244ms/epoch - 41ms/step\n",
            "Epoch 34/50\n",
            "6/6 - 0s - loss: 0.0540 - accuracy: 0.9944 - val_loss: 0.1662 - val_accuracy: 0.9000 - 243ms/epoch - 40ms/step\n",
            "Epoch 35/50\n",
            "6/6 - 0s - loss: 0.0523 - accuracy: 1.0000 - val_loss: 0.1660 - val_accuracy: 0.9000 - 244ms/epoch - 41ms/step\n",
            "Epoch 36/50\n",
            "6/6 - 0s - loss: 0.0505 - accuracy: 1.0000 - val_loss: 0.1662 - val_accuracy: 0.9000 - 245ms/epoch - 41ms/step\n",
            "Epoch 37/50\n",
            "6/6 - 0s - loss: 0.0490 - accuracy: 1.0000 - val_loss: 0.1661 - val_accuracy: 0.9000 - 246ms/epoch - 41ms/step\n",
            "Epoch 38/50\n",
            "6/6 - 0s - loss: 0.0471 - accuracy: 1.0000 - val_loss: 0.1663 - val_accuracy: 0.9000 - 244ms/epoch - 41ms/step\n",
            "Epoch 39/50\n",
            "6/6 - 0s - loss: 0.0466 - accuracy: 1.0000 - val_loss: 0.1665 - val_accuracy: 0.9000 - 245ms/epoch - 41ms/step\n",
            "Epoch 40/50\n",
            "6/6 - 0s - loss: 0.0440 - accuracy: 1.0000 - val_loss: 0.1669 - val_accuracy: 0.9000 - 243ms/epoch - 41ms/step\n",
            "CPU times: user 26.5 s, sys: 1.56 s, total: 28 s\n",
            "Wall time: 19.2 s\n"
          ]
        }
      ],
      "source": [
        "# Freeze transferred layers and train\n",
        "%%time\n",
        "for layer in base_model.layers:\n",
        "    layer.trainable = False\n",
        "\n",
        "model.compile(loss=\"sparse_categorical_crossentropy\",\n",
        "                optimizer=keras.optimizers.Nadam(1e-3),\n",
        "                metrics=[\"accuracy\"])\n",
        "\n",
        "history = model.fit(ds_train, \n",
        "                    epochs=50, validation_data=ds_valid, verbose = 2,\n",
        "                    callbacks=[keras.callbacks.EarlyStopping(patience=5)])"
      ]
    },
    {
      "cell_type": "code",
      "execution_count": null,
      "metadata": {
        "colab": {
          "base_uri": "https://localhost:8080/"
        },
        "id": "228C_1csip1k",
        "outputId": "663ad0a6-041c-4bc6-c8c1-17fe81f464fc"
      },
      "outputs": [
        {
          "output_type": "stream",
          "name": "stdout",
          "text": [
            "Epoch 1/50\n",
            "6/6 - 23s - loss: 3.7465 - accuracy: 0.5278 - val_loss: 0.1810 - val_accuracy: 0.9500 - 23s/epoch - 4s/step\n",
            "Epoch 2/50\n",
            "6/6 - 1s - loss: 2.3392 - accuracy: 0.8278 - val_loss: 0.2839 - val_accuracy: 0.9500 - 758ms/epoch - 126ms/step\n",
            "Epoch 3/50\n",
            "6/6 - 1s - loss: 1.2663 - accuracy: 0.9556 - val_loss: 0.4501 - val_accuracy: 0.9500 - 759ms/epoch - 127ms/step\n",
            "Epoch 4/50\n",
            "6/6 - 1s - loss: 0.5940 - accuracy: 0.9833 - val_loss: 0.6085 - val_accuracy: 0.9500 - 755ms/epoch - 126ms/step\n",
            "Epoch 5/50\n",
            "6/6 - 1s - loss: 0.2627 - accuracy: 1.0000 - val_loss: 0.7667 - val_accuracy: 1.0000 - 756ms/epoch - 126ms/step\n",
            "Epoch 6/50\n",
            "6/6 - 1s - loss: 0.1222 - accuracy: 1.0000 - val_loss: 0.8175 - val_accuracy: 0.9000 - 753ms/epoch - 125ms/step\n",
            "CPU times: user 28.2 s, sys: 749 ms, total: 29 s\n",
            "Wall time: 26.9 s\n"
          ]
        }
      ],
      "source": [
        "# Unfreeze layers and train\n",
        "%%time\n",
        "for layer in base_model.layers:\n",
        "    layer.trainable = True\n",
        "\n",
        "model.compile(loss=\"sparse_categorical_crossentropy\",\n",
        "                optimizer=keras.optimizers.Nadam(1e-4), # need smaller lr\n",
        "                metrics=[\"accuracy\"])\n",
        "\n",
        "#n_epochs = 1\n",
        "history = model.fit(ds_train,\n",
        "                    epochs=50,\n",
        "                    validation_data=ds_valid, verbose = 2,\n",
        "                    callbacks=[keras.callbacks.EarlyStopping(patience=5)])"
      ]
    },
    {
      "cell_type": "code",
      "execution_count": null,
      "metadata": {
        "colab": {
          "base_uri": "https://localhost:8080/"
        },
        "id": "1v91017xislT",
        "outputId": "744ac907-007e-48f8-d5be-d113bb8db86b"
      },
      "outputs": [
        {
          "output_type": "stream",
          "name": "stdout",
          "text": [
            "7/7 [==============================] - 0s 27ms/step - loss: 0.7138 - accuracy: 0.9650\n"
          ]
        }
      ],
      "source": [
        "history = model.evaluate(ds_test)"
      ]
    },
    {
      "cell_type": "code",
      "execution_count": null,
      "metadata": {
        "id": "CqWwd-IUiugv"
      },
      "outputs": [],
      "source": [
        "y_pred_fine = model.predict(ds_test)\n",
        "predicted_categories = tf.argmax(y_pred_fine, axis=1)\n",
        "true_categories = tf.concat([y for x, y in ds_test], axis=0)\n",
        "#print(predicted_categories, true_categories)"
      ]
    },
    {
      "cell_type": "code",
      "execution_count": null,
      "metadata": {
        "colab": {
          "base_uri": "https://localhost:8080/",
          "height": 874
        },
        "id": "udFXh9yJiyRo",
        "outputId": "54695cde-8ebb-4d67-accf-80c4fda7861a"
      },
      "outputs": [
        {
          "output_type": "execute_result",
          "data": {
            "text/plain": [
              "Text(0.5, 1.0, 'Confusion Matrix on Coarse Label')"
            ]
          },
          "metadata": {},
          "execution_count": 62
        },
        {
          "output_type": "display_data",
          "data": {
            "text/plain": [
              "<Figure size 1080x1080 with 2 Axes>"
            ],
            "image/png": "[encoded data removed]"
          },
          "metadata": {
            "needs_background": "light"
          }
        }
      ],
      "source": [
        "# Confusion matrix\n",
        "\n",
        "from sklearn.metrics import confusion_matrix, ConfusionMatrixDisplay\n",
        "from unicodedata import normalize\n",
        "import itertools\n",
        "\n",
        "cm = confusion_matrix(predicted_categories, true_categories)\n",
        "disp = ConfusionMatrixDisplay(cm, display_labels=np.arange(25))\n",
        "fig, ax = plt.subplots(figsize=(15,15))\n",
        "disp.plot(ax=ax, cmap=plt.cm.Blues)\n",
        "disp.ax_.set_title(\"Confusion Matrix on Coarse Label\")"
      ]
    },
    {
      "cell_type": "code",
      "execution_count": null,
      "metadata": {
        "colab": {
          "base_uri": "https://localhost:8080/",
          "height": 643
        },
        "id": "Xc09E2kMi1Cc",
        "outputId": "2fdb1f95-7bd1-4a96-809b-207901cb8105"
      },
      "outputs": [
        {
          "output_type": "display_data",
          "data": {
            "text/plain": [
              "<Figure size 2880x3600 with 2 Axes>"
            ],
            "image/png": "[encoded data removed]"
          },
          "metadata": {
            "needs_background": "light"
          }
        }
      ],
      "source": [
        "fig, ax = plt.subplots(1, 1, figsize = (40,50))\n",
        "for i in range(33):\n",
        "  if predicted_categories[i] != true_categories[i]:\n",
        "    plt.subplot(9,4,i+1)\n",
        "    plt.imshow(X_test[i])\n",
        "    plt.title(f'predicted image: {predicted_categories[i]}' '\\n' f'Actual image: {true_categories[i]}')\n",
        "#fig.tight_layout()\n",
        "plt.show()"
      ]
    },
    {
      "cell_type": "code",
      "source": [
        "from sklearn import metrics\n",
        "\n",
        "from tensorflow.python.ops.numpy_ops import np_config\n",
        "\n",
        "from itertools import chain \n",
        "TT = list(chain(*true_categories.numpy())) \n",
        "\n",
        "np_config.enable_numpy_behavior()\n",
        "PT = predicted_categories.tolist()\n",
        "\n",
        "\n",
        "labels = TT\n",
        "guesses =PT\n",
        "\n",
        "# True values\n",
        "y_true = TT\n",
        "# Predicted values\n",
        "y_pred = PT\n",
        "\n",
        "# Print the confusion matrix\n",
        "print(metrics.confusion_matrix(y_true, y_pred))\n",
        "\n",
        "# Print the precision and recall, among other metrics\n",
        "print(metrics.classification_report(y_true, y_pred, digits=3))"
      ],
      "metadata": {
        "colab": {
          "base_uri": "https://localhost:8080/"
        },
        "id": "641Hy8mIRVPq",
        "outputId": "6d0b129a-2fc0-408a-aea2-f1ef2037a5b4"
      },
      "execution_count": null,
      "outputs": [
        {
          "output_type": "stream",
          "name": "stdout",
          "text": [
            "[[ 93   7]\n",
            " [  0 100]]\n",
            "              precision    recall  f1-score   support\n",
            "\n",
            "           0      1.000     0.930     0.964       100\n",
            "           1      0.935     1.000     0.966       100\n",
            "\n",
            "    accuracy                          0.965       200\n",
            "   macro avg      0.967     0.965     0.965       200\n",
            "weighted avg      0.967     0.965     0.965       200\n",
            "\n"
          ]
        }
      ]
    },
    {
      "cell_type": "markdown",
      "metadata": {
        "id": "HrRNi6nC4_fC"
      },
      "source": [
        "### Part 4B: Performance on \"similar\" classes\n",
        "Choose your two classes from the same superclass, and repeat analysis.\n",
        "\n",
        "What are your results?"
      ]
    },
    {
      "cell_type": "code",
      "execution_count": null,
      "metadata": {
        "id": "Q-JPvTBh5NM5"
      },
      "outputs": [],
      "source": [
        "# Import modules\n",
        "\n",
        "import numpy as np\n",
        "import pandas as pd\n",
        "import matplotlib.pyplot as plt\n",
        "import tensorflow as tf\n",
        "from tensorflow import keras\n",
        "import itertools\n",
        "import tensorflow_datasets as tfds\n",
        "from sklearn.datasets import make_multilabel_classification\n",
        "\n",
        "from sklearn.model_selection import train_test_split\n",
        "cifar100 = keras.datasets.cifar100\n",
        "np.random.seed(42)\n",
        "tf.random.set_seed(42)"
      ]
    },
    {
      "cell_type": "code",
      "execution_count": null,
      "metadata": {
        "id": "pdJ36O-8jIbO"
      },
      "outputs": [],
      "source": [
        "cifar100 = keras.datasets.cifar100\n",
        "(X_train_full, y_train_full), (X_test, y_test) = cifar100.load_data(label_mode='fine')\n",
        "(_, y_coarse_train), (_, y_coarse_test) =cifar100.load_data(label_mode='coarse')\n",
        "\n",
        "size = 100\n",
        " \n",
        "y_train_full_dup = y_train_full\n",
        "y_test_dup=y_test\n",
        "\n",
        "# Remove single-dimensional entries for labels\n",
        "y_train_full_sq = np.squeeze(y_train_full)\n",
        "y_test_sq = np.squeeze(y_test)\n",
        "y_coarse_train_sq = np.squeeze(y_coarse_train)\n",
        "y_coarse_test_sq = np.squeeze(y_coarse_test)\n",
        "\n",
        "# Define empty matrices \n",
        "X_train_new=np.empty((0,32,32,3))\n",
        "y_train_new=np.empty((0,1))\n",
        "X_test_new=np.empty((0,32,32,3))\n",
        "y_test_new=np.empty((0,1))\n",
        "cls_matrix=np.empty((0,5))\n",
        "\n",
        "# Preparing a class matrix which has all the superclass ordered\n",
        "for i in np.arange(0,20,1): \n",
        "  cls_matrix=np.vstack((cls_matrix,np.unique(y_train_full[y_coarse_train_sq==i])))"
      ]
    },
    {
      "cell_type": "code",
      "execution_count": null,
      "metadata": {
        "id": "JvwXNhe3jQ8F",
        "colab": {
          "base_uri": "https://localhost:8080/"
        },
        "outputId": "eb37dc91-443f-466a-e44b-971b51fce899"
      },
      "outputs": [
        {
          "output_type": "stream",
          "name": "stdout",
          "text": [
            "Two Classes are:\n",
            " [33. 60.]\n"
          ]
        }
      ],
      "source": [
        "two_class_same = np.unique(cls_matrix[10,[1,3]])\n",
        "print('Two Classes are:\\n',two_class_same)\n",
        "\n",
        "\n",
        "sum=0\n",
        "for i in two_class_same:\n",
        "  delta = np.squeeze(y_train_full==i,axis=1)\n",
        "  y_train_full[delta]=sum\n",
        "  X_train_new=np.vstack((X_train_new, X_train_full[delta][0:size]))\n",
        "  y_train_new=np.vstack((y_train_new, y_train_full[delta][0:size]))\n",
        "  sum=sum+1\n",
        "\n",
        "sum=0\n",
        "for i in two_class_same:\n",
        "  delta=np.squeeze(y_test==i,axis=1)\n",
        "  y_test[delta]=sum\n",
        "  X_test_new = np.vstack((X_test_new, X_test[delta]))\n",
        "  y_test_new = np.vstack((y_test_new, y_test[delta]))  \n",
        "  sum=sum+1\n",
        "\n",
        "\n",
        "# Randomize data for training and testing\n",
        "data_points_tr = np.shape(X_train_new)[0]\n",
        "data_random_tr=np.random.permutation(data_points_tr)\n",
        "X_train_new=X_train_new[data_random_tr].astype(int)\n",
        "y_train_new=y_train_new[data_random_tr].astype(int)\n",
        "\n",
        "data_points_test = np.shape(X_test_new)[0]\n",
        "data_random_test=np.random.permutation(data_points_test)\n",
        "X_test_new=X_test_new[data_random_test].astype(int)\n",
        "y_test_new=y_test_new[data_random_test].astype(int)\n",
        "\n",
        "\n",
        "test_size=np.floor(len(two_class_same)*0.1*size).astype(int) # 10% validation size\n",
        "\n",
        "X_train_tr, X_train_v, y_train_tr, y_train_v = train_test_split(X_train_new,\n",
        "                                                                y_train_new,\n",
        "                                                                test_size=test_size)\n",
        "\n",
        "# Convert from numpy data to tf.data.Dataset\n",
        "ds_train = tf.data.Dataset.from_tensor_slices( (X_train_tr, y_train_tr) )\n",
        "ds_valid = tf.data.Dataset.from_tensor_slices((X_train_v, y_train_v))\n",
        "ds_test = tf.data.Dataset.from_tensor_slices((X_test_new, y_test_new))"
      ]
    },
    {
      "cell_type": "code",
      "execution_count": null,
      "metadata": {
        "colab": {
          "base_uri": "https://localhost:8080/",
          "height": 863
        },
        "id": "9uB-Hhq5jVuD",
        "outputId": "1a8955d6-f88f-4dc3-9c4b-b24bd58dabab"
      },
      "outputs": [
        {
          "output_type": "stream",
          "name": "stdout",
          "text": [
            "<TensorSliceDataset element_spec=(TensorSpec(shape=(32, 32, 3), dtype=tf.int64, name=None), TensorSpec(shape=(1,), dtype=tf.int64, name=None))>\n"
          ]
        },
        {
          "output_type": "display_data",
          "data": {
            "text/plain": [
              "<Figure size 432x288 with 1 Axes>"
            ],
            "image/png": "[encoded data removed]"
          },
          "metadata": {
            "needs_background": "light"
          }
        },
        {
          "output_type": "stream",
          "name": "stdout",
          "text": [
            "<TensorSliceDataset element_spec=(TensorSpec(shape=(32, 32, 3), dtype=tf.int64, name=None), TensorSpec(shape=(1,), dtype=tf.int64, name=None))>\n"
          ]
        },
        {
          "output_type": "display_data",
          "data": {
            "text/plain": [
              "<Figure size 432x288 with 1 Axes>"
            ],
            "image/png": "[encoded data removed]"
          },
          "metadata": {
            "needs_background": "light"
          }
        },
        {
          "output_type": "stream",
          "name": "stdout",
          "text": [
            "<TensorSliceDataset element_spec=(TensorSpec(shape=(32, 32, 3), dtype=tf.int64, name=None), TensorSpec(shape=(1,), dtype=tf.int64, name=None))>\n"
          ]
        },
        {
          "output_type": "display_data",
          "data": {
            "text/plain": [
              "<Figure size 432x288 with 1 Axes>"
            ],
            "image/png": "[encoded data removed]"
          },
          "metadata": {
            "needs_background": "light"
          }
        }
      ],
      "source": [
        "for element in ds_train.take(3):\n",
        "  image, label = element[0], element[1] # now its coarse\n",
        "  image.shape\n",
        "#  type(image.numpy()[:,:,0])\n",
        "#  type(image)\n",
        "  plt.imshow(image.numpy()[:,:,0])\n",
        "  type(image.numpy())\n",
        "  type(label)\n",
        "  print(ds_train)\n",
        "  #coarse_id_fine_id[id] = fine_labels_ids\n",
        "  plt.title(\"Class\" + \" \" +str(label.numpy()))\n",
        "  plt.show()"
      ]
    },
    {
      "cell_type": "code",
      "execution_count": null,
      "metadata": {
        "id": "8lHlOJOzjbjV"
      },
      "outputs": [],
      "source": [
        "# Build pipeline\n",
        "batch = 32\n",
        "\n",
        "def preprocess(image, label):\n",
        "  image = tf.image.resize(image,[224,224])\n",
        "  #label = tf.label_mode(int(\"coarse\"))\n",
        "  return (image, label)\n",
        "\n",
        "\n",
        "def data_aug(image, label):\n",
        "  image = tf.image.random_flip_left_right(image)\n",
        "  image = tf.image.random_brightness(image, max_delta=63)\n",
        "  image = tf.image.random_contrast(image, lower=0.2, upper=1.8)\n",
        "  return (image, label)\n",
        "#image.shape \n",
        "\n",
        "ds_train=ds_train.map(preprocess).map(data_aug).batch(32).prefetch(1)\n",
        "ds_valid=ds_valid.map(preprocess).batch(32).prefetch(1)\n",
        "ds_test=ds_test.map(preprocess).batch(32).prefetch(1)"
      ]
    },
    {
      "cell_type": "code",
      "execution_count": null,
      "metadata": {
        "id": "3ssBxYWojfUF"
      },
      "outputs": [],
      "source": [
        "# Use EfficientNet V2\n",
        "base_model = keras.applications.EfficientNetV2B0(weights=\"imagenet\", \n",
        "                                              include_top=False,\n",
        "                                             input_shape=(224,224,3))\n",
        "global_avg = keras.layers.GlobalAveragePooling2D()(base_model.output)\n",
        "dropout = keras.layers.Dropout(0.005)(global_avg) \n",
        "output = keras.layers.Dense(100, activation=\"softmax\")(dropout)\n",
        "model = keras.models.Model(inputs=base_model.input, outputs=output)"
      ]
    },
    {
      "cell_type": "code",
      "execution_count": null,
      "metadata": {
        "colab": {
          "base_uri": "https://localhost:8080/"
        },
        "id": "n3kECSQDjiTF",
        "outputId": "99d75a86-6a53-4aec-b947-e05fb3847537"
      },
      "outputs": [
        {
          "output_type": "stream",
          "name": "stdout",
          "text": [
            "Epoch 1/50\n",
            "6/6 - 7s - loss: 3.9601 - accuracy: 0.2611 - val_loss: 3.1952 - val_accuracy: 0.3500 - 7s/epoch - 1s/step\n",
            "Epoch 2/50\n",
            "6/6 - 0s - loss: 2.5905 - accuracy: 0.6278 - val_loss: 1.9312 - val_accuracy: 0.5500 - 245ms/epoch - 41ms/step\n",
            "Epoch 3/50\n",
            "6/6 - 0s - loss: 1.4933 - accuracy: 0.7389 - val_loss: 1.1024 - val_accuracy: 0.8500 - 246ms/epoch - 41ms/step\n",
            "Epoch 4/50\n",
            "6/6 - 0s - loss: 0.8797 - accuracy: 0.8556 - val_loss: 0.6866 - val_accuracy: 0.9000 - 245ms/epoch - 41ms/step\n",
            "Epoch 5/50\n",
            "6/6 - 0s - loss: 0.5908 - accuracy: 0.9167 - val_loss: 0.4830 - val_accuracy: 0.9000 - 248ms/epoch - 41ms/step\n",
            "Epoch 6/50\n",
            "6/6 - 0s - loss: 0.4481 - accuracy: 0.9278 - val_loss: 0.3740 - val_accuracy: 0.9500 - 246ms/epoch - 41ms/step\n",
            "Epoch 7/50\n",
            "6/6 - 0s - loss: 0.3668 - accuracy: 0.9389 - val_loss: 0.3100 - val_accuracy: 0.9500 - 250ms/epoch - 42ms/step\n",
            "Epoch 8/50\n",
            "6/6 - 0s - loss: 0.3136 - accuracy: 0.9444 - val_loss: 0.2684 - val_accuracy: 0.9500 - 250ms/epoch - 42ms/step\n",
            "Epoch 9/50\n",
            "6/6 - 0s - loss: 0.2764 - accuracy: 0.9444 - val_loss: 0.2397 - val_accuracy: 0.9500 - 250ms/epoch - 42ms/step\n",
            "Epoch 10/50\n",
            "6/6 - 0s - loss: 0.2475 - accuracy: 0.9444 - val_loss: 0.2182 - val_accuracy: 0.9500 - 245ms/epoch - 41ms/step\n",
            "Epoch 11/50\n",
            "6/6 - 0s - loss: 0.2265 - accuracy: 0.9500 - val_loss: 0.2011 - val_accuracy: 0.9500 - 249ms/epoch - 41ms/step\n",
            "Epoch 12/50\n",
            "6/6 - 0s - loss: 0.2076 - accuracy: 0.9556 - val_loss: 0.1877 - val_accuracy: 0.9500 - 244ms/epoch - 41ms/step\n",
            "Epoch 13/50\n",
            "6/6 - 0s - loss: 0.1928 - accuracy: 0.9611 - val_loss: 0.1764 - val_accuracy: 0.9500 - 248ms/epoch - 41ms/step\n",
            "Epoch 14/50\n",
            "6/6 - 0s - loss: 0.1803 - accuracy: 0.9611 - val_loss: 0.1666 - val_accuracy: 0.9500 - 247ms/epoch - 41ms/step\n",
            "Epoch 15/50\n",
            "6/6 - 0s - loss: 0.1693 - accuracy: 0.9611 - val_loss: 0.1581 - val_accuracy: 0.9500 - 250ms/epoch - 42ms/step\n",
            "Epoch 16/50\n",
            "6/6 - 0s - loss: 0.1606 - accuracy: 0.9611 - val_loss: 0.1510 - val_accuracy: 0.9500 - 248ms/epoch - 41ms/step\n",
            "Epoch 17/50\n",
            "6/6 - 0s - loss: 0.1517 - accuracy: 0.9667 - val_loss: 0.1447 - val_accuracy: 0.9500 - 246ms/epoch - 41ms/step\n",
            "Epoch 18/50\n",
            "6/6 - 0s - loss: 0.1441 - accuracy: 0.9667 - val_loss: 0.1390 - val_accuracy: 0.9500 - 254ms/epoch - 42ms/step\n",
            "Epoch 19/50\n",
            "6/6 - 0s - loss: 0.1364 - accuracy: 0.9667 - val_loss: 0.1336 - val_accuracy: 0.9500 - 252ms/epoch - 42ms/step\n",
            "Epoch 20/50\n",
            "6/6 - 0s - loss: 0.1297 - accuracy: 0.9722 - val_loss: 0.1288 - val_accuracy: 0.9500 - 249ms/epoch - 42ms/step\n",
            "Epoch 21/50\n",
            "6/6 - 0s - loss: 0.1253 - accuracy: 0.9722 - val_loss: 0.1244 - val_accuracy: 0.9500 - 251ms/epoch - 42ms/step\n",
            "Epoch 22/50\n",
            "6/6 - 0s - loss: 0.1198 - accuracy: 0.9722 - val_loss: 0.1204 - val_accuracy: 0.9500 - 249ms/epoch - 42ms/step\n",
            "Epoch 23/50\n",
            "6/6 - 0s - loss: 0.1144 - accuracy: 0.9722 - val_loss: 0.1167 - val_accuracy: 0.9500 - 246ms/epoch - 41ms/step\n",
            "Epoch 24/50\n",
            "6/6 - 0s - loss: 0.1102 - accuracy: 0.9722 - val_loss: 0.1133 - val_accuracy: 0.9500 - 248ms/epoch - 41ms/step\n",
            "Epoch 25/50\n",
            "6/6 - 0s - loss: 0.1065 - accuracy: 0.9722 - val_loss: 0.1100 - val_accuracy: 0.9500 - 244ms/epoch - 41ms/step\n",
            "Epoch 26/50\n",
            "6/6 - 0s - loss: 0.1023 - accuracy: 0.9778 - val_loss: 0.1069 - val_accuracy: 0.9500 - 247ms/epoch - 41ms/step\n",
            "Epoch 27/50\n",
            "6/6 - 0s - loss: 0.0984 - accuracy: 0.9778 - val_loss: 0.1041 - val_accuracy: 0.9500 - 244ms/epoch - 41ms/step\n",
            "Epoch 28/50\n",
            "6/6 - 0s - loss: 0.0949 - accuracy: 0.9778 - val_loss: 0.1017 - val_accuracy: 0.9500 - 250ms/epoch - 42ms/step\n",
            "Epoch 29/50\n",
            "6/6 - 0s - loss: 0.0913 - accuracy: 0.9778 - val_loss: 0.0991 - val_accuracy: 0.9500 - 244ms/epoch - 41ms/step\n",
            "Epoch 30/50\n",
            "6/6 - 0s - loss: 0.0892 - accuracy: 0.9778 - val_loss: 0.0965 - val_accuracy: 0.9500 - 246ms/epoch - 41ms/step\n",
            "Epoch 31/50\n",
            "6/6 - 0s - loss: 0.0864 - accuracy: 0.9778 - val_loss: 0.0942 - val_accuracy: 0.9500 - 247ms/epoch - 41ms/step\n",
            "Epoch 32/50\n",
            "6/6 - 0s - loss: 0.0826 - accuracy: 0.9778 - val_loss: 0.0922 - val_accuracy: 0.9500 - 246ms/epoch - 41ms/step\n",
            "Epoch 33/50\n",
            "6/6 - 0s - loss: 0.0803 - accuracy: 0.9778 - val_loss: 0.0903 - val_accuracy: 0.9500 - 247ms/epoch - 41ms/step\n",
            "Epoch 34/50\n",
            "6/6 - 0s - loss: 0.0779 - accuracy: 0.9778 - val_loss: 0.0882 - val_accuracy: 0.9500 - 251ms/epoch - 42ms/step\n",
            "Epoch 35/50\n",
            "6/6 - 0s - loss: 0.0763 - accuracy: 0.9778 - val_loss: 0.0864 - val_accuracy: 0.9500 - 244ms/epoch - 41ms/step\n",
            "Epoch 36/50\n",
            "6/6 - 0s - loss: 0.0735 - accuracy: 0.9833 - val_loss: 0.0847 - val_accuracy: 0.9500 - 244ms/epoch - 41ms/step\n",
            "Epoch 37/50\n",
            "6/6 - 0s - loss: 0.0706 - accuracy: 0.9833 - val_loss: 0.0830 - val_accuracy: 0.9500 - 246ms/epoch - 41ms/step\n",
            "Epoch 38/50\n",
            "6/6 - 0s - loss: 0.0685 - accuracy: 0.9833 - val_loss: 0.0812 - val_accuracy: 0.9500 - 244ms/epoch - 41ms/step\n",
            "Epoch 39/50\n",
            "6/6 - 0s - loss: 0.0690 - accuracy: 0.9778 - val_loss: 0.0795 - val_accuracy: 0.9500 - 243ms/epoch - 41ms/step\n",
            "Epoch 40/50\n",
            "6/6 - 0s - loss: 0.0662 - accuracy: 0.9833 - val_loss: 0.0781 - val_accuracy: 0.9500 - 243ms/epoch - 41ms/step\n",
            "Epoch 41/50\n",
            "6/6 - 0s - loss: 0.0638 - accuracy: 0.9889 - val_loss: 0.0766 - val_accuracy: 0.9500 - 243ms/epoch - 40ms/step\n",
            "Epoch 42/50\n",
            "6/6 - 0s - loss: 0.0622 - accuracy: 0.9889 - val_loss: 0.0752 - val_accuracy: 0.9500 - 245ms/epoch - 41ms/step\n",
            "Epoch 43/50\n",
            "6/6 - 0s - loss: 0.0602 - accuracy: 0.9889 - val_loss: 0.0740 - val_accuracy: 0.9500 - 247ms/epoch - 41ms/step\n",
            "Epoch 44/50\n",
            "6/6 - 0s - loss: 0.0589 - accuracy: 0.9889 - val_loss: 0.0729 - val_accuracy: 0.9500 - 243ms/epoch - 41ms/step\n",
            "Epoch 45/50\n",
            "6/6 - 0s - loss: 0.0574 - accuracy: 0.9944 - val_loss: 0.0718 - val_accuracy: 0.9500 - 246ms/epoch - 41ms/step\n",
            "Epoch 46/50\n",
            "6/6 - 0s - loss: 0.0556 - accuracy: 0.9944 - val_loss: 0.0704 - val_accuracy: 0.9500 - 244ms/epoch - 41ms/step\n",
            "Epoch 47/50\n",
            "6/6 - 0s - loss: 0.0545 - accuracy: 0.9944 - val_loss: 0.0694 - val_accuracy: 0.9500 - 242ms/epoch - 40ms/step\n",
            "Epoch 48/50\n",
            "6/6 - 0s - loss: 0.0521 - accuracy: 1.0000 - val_loss: 0.0683 - val_accuracy: 0.9500 - 244ms/epoch - 41ms/step\n",
            "Epoch 49/50\n",
            "6/6 - 0s - loss: 0.0522 - accuracy: 0.9944 - val_loss: 0.0669 - val_accuracy: 0.9500 - 248ms/epoch - 41ms/step\n",
            "Epoch 50/50\n",
            "6/6 - 0s - loss: 0.0509 - accuracy: 1.0000 - val_loss: 0.0658 - val_accuracy: 0.9500 - 243ms/epoch - 41ms/step\n",
            "CPU times: user 30.5 s, sys: 1.9 s, total: 32.4 s\n",
            "Wall time: 21.1 s\n"
          ]
        }
      ],
      "source": [
        "# Freeze transferred layers and train\n",
        "%%time\n",
        "for layer in base_model.layers:\n",
        "    layer.trainable = False\n",
        "\n",
        "model.compile(loss=\"sparse_categorical_crossentropy\",\n",
        "                optimizer=keras.optimizers.Nadam(1e-3),\n",
        "                metrics=[\"accuracy\"])\n",
        "\n",
        "history = model.fit(ds_train, \n",
        "                    epochs=50, validation_data=ds_valid, verbose = 2,\n",
        "                    callbacks=[keras.callbacks.EarlyStopping(patience=5)])"
      ]
    },
    {
      "cell_type": "code",
      "execution_count": null,
      "metadata": {
        "colab": {
          "base_uri": "https://localhost:8080/"
        },
        "id": "mtOvT0Lujo2V",
        "outputId": "b43b2dff-b938-4f72-b14a-d660d6a7f043"
      },
      "outputs": [
        {
          "output_type": "stream",
          "name": "stdout",
          "text": [
            "Epoch 1/50\n",
            "6/6 - 24s - loss: 5.8120 - accuracy: 0.1778 - val_loss: 0.1536 - val_accuracy: 1.0000 - 24s/epoch - 4s/step\n",
            "Epoch 2/50\n",
            "6/6 - 1s - loss: 3.9952 - accuracy: 0.5222 - val_loss: 0.5184 - val_accuracy: 1.0000 - 752ms/epoch - 125ms/step\n",
            "Epoch 3/50\n",
            "6/6 - 1s - loss: 2.2232 - accuracy: 0.9000 - val_loss: 0.6834 - val_accuracy: 1.0000 - 757ms/epoch - 126ms/step\n",
            "Epoch 4/50\n",
            "6/6 - 1s - loss: 0.8967 - accuracy: 0.9889 - val_loss: 0.4971 - val_accuracy: 1.0000 - 756ms/epoch - 126ms/step\n",
            "Epoch 5/50\n",
            "6/6 - 1s - loss: 0.3315 - accuracy: 0.9889 - val_loss: 0.3419 - val_accuracy: 1.0000 - 754ms/epoch - 126ms/step\n",
            "Epoch 6/50\n",
            "6/6 - 1s - loss: 0.1548 - accuracy: 0.9944 - val_loss: 0.2771 - val_accuracy: 0.9500 - 756ms/epoch - 126ms/step\n",
            "CPU times: user 28.9 s, sys: 790 ms, total: 29.7 s\n",
            "Wall time: 27.7 s\n"
          ]
        }
      ],
      "source": [
        "# Unfreeze layers and train\n",
        "%%time\n",
        "for layer in base_model.layers:\n",
        "    layer.trainable = True\n",
        "\n",
        "model.compile(loss=\"sparse_categorical_crossentropy\",\n",
        "                optimizer=keras.optimizers.Nadam(1e-4), # need smaller lr\n",
        "                metrics=[\"accuracy\"])\n",
        "\n",
        "#n_epochs = 1\n",
        "history = model.fit(ds_train,\n",
        "                    epochs=50,\n",
        "                    validation_data=ds_valid, verbose = 2,\n",
        "                    callbacks=[keras.callbacks.EarlyStopping(patience=5)])"
      ]
    },
    {
      "cell_type": "code",
      "execution_count": null,
      "metadata": {
        "colab": {
          "base_uri": "https://localhost:8080/"
        },
        "id": "Cg40bOZUjqcr",
        "outputId": "d4f3884b-ae9c-4587-c5c2-39eca6f49661"
      },
      "outputs": [
        {
          "output_type": "stream",
          "name": "stdout",
          "text": [
            "7/7 [==============================] - 0s 29ms/step - loss: 0.3974 - accuracy: 0.9100\n"
          ]
        }
      ],
      "source": [
        "history = model.evaluate(ds_test)"
      ]
    },
    {
      "cell_type": "code",
      "execution_count": null,
      "metadata": {
        "id": "_96Nbs6hjtbR"
      },
      "outputs": [],
      "source": [
        "y_pred_fine = model.predict(ds_test)\n",
        "predicted_categories = tf.argmax(y_pred_fine, axis=1)\n",
        "true_categories = tf.concat([y for x, y in ds_test], axis=0)\n",
        "#print(predicted_categories, true_categories)"
      ]
    },
    {
      "cell_type": "code",
      "execution_count": null,
      "metadata": {
        "colab": {
          "base_uri": "https://localhost:8080/",
          "height": 874
        },
        "id": "Nq_kNlzJjvP6",
        "outputId": "e2611209-d514-42ad-f5d9-0877b07a203f"
      },
      "outputs": [
        {
          "output_type": "execute_result",
          "data": {
            "text/plain": [
              "Text(0.5, 1.0, 'Confusion Matrix on Coarse Label')"
            ]
          },
          "metadata": {},
          "execution_count": 89
        },
        {
          "output_type": "display_data",
          "data": {
            "text/plain": [
              "<Figure size 1080x1080 with 2 Axes>"
            ],
            "image/png": "[encoded data removed]"
          },
          "metadata": {
            "needs_background": "light"
          }
        }
      ],
      "source": [
        "# Confusion matrix\n",
        "\n",
        "from sklearn.metrics import confusion_matrix, ConfusionMatrixDisplay\n",
        "from unicodedata import normalize\n",
        "import itertools\n",
        "\n",
        "cm = confusion_matrix(predicted_categories, true_categories)\n",
        "disp = ConfusionMatrixDisplay(cm, display_labels=np.arange(25))\n",
        "fig, ax = plt.subplots(figsize=(15,15))\n",
        "disp.plot(ax=ax, cmap=plt.cm.Blues)\n",
        "disp.ax_.set_title(\"Confusion Matrix on Coarse Label\")"
      ]
    },
    {
      "cell_type": "code",
      "execution_count": null,
      "metadata": {
        "colab": {
          "base_uri": "https://localhost:8080/",
          "height": 309
        },
        "id": "mI-KCAStjxoG",
        "outputId": "66ceddf0-e249-4eff-abb2-4cbb068521b1"
      },
      "outputs": [
        {
          "output_type": "display_data",
          "data": {
            "text/plain": [
              "<Figure size 2880x3600 with 1 Axes>"
            ],
            "image/png": "[encoded data removed]"
          },
          "metadata": {
            "needs_background": "light"
          }
        }
      ],
      "source": [
        "fig, ax = plt.subplots(1, 1, figsize = (40,50))\n",
        "for i in range(4,9):\n",
        "  if predicted_categories[i] != true_categories[i]:\n",
        "    plt.subplot(10,3,i+1)\n",
        "    plt.imshow(X_test[i])\n",
        "    plt.title(f'predicted image: {predicted_categories[i]}' '\\n' f'Actual image: {true_categories[i]}')\n",
        "#fig.tight_layout()\n",
        "plt.show()"
      ]
    },
    {
      "cell_type": "code",
      "source": [
        "from sklearn import metrics\n",
        "\n",
        "from tensorflow.python.ops.numpy_ops import np_config\n",
        "\n",
        "from itertools import chain \n",
        "TT = list(chain(*true_categories.numpy())) \n",
        "\n",
        "np_config.enable_numpy_behavior()\n",
        "PT = predicted_categories.tolist()\n",
        "\n",
        "\n",
        "labels = TT\n",
        "guesses =PT\n",
        "\n",
        "# True values\n",
        "y_true = TT\n",
        "# Predicted values\n",
        "y_pred = PT\n",
        "\n",
        "# Print the confusion matrix\n",
        "print(metrics.confusion_matrix(y_true, y_pred))\n",
        "\n",
        "# Print the precision and recall, among other metrics\n",
        "print(metrics.classification_report(y_true, y_pred, digits=3))"
      ],
      "metadata": {
        "colab": {
          "base_uri": "https://localhost:8080/"
        },
        "id": "yj23YrtsRdO2",
        "outputId": "78fdd8ba-7b3a-4355-8b02-bc14bc4f258a"
      },
      "execution_count": null,
      "outputs": [
        {
          "output_type": "stream",
          "name": "stdout",
          "text": [
            "[[ 82  18]\n",
            " [  0 100]]\n",
            "              precision    recall  f1-score   support\n",
            "\n",
            "           0      1.000     0.820     0.901       100\n",
            "           1      0.847     1.000     0.917       100\n",
            "\n",
            "    accuracy                          0.910       200\n",
            "   macro avg      0.924     0.910     0.909       200\n",
            "weighted avg      0.924     0.910     0.909       200\n",
            "\n"
          ]
        }
      ]
    },
    {
      "cell_type": "code",
      "execution_count": null,
      "metadata": {
        "id": "_JL_4_Ux5hkS"
      },
      "outputs": [],
      "source": []
    },
    {
      "cell_type": "markdown",
      "metadata": {
        "id": "YeE_rBFC5No5"
      },
      "source": [
        "## Question 5: Summarize your findings\n",
        "Are there any mathematical relationships between number of classes, accuracy, and number of images used in training data? Did it make a difference if the classes were different or similar? Provide any other analyses or interesting insights."
      ]
    },
    {
      "cell_type": "code",
      "source": [
        "\n"
      ],
      "metadata": {
        "id": "amnzSwfpe5v7"
      },
      "execution_count": null,
      "outputs": []
    },
    {
      "cell_type": "markdown",
      "source": [
        "In this project, I have built up the same pipeline along with the same transfer learning model for all of the cases. In each case, the data has varied in the number of classes along with datasets. For each case, I have analyzed accuracy, precision, recall, f-score, and macro-average metrics to define the changes within the cases. \n",
        "If I consider the number of classes vs model accuracy, I can see that accuracy increases with the increment of the number of classes.\n",
        "\n",
        "For two classes (4A): accuracy: 96.5%\n",
        "\n",
        "For five classes (3A): accuracy: 90.6%\n",
        "\n",
        "For 19-classes- 2000 images (2A): accuracy: 88.9%\n",
        "\n",
        "For 19-classes-10000 images (19-class, 1): accuracy: 89.6%%\n",
        "\n",
        "For 100-classes (all-class, 1): accuracy: 81.4%\n",
        "\n",
        "With the increment in the number of classes, the model analysis becomes more complex, which results in a decrement in the model accuracy. Even if I consider the macro averaging in precision, I can find the difference for each case.\n",
        "\n",
        "For two classes (4A): macro-averaging: 96.7%\n",
        "\n",
        "For five classes (3A): macro-averaging: 90.7%\n",
        "\n",
        "For 19-classes (2A): macro-averaging: 89.1%\n",
        "\n",
        "For 100-classes (all-class, 1): macro-averaging: 81.7%\n",
        "\n",
        "If I focus on the number of data, we can also find the classification metrics differences between them. With the increment of the number of images. As the sample size increases, the model has to go through lots of decision procedures which results showing less accuracy of the model. For example—\n",
        "\n",
        "For 200 images (4A): accuracy: 96.5%\n",
        "\n",
        "For 500 images (3A): accuracy: 90.6%\n",
        "\n",
        "For 2,000 images (2A): accuracy: 88.9%\n",
        "\n",
        "For 10,000 images (19-class): accuracy: 89.6%\n",
        "\n",
        "For 10,000 images (all-class): accuracy: 81.4%\n",
        "\n",
        "The interesting fact is that, while I am analyzing those classification metrics, I have found that together with classes and the number of images the classification metrics vary a lot. For example—\n",
        "\n",
        "For 19-classes- 2000 images (2A): accuracy: 88.9%\n",
        "\n",
        "For 19-classes-10000 images (19-class, 1): accuracy: 89.6%\n",
        "\n",
        "For 100-classes-10000 images (all-class, 1): accuracy: 81.4%\n",
        "\n",
        "With increasing the number of images in the same number of classes, the model accuracy has increased by about 8%. On the other hand, by the increment of the number of classes for the same number of images, the model accuracy has decreased by about 9%. However, for better model evaluation, both the number of images and the number of classes should be increased."
      ],
      "metadata": {
        "id": "mOaxnBe1fJuh"
      }
    }
  ],
  "metadata": {
    "accelerator": "GPU",
    "colab": {
      "collapsed_sections": [
        "gple3Yuxem1H",
        "YeE_rBFC5No5"
      ],
      "machine_shape": "hm",
      "provenance": []
    },
    "kernelspec": {
      "display_name": "Python 3",
      "name": "python3"
    }
  },
  "nbformat": 4,
  "nbformat_minor": 0
}